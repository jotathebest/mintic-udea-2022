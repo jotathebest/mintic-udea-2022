{
  "nbformat": 4,
  "nbformat_minor": 0,
  "metadata": {
    "colab": {
      "name": "numpy_16_05_2022.ipynb",
      "provenance": []
    },
    "kernelspec": {
      "name": "python3",
      "display_name": "Python 3"
    },
    "language_info": {
      "name": "python"
    }
  },
  "cells": [
    {
      "cell_type": "code",
      "execution_count": 1,
      "metadata": {
        "id": "sa2FOwkfOqVb",
        "colab": {
          "base_uri": "https://localhost:8080/"
        },
        "outputId": "dbd0b4ee-fabe-484b-d47b-68c800d6a7e2"
      },
      "outputs": [
        {
          "output_type": "stream",
          "name": "stdout",
          "text": [
            "[11 11  3  6  5]\n",
            "[ 2  3  7  2 12]\n"
          ]
        }
      ],
      "source": [
        "# Create two random vectors, one to store the goals (from zero to 20) and\n",
        "# another one to store the assistances (from 0 to 10)\n",
        "import numpy as np\n",
        "\n",
        "names = [\"Roberto Firminho\", \"Harry Kane\", \"Lionel Messi\", \"Luis Diaz\", \"Lorenzo Insigne\"]\n",
        "nationalities = [\"Brazil\", \"England\", \"Argentina\", \"Colombia\", \"Italia\"]\n",
        "goals_vect = np.random.randint(0, 15, size=(5, ))\n",
        "assistance_vect = np.random.randint(0, 20, size=(5, ))\n",
        "\n",
        "print(goals_vect)\n",
        "print(assistance_vect)"
      ]
    },
    {
      "cell_type": "code",
      "source": [
        "my_list = [\"Jose garcia\", \"Carolina Martinez\"]\n",
        "my_vector = np.array([my_list])\n",
        "names_column = my_vector.T\n",
        "print(names_column)"
      ],
      "metadata": {
        "colab": {
          "base_uri": "https://localhost:8080/"
        },
        "id": "SLSNbUE5hR8e",
        "outputId": "b090fa93-2fb4-4e07-fc01-a0da0280518c"
      },
      "execution_count": 2,
      "outputs": [
        {
          "output_type": "stream",
          "name": "stdout",
          "text": [
            "[['Jose garcia']\n",
            " ['Carolina Martinez']]\n"
          ]
        }
      ]
    },
    {
      "cell_type": "code",
      "source": [
        "my_cities_list = [\"Medellin\", \"Bucaramanga\"]\n",
        "my_cities_vector = np.array([my_cities_list])\n",
        "my_cities_column = my_cities_vector.T\n",
        "print(my_cities_column)"
      ],
      "metadata": {
        "colab": {
          "base_uri": "https://localhost:8080/"
        },
        "id": "_hW9qY-xjcOO",
        "outputId": "c2985217-2f94-4227-f747-4a5fd892c1c8"
      },
      "execution_count": 3,
      "outputs": [
        {
          "output_type": "stream",
          "name": "stdout",
          "text": [
            "[['Medellin']\n",
            " ['Bucaramanga']]\n"
          ]
        }
      ]
    },
    {
      "cell_type": "code",
      "source": [
        "result = np.concatenate([names_column, my_cities_column], axis=1)\n",
        "print(result)"
      ],
      "metadata": {
        "colab": {
          "base_uri": "https://localhost:8080/"
        },
        "id": "1sOibPE8jtUo",
        "outputId": "a4fa2ea3-58dd-4c04-e96a-48043c7d9ef8"
      },
      "execution_count": 4,
      "outputs": [
        {
          "output_type": "stream",
          "name": "stdout",
          "text": [
            "[['Jose garcia' 'Medellin']\n",
            " ['Carolina Martinez' 'Bucaramanga']]\n"
          ]
        }
      ]
    },
    {
      "cell_type": "code",
      "source": [
        "# Create the names and nationalities columns from the names and nationalities lists\n",
        "# value using the vector's transpose\n",
        "names_column = np.array([names]).T\n",
        "nationalities_column = np.array([nationalities]).T\n",
        "\n",
        "#print(names_column)\n",
        "#print(nationalities_column)\n",
        "\n",
        "# Concatenate the columns to create an unique matrix\n",
        "data_matrix = np.concatenate([names_column, nationalities_column], axis=1)\n",
        "print(data_matrix)"
      ],
      "metadata": {
        "id": "TL8H7JitPGu2",
        "colab": {
          "base_uri": "https://localhost:8080/"
        },
        "outputId": "a4aaf9b5-cf46-47f2-f390-25411625e8b1"
      },
      "execution_count": 5,
      "outputs": [
        {
          "output_type": "stream",
          "name": "stdout",
          "text": [
            "[['Roberto Firminho' 'Brazil']\n",
            " ['Harry Kane' 'England']\n",
            " ['Lionel Messi' 'Argentina']\n",
            " ['Luis Diaz' 'Colombia']\n",
            " ['Lorenzo Insigne' 'Italia']]\n"
          ]
        }
      ]
    },
    {
      "cell_type": "code",
      "source": [
        "# Create the goals and assistances columns from the names and nationalities lists\n",
        "# value using the vector's transpose\n",
        "goals_column = np.array([goals_vect]).T\n",
        "assistance_column = np.array([assistance_vect]).T\n",
        "\n",
        "\n",
        "# Concatenate the columns to create an unique matrix\n",
        "#data_matrix = np.concatenate([names_column, nationalities_column, goals_column, assistance_column], axis=1)\n",
        "data_matrix = np.concatenate([data_matrix, goals_column, assistance_column], axis=1)\n",
        "print(data_matrix)"
      ],
      "metadata": {
        "id": "D-_BZKVyPevX",
        "colab": {
          "base_uri": "https://localhost:8080/"
        },
        "outputId": "e395e7bb-b806-4984-bfa5-d699a5ecb9b6"
      },
      "execution_count": 6,
      "outputs": [
        {
          "output_type": "stream",
          "name": "stdout",
          "text": [
            "[['Roberto Firminho' 'Brazil' '11' '2']\n",
            " ['Harry Kane' 'England' '11' '3']\n",
            " ['Lionel Messi' 'Argentina' '3' '7']\n",
            " ['Luis Diaz' 'Colombia' '6' '2']\n",
            " ['Lorenzo Insigne' 'Italia' '5' '12']]\n"
          ]
        }
      ]
    },
    {
      "cell_type": "code",
      "source": [
        "test_matrix = np.array([\n",
        "                        [\"jose\", 20, 30, \"garcia\"],\n",
        "                        [\"carolina\", 30, 50, \"perez\"],\n",
        "                        [\"jesus\", 40, 60, \"perez\"],\n",
        "                        [\"antonio\", 10, 80, \"hincapie\"],\n",
        "])\n",
        "result = test_matrix[:, [1, 2]]\n",
        "print(result)"
      ],
      "metadata": {
        "colab": {
          "base_uri": "https://localhost:8080/"
        },
        "id": "gyWNxxNnowMA",
        "outputId": "696d31bc-6ffc-46f3-dfe8-3154c408869f"
      },
      "execution_count": 7,
      "outputs": [
        {
          "output_type": "stream",
          "name": "stdout",
          "text": [
            "[['20' '30']\n",
            " ['30' '50']\n",
            " ['40' '60']\n",
            " ['10' '80']]\n"
          ]
        }
      ]
    },
    {
      "cell_type": "code",
      "source": [
        "# Create a new matrix that contains only the columns of goals and assistances\n",
        "\n",
        "work_data = data_matrix[:, [2, 3]]\n",
        "print(work_data)\n",
        "\n",
        "# Cast the matrix to store only int values\n",
        "work_data = np.array(work_data, dtype=np.int64)\n",
        "print(work_data)"
      ],
      "metadata": {
        "id": "QgTDL0gdPmec",
        "colab": {
          "base_uri": "https://localhost:8080/"
        },
        "outputId": "63c0848b-7086-48de-a146-bcb30bbcb776"
      },
      "execution_count": 8,
      "outputs": [
        {
          "output_type": "stream",
          "name": "stdout",
          "text": [
            "[['11' '2']\n",
            " ['11' '3']\n",
            " ['3' '7']\n",
            " ['6' '2']\n",
            " ['5' '12']]\n",
            "[[11  2]\n",
            " [11  3]\n",
            " [ 3  7]\n",
            " [ 6  2]\n",
            " [ 5 12]]\n"
          ]
        }
      ]
    },
    {
      "cell_type": "code",
      "source": [
        "matrix = np.array([\n",
        "    [3, 4, 5, 6],\n",
        "    [30, 40, 1, 2],\n",
        "    [27, 7, 50, 90],\n",
        "]\n",
        ")\n",
        "result_without_axis = np.amax(matrix)\n",
        "print(matrix)\n",
        "print(result_without_axis)\n",
        "\n",
        "result_with_axis_0 = np.amax(matrix, axis=0)\n",
        "print(f\"result with axis=0: {result_with_axis_0}\")\n",
        "\n",
        "result_with_axis_1 = np.amax(matrix, axis=1)\n",
        "print(f\"result with axis=1: {result_with_axis_1}\")"
      ],
      "metadata": {
        "colab": {
          "base_uri": "https://localhost:8080/"
        },
        "id": "vxGf69AKcI2u",
        "outputId": "b67d6eb4-7012-4618-a245-26ec08187472"
      },
      "execution_count": 15,
      "outputs": [
        {
          "output_type": "stream",
          "name": "stdout",
          "text": [
            "[[ 3  4  5  6]\n",
            " [30 40  1  2]\n",
            " [27  7 50 90]]\n",
            "90\n",
            "result with axis=0: [30 40 50 90]\n",
            "result with axis=1: [ 6 40 90]\n"
          ]
        }
      ]
    },
    {
      "cell_type": "code",
      "source": [
        "# find the best scorer and assistant\n",
        "\n",
        "max_values = np.amax(work_data, axis=0)\n",
        "print(max_values)\n",
        "\n",
        "highest_score = max_values[0]\n",
        "highest_assistance = max_values[1]\n",
        "\n",
        "print(f\"max score value: {highest_score}\")\n",
        "print(f\"max assistance value: {highest_assistance}\")"
      ],
      "metadata": {
        "id": "N5nTTOkqP1eB",
        "colab": {
          "base_uri": "https://localhost:8080/"
        },
        "outputId": "8b724fda-2f83-441d-d4be-11fdfb4cae80"
      },
      "execution_count": 17,
      "outputs": [
        {
          "output_type": "stream",
          "name": "stdout",
          "text": [
            "[11 12]\n",
            "max score value: 11\n",
            "max assistance value: 12\n"
          ]
        }
      ]
    },
    {
      "cell_type": "code",
      "source": [
        "print(data_matrix)"
      ],
      "metadata": {
        "colab": {
          "base_uri": "https://localhost:8080/"
        },
        "id": "H4jGHV_Rfke5",
        "outputId": "44c35441-8122-47b9-dc01-dbe89fee71dc"
      },
      "execution_count": 18,
      "outputs": [
        {
          "output_type": "stream",
          "name": "stdout",
          "text": [
            "[['Roberto Firminho' 'Brazil' '11' '2']\n",
            " ['Harry Kane' 'England' '11' '3']\n",
            " ['Lionel Messi' 'Argentina' '3' '7']\n",
            " ['Luis Diaz' 'Colombia' '6' '2']\n",
            " ['Lorenzo Insigne' 'Italia' '5' '12']]\n"
          ]
        }
      ]
    },
    {
      "cell_type": "code",
      "source": [
        "print(data_matrix[3, :])"
      ],
      "metadata": {
        "colab": {
          "base_uri": "https://localhost:8080/"
        },
        "id": "DrAIux_jjX36",
        "outputId": "44e2b6d6-748e-4405-d3b5-b85a80d0b14a"
      },
      "execution_count": 35,
      "outputs": [
        {
          "output_type": "stream",
          "name": "stdout",
          "text": [
            "['Luis Diaz' 'Colombia' '6' '2']\n"
          ]
        }
      ]
    },
    {
      "cell_type": "code",
      "source": [
        "import math, copy\n",
        "import datetime\n",
        "\n",
        "names_column = data_matrix[:, [0]]\n",
        "print(names_column)\n",
        "\n",
        "names_vector = names_column.flatten()\n",
        "print(names_vector)\n",
        "\n",
        "messi_position = np.where(names_vector == \"Lionel Messi\")\n",
        "print(messi_position)\n",
        "print(messi_position[0][0])\n",
        "\n",
        "messi_information = data_matrix[2, :]\n",
        "print(messi_information)"
      ],
      "metadata": {
        "colab": {
          "base_uri": "https://localhost:8080/"
        },
        "id": "UaZf98AxgD5G",
        "outputId": "45ad3f4d-b771-4909-f5ed-0cc8a4427230"
      },
      "execution_count": 42,
      "outputs": [
        {
          "output_type": "stream",
          "name": "stdout",
          "text": [
            "[['Roberto Firminho']\n",
            " ['Harry Kane']\n",
            " ['Lionel Messi']\n",
            " ['Luis Diaz']\n",
            " ['Lorenzo Insigne']]\n",
            "['Roberto Firminho' 'Harry Kane' 'Lionel Messi' 'Luis Diaz'\n",
            " 'Lorenzo Insigne']\n",
            "(array([2]),)\n",
            "2\n",
            "['Lionel Messi' 'Argentina' '3' '7']\n"
          ]
        }
      ]
    },
    {
      "cell_type": "code",
      "source": [
        "print(data_matrix)\n",
        "print(work_data)"
      ],
      "metadata": {
        "colab": {
          "base_uri": "https://localhost:8080/"
        },
        "id": "KQOXm9iCq16Q",
        "outputId": "99ba9815-84f5-420c-a60d-14f50d38d536"
      },
      "execution_count": 49,
      "outputs": [
        {
          "output_type": "stream",
          "name": "stdout",
          "text": [
            "[['Roberto Firminho' 'Brazil' '11' '2']\n",
            " ['Harry Kane' 'England' '11' '3']\n",
            " ['Lionel Messi' 'Argentina' '3' '7']\n",
            " ['Luis Diaz' 'Colombia' '6' '2']\n",
            " ['Lorenzo Insigne' 'Italia' '5' '12']]\n",
            "[[11  2]\n",
            " [11  3]\n",
            " [ 3  7]\n",
            " [ 6  2]\n",
            " [ 5 12]]\n"
          ]
        }
      ]
    },
    {
      "cell_type": "code",
      "source": [
        "# find the position of the best assistance\n",
        "\n",
        "assistance_column = work_data[:, [1]]\n",
        "print(assistance_column)\n",
        "\n",
        "assistance_vector = assistance_column.flatten()\n",
        "best_assistant_positions = np.where(assistance_vector == highest_assistance)\n",
        "print(best_assistant_positions)"
      ],
      "metadata": {
        "id": "v2VzJ4ACQGNh",
        "colab": {
          "base_uri": "https://localhost:8080/"
        },
        "outputId": "1bf87b23-342c-41bb-e9da-12188d0ffd92"
      },
      "execution_count": 50,
      "outputs": [
        {
          "output_type": "stream",
          "name": "stdout",
          "text": [
            "[[ 2]\n",
            " [ 3]\n",
            " [ 7]\n",
            " [ 2]\n",
            " [12]]\n",
            "(array([4]),)\n"
          ]
        }
      ]
    },
    {
      "cell_type": "code",
      "source": [
        "print(work_data)"
      ],
      "metadata": {
        "colab": {
          "base_uri": "https://localhost:8080/"
        },
        "id": "XQ0fg5sesdhX",
        "outputId": "e2784846-7687-4d0a-eae3-6d96e086a690"
      },
      "execution_count": 53,
      "outputs": [
        {
          "output_type": "stream",
          "name": "stdout",
          "text": [
            "[[11  2]\n",
            " [11  3]\n",
            " [ 3  7]\n",
            " [ 6  2]\n",
            " [ 5 12]]\n"
          ]
        }
      ]
    },
    {
      "cell_type": "code",
      "source": [
        "# find the position of the best forwarder\n",
        "\n",
        "scores_column = work_data[:, [0]]\n",
        "\n",
        "scores_vector = scores_column.flatten()\n",
        "best_forwader_positions = np.where(scores_vector == highest_score)\n",
        "print(best_forwader_positions)"
      ],
      "metadata": {
        "id": "6gIRdSC5QOZJ",
        "colab": {
          "base_uri": "https://localhost:8080/"
        },
        "outputId": "1a86251e-d2c4-419c-e363-1147d4be7ef7"
      },
      "execution_count": 52,
      "outputs": [
        {
          "output_type": "stream",
          "name": "stdout",
          "text": [
            "(array([0, 1]),)\n"
          ]
        }
      ]
    },
    {
      "cell_type": "code",
      "source": [
        "# Let's remember the data matrix\n",
        "\n",
        "print(data_matrix)"
      ],
      "metadata": {
        "id": "iLwe4nDMQSvL"
      },
      "execution_count": null,
      "outputs": []
    },
    {
      "cell_type": "code",
      "source": [
        "my_tuple = (1, 4, \"jose\", 5, True)\n",
        "print(my_tuple)\n",
        "\n",
        "my_tuple_2 = (\"jose\",)\n",
        "print(my_tuple_2[0])\n",
        "\n",
        "my_array = np.array([1, 2, 3])\n",
        "print(my_array[2])\n",
        "\n",
        "for item in my_array:\n",
        "    print(item)\n",
        "\n",
        "my_array_2 = np.array([10])\n",
        "print(my_array_2[0])\n",
        "\n",
        "print(\"----\")\n",
        "for item in my_array_2:\n",
        "    print(item)\n"
      ],
      "metadata": {
        "colab": {
          "base_uri": "https://localhost:8080/"
        },
        "id": "06VNWYens6Z5",
        "outputId": "2a02bb84-0035-4f17-e73b-dc38aadc4fb0"
      },
      "execution_count": 67,
      "outputs": [
        {
          "output_type": "stream",
          "name": "stdout",
          "text": [
            "(1, 4, 'jose', 5, True)\n",
            "jose\n",
            "3\n",
            "1\n",
            "2\n",
            "3\n",
            "10\n",
            "----\n",
            "10\n"
          ]
        }
      ]
    },
    {
      "cell_type": "code",
      "source": [
        "print(data_matrix)\n",
        "print(\"---\")\n",
        "print(data_matrix[4, 0])"
      ],
      "metadata": {
        "colab": {
          "base_uri": "https://localhost:8080/"
        },
        "id": "La2UsFTCx5Zz",
        "outputId": "466099a7-9ec6-4f7a-e509-a14172a31351"
      },
      "execution_count": 75,
      "outputs": [
        {
          "output_type": "stream",
          "name": "stdout",
          "text": [
            "[['Roberto Firminho' 'Brazil' '11' '2']\n",
            " ['Harry Kane' 'England' '11' '3']\n",
            " ['Lionel Messi' 'Argentina' '3' '7']\n",
            " ['Luis Diaz' 'Colombia' '6' '2']\n",
            " ['Lorenzo Insigne' 'Italia' '5' '12']]\n",
            "---\n",
            "Lorenzo Insigne\n"
          ]
        }
      ]
    },
    {
      "cell_type": "code",
      "source": [
        "# Now, print the names of the best assistants\n",
        "\n",
        "print(\"the best assistants are:\")\n",
        "assitance_positions = best_assistant_positions[0]\n",
        "print(best_assistant_positions)\n",
        "#print(best_assistant_positions)\n",
        "#print(assitance_positions)\n",
        "\n",
        "for position in assitance_positions:\n",
        "    name = data_matrix[position, 0]\n",
        "    print(name)"
      ],
      "metadata": {
        "id": "dQ5m3NvEQULr",
        "colab": {
          "base_uri": "https://localhost:8080/"
        },
        "outputId": "db1697c0-073f-439d-b228-7eedc4edfe65"
      },
      "execution_count": 81,
      "outputs": [
        {
          "output_type": "stream",
          "name": "stdout",
          "text": [
            "the best assistants are:\n",
            "(array([4]),)\n",
            "Lorenzo Insigne\n"
          ]
        }
      ]
    },
    {
      "cell_type": "code",
      "source": [
        "# Now, print the names of the best forwarders\n",
        "\n",
        "print(\"the best forwarders are:\")\n",
        "positions = best_forwader_positions[0]\n",
        "print(best_forwader_positions)\n",
        "for position in positions:\n",
        "    name = data_matrix[position, 0]\n",
        "    print(name)"
      ],
      "metadata": {
        "id": "iy8X84s0QYPn",
        "colab": {
          "base_uri": "https://localhost:8080/"
        },
        "outputId": "733c62cc-c26c-457c-e358-bdd6a6117a6e"
      },
      "execution_count": 80,
      "outputs": [
        {
          "output_type": "stream",
          "name": "stdout",
          "text": [
            "the best forwarders are:\n",
            "(array([0, 1]),)\n",
            "Roberto Firminho\n",
            "Harry Kane\n"
          ]
        }
      ]
    },
    {
      "cell_type": "markdown",
      "source": [
        ""
      ],
      "metadata": {
        "id": "ejwN_0dNPtzb"
      }
    }
  ]
}