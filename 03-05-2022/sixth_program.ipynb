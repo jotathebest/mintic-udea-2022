{
  "nbformat": 4,
  "nbformat_minor": 0,
  "metadata": {
    "colab": {
      "name": "sixth_program.ipynb",
      "provenance": []
    },
    "kernelspec": {
      "name": "python3",
      "display_name": "Python 3"
    },
    "language_info": {
      "name": "python"
    }
  },
  "cells": [
    {
      "cell_type": "code",
      "execution_count": 1,
      "metadata": {
        "colab": {
          "base_uri": "https://localhost:8080/"
        },
        "id": "JoWX2Wf0Qbpz",
        "outputId": "2f91bc97-5e4c-475c-9fd1-3e54a0bda971"
      },
      "outputs": [
        {
          "output_type": "stream",
          "name": "stdout",
          "text": [
            "Jose Garcia\n"
          ]
        }
      ],
      "source": [
        "# Python types\n",
        "\n",
        "# String\n",
        "\n",
        "type_str = \"Jose Garcia\"\n",
        "print(type_str)"
      ]
    },
    {
      "cell_type": "code",
      "source": [
        "# int\n",
        "\n",
        "type_int = 3\n",
        "print(type_int)"
      ],
      "metadata": {
        "colab": {
          "base_uri": "https://localhost:8080/"
        },
        "id": "0Hqi0SURQyoi",
        "outputId": "2c128172-9df2-4cea-ba97-033c712f78aa"
      },
      "execution_count": 2,
      "outputs": [
        {
          "output_type": "stream",
          "name": "stdout",
          "text": [
            "3\n"
          ]
        }
      ]
    },
    {
      "cell_type": "code",
      "source": [
        "# string --> int\n",
        "\n",
        "type_str = \"3\"\n",
        "type_int = int(type_str)\n",
        "print(type_str * 3)\n",
        "print(type_int * 3)"
      ],
      "metadata": {
        "colab": {
          "base_uri": "https://localhost:8080/"
        },
        "id": "GcnhkxqlQ-lL",
        "outputId": "ab261c74-0567-4627-e28e-841909bdb9d8"
      },
      "execution_count": 4,
      "outputs": [
        {
          "output_type": "stream",
          "name": "stdout",
          "text": [
            "333\n",
            "9\n"
          ]
        }
      ]
    },
    {
      "cell_type": "code",
      "source": [
        "# int --> string\n",
        "type_int = 3\n",
        "type_str = str(type_int)\n",
        "print(type_str * 5)"
      ],
      "metadata": {
        "colab": {
          "base_uri": "https://localhost:8080/"
        },
        "id": "fHTVu8N1RchX",
        "outputId": "a12e7218-1abc-4b49-c37e-3a2339e8f826"
      },
      "execution_count": 5,
      "outputs": [
        {
          "output_type": "stream",
          "name": "stdout",
          "text": [
            "33333\n"
          ]
        }
      ]
    },
    {
      "cell_type": "code",
      "source": [
        "# float\n",
        "\n",
        "type_float = 3.5487\n",
        "print(type_float * 2)"
      ],
      "metadata": {
        "colab": {
          "base_uri": "https://localhost:8080/"
        },
        "id": "Ydc4F29jRqEp",
        "outputId": "2903477d-5c49-4462-ebdb-5d89565a9281"
      },
      "execution_count": 7,
      "outputs": [
        {
          "output_type": "stream",
          "name": "stdout",
          "text": [
            "7.0974\n"
          ]
        }
      ]
    },
    {
      "cell_type": "code",
      "source": [
        "# float --> int\n",
        "type_float = 3.9\n",
        "type_int = int(type_float)\n",
        "print(type_int)"
      ],
      "metadata": {
        "colab": {
          "base_uri": "https://localhost:8080/"
        },
        "id": "cUCFzjtmR6PM",
        "outputId": "d4e993a7-4501-4786-dcba-145584c71a95"
      },
      "execution_count": 9,
      "outputs": [
        {
          "output_type": "stream",
          "name": "stdout",
          "text": [
            "3\n"
          ]
        }
      ]
    },
    {
      "cell_type": "code",
      "source": [
        "# int --> float\n",
        "type_int = 3\n",
        "type_float = float(type_int)\n",
        "print(type_float)"
      ],
      "metadata": {
        "colab": {
          "base_uri": "https://localhost:8080/"
        },
        "id": "8oH06iT-SE03",
        "outputId": "99852c2c-9925-4f69-faf9-4b2ed21e9f51"
      },
      "execution_count": 10,
      "outputs": [
        {
          "output_type": "stream",
          "name": "stdout",
          "text": [
            "3.0\n"
          ]
        }
      ]
    },
    {
      "cell_type": "code",
      "source": [
        "type_float = 3.78517\n",
        "result = round(type_float)\n",
        "print(result)"
      ],
      "metadata": {
        "colab": {
          "base_uri": "https://localhost:8080/"
        },
        "id": "vN5Gh7uTSW-4",
        "outputId": "317e2504-b8db-465f-d8b8-6b5e422acc9b"
      },
      "execution_count": 11,
      "outputs": [
        {
          "output_type": "stream",
          "name": "stdout",
          "text": [
            "4\n"
          ]
        }
      ]
    },
    {
      "cell_type": "code",
      "source": [
        "# Boolean\n",
        "\n",
        "true_boolean = True # 1\n",
        "false_boolean = False # 0\n",
        "\n",
        "print(true_boolean + 1)"
      ],
      "metadata": {
        "colab": {
          "base_uri": "https://localhost:8080/"
        },
        "id": "mjxDKV8TSmPV",
        "outputId": "8f97e151-2175-419a-8652-247e34dc5d76"
      },
      "execution_count": 12,
      "outputs": [
        {
          "output_type": "stream",
          "name": "stdout",
          "text": [
            "2\n"
          ]
        }
      ]
    },
    {
      "cell_type": "code",
      "source": [
        "# Lists\n",
        "\n",
        "my_list = [10, 20, 30]\n",
        "print(my_list)\n",
        "print(my_list[0])\n",
        "\n",
        "my_list[0] = \"jose\"\n",
        "print(my_list)"
      ],
      "metadata": {
        "colab": {
          "base_uri": "https://localhost:8080/"
        },
        "id": "BI6K3DBaTLDK",
        "outputId": "79e4a49b-07d0-4319-e734-4ef7e8b15968"
      },
      "execution_count": 14,
      "outputs": [
        {
          "output_type": "stream",
          "name": "stdout",
          "text": [
            "[10, 20, 30]\n",
            "10\n",
            "['jose', 20, 30]\n"
          ]
        }
      ]
    },
    {
      "cell_type": "code",
      "source": [
        "# Tuple\n",
        "\n",
        "my_tuple = (10, 20, 30)\n",
        "print(my_tuple)\n",
        "print(my_tuple[0])\n",
        "\n",
        "my_tuple[0] = \"jose\"\n",
        "print(my_tuple)"
      ],
      "metadata": {
        "colab": {
          "base_uri": "https://localhost:8080/",
          "height": 253
        },
        "id": "DsI-FdQvTjHZ",
        "outputId": "c71e65a6-55f0-4bbb-d3ba-b088edd13a2e"
      },
      "execution_count": 17,
      "outputs": [
        {
          "output_type": "stream",
          "name": "stdout",
          "text": [
            "(10, 20, 30)\n",
            "10\n"
          ]
        },
        {
          "output_type": "error",
          "ename": "TypeError",
          "evalue": "ignored",
          "traceback": [
            "\u001b[0;31m---------------------------------------------------------------------------\u001b[0m",
            "\u001b[0;31mTypeError\u001b[0m                                 Traceback (most recent call last)",
            "\u001b[0;32m<ipython-input-17-4ac100147c85>\u001b[0m in \u001b[0;36m<module>\u001b[0;34m()\u001b[0m\n\u001b[1;32m      5\u001b[0m \u001b[0mprint\u001b[0m\u001b[0;34m(\u001b[0m\u001b[0mmy_tuple\u001b[0m\u001b[0;34m[\u001b[0m\u001b[0;36m0\u001b[0m\u001b[0;34m]\u001b[0m\u001b[0;34m)\u001b[0m\u001b[0;34m\u001b[0m\u001b[0;34m\u001b[0m\u001b[0m\n\u001b[1;32m      6\u001b[0m \u001b[0;34m\u001b[0m\u001b[0m\n\u001b[0;32m----> 7\u001b[0;31m \u001b[0mmy_tuple\u001b[0m\u001b[0;34m[\u001b[0m\u001b[0;36m0\u001b[0m\u001b[0;34m]\u001b[0m \u001b[0;34m=\u001b[0m \u001b[0;34m\"jose\"\u001b[0m\u001b[0;34m\u001b[0m\u001b[0;34m\u001b[0m\u001b[0m\n\u001b[0m\u001b[1;32m      8\u001b[0m \u001b[0mprint\u001b[0m\u001b[0;34m(\u001b[0m\u001b[0mmy_tuple\u001b[0m\u001b[0;34m)\u001b[0m\u001b[0;34m\u001b[0m\u001b[0;34m\u001b[0m\u001b[0m\n",
            "\u001b[0;31mTypeError\u001b[0m: 'tuple' object does not support item assignment"
          ]
        }
      ]
    },
    {
      "cell_type": "code",
      "source": [
        "# sets\n",
        "\n",
        "my_set = {\"jose\", 1, \"jose\", 4}\n",
        "print(my_set)"
      ],
      "metadata": {
        "colab": {
          "base_uri": "https://localhost:8080/"
        },
        "id": "_mg9a2zbT6jq",
        "outputId": "461709c5-6721-48fe-c350-61b46da32023"
      },
      "execution_count": 18,
      "outputs": [
        {
          "output_type": "stream",
          "name": "stdout",
          "text": [
            "{1, 4, 'jose'}\n"
          ]
        }
      ]
    },
    {
      "cell_type": "code",
      "source": [
        "# Write a Python program to display the first and last colors from the following list\n",
        "color_list = [\"Red\",\"Green\",\"White\" ,\"Black\"]"
      ],
      "metadata": {
        "id": "XbWi7AntUXES"
      },
      "execution_count": null,
      "outputs": []
    },
    {
      "cell_type": "code",
      "source": [
        "# Exercise 2\n",
        "# Write a Python program which accepts the radius of a circle from the user and compute the area\n",
        "# Sample Output :\n",
        "# r = 1.1\n",
        "# Area = 3.8013271108436504\n",
        "\n",
        "number = input()  # str\n",
        "\n",
        "number = 2\n",
        "square = number * number\n",
        "square = number ** 2"
      ],
      "metadata": {
        "id": "vNqK5bmcUtRC"
      },
      "execution_count": null,
      "outputs": []
    }
  ]
}