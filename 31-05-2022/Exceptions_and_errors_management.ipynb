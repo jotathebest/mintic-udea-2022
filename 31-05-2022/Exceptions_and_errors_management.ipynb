{
  "nbformat": 4,
  "nbformat_minor": 0,
  "metadata": {
    "colab": {
      "name": "Exceptions_and_errors_management.ipynb",
      "provenance": []
    },
    "kernelspec": {
      "name": "python3",
      "display_name": "Python 3"
    },
    "language_info": {
      "name": "python"
    }
  },
  "cells": [
    {
      "cell_type": "code",
      "source": [
        "my_variable = \"jose\"\n",
        "print(my_variable)"
      ],
      "metadata": {
        "colab": {
          "base_uri": "https://localhost:8080/"
        },
        "id": "D8NFEg_BZEh6",
        "outputId": "63397154-5f9a-4208-f578-485d1df0547d"
      },
      "execution_count": 7,
      "outputs": [
        {
          "output_type": "stream",
          "name": "stdout",
          "text": [
            "jose\n"
          ]
        }
      ]
    },
    {
      "cell_type": "code",
      "execution_count": 8,
      "metadata": {
        "id": "DKpvBC6sMiLv",
        "colab": {
          "base_uri": "https://localhost:8080/",
          "height": 131
        },
        "outputId": "056c7971-7919-4971-8cc3-39c5e5ab6886"
      },
      "outputs": [
        {
          "output_type": "error",
          "ename": "SyntaxError",
          "evalue": "ignored",
          "traceback": [
            "\u001b[0;36m  File \u001b[0;32m\"<ipython-input-8-abc5e3f18855>\"\u001b[0;36m, line \u001b[0;32m3\u001b[0m\n\u001b[0;31m    def my_function:\u001b[0m\n\u001b[0m                   ^\u001b[0m\n\u001b[0;31mSyntaxError\u001b[0m\u001b[0;31m:\u001b[0m invalid syntax\n"
          ]
        }
      ],
      "source": [
        "# Syntax errors --> The ones related to the expected python language write rules\n",
        "\n",
        "def my_function:\n",
        "    print(\"hello\")"
      ]
    },
    {
      "cell_type": "code",
      "source": [
        "while True\n",
        "    print(\"Hello\")\n",
        "    break"
      ],
      "metadata": {
        "id": "mhj0u3NyNbeG",
        "colab": {
          "base_uri": "https://localhost:8080/",
          "height": 131
        },
        "outputId": "b47482b8-ed8b-40e7-b362-18afa8593ee9"
      },
      "execution_count": 9,
      "outputs": [
        {
          "output_type": "error",
          "ename": "SyntaxError",
          "evalue": "ignored",
          "traceback": [
            "\u001b[0;36m  File \u001b[0;32m\"<ipython-input-9-d0bdc418bdbd>\"\u001b[0;36m, line \u001b[0;32m1\u001b[0m\n\u001b[0;31m    while True\u001b[0m\n\u001b[0m              ^\u001b[0m\n\u001b[0;31mSyntaxError\u001b[0m\u001b[0;31m:\u001b[0m invalid syntax\n"
          ]
        }
      ]
    },
    {
      "cell_type": "code",
      "source": [
        "print(\"Welcome to PYnative\")\n",
        "    print(\"Learn Python with us..\")"
      ],
      "metadata": {
        "id": "J-pCnht3Stwy",
        "colab": {
          "base_uri": "https://localhost:8080/",
          "height": 131
        },
        "outputId": "56749ad1-e694-485c-d3b6-0245e1d727e6"
      },
      "execution_count": 10,
      "outputs": [
        {
          "output_type": "error",
          "ename": "IndentationError",
          "evalue": "ignored",
          "traceback": [
            "\u001b[0;36m  File \u001b[0;32m\"<ipython-input-10-5a5c23e212de>\"\u001b[0;36m, line \u001b[0;32m2\u001b[0m\n\u001b[0;31m    print(\"Learn Python with us..\")\u001b[0m\n\u001b[0m    ^\u001b[0m\n\u001b[0;31mIndentationError\u001b[0m\u001b[0;31m:\u001b[0m unexpected indent\n"
          ]
        }
      ]
    },
    {
      "cell_type": "code",
      "source": [
        "# Fix the programs above\n",
        "\n",
        "def my_function():\n",
        "    print(\"hello\")"
      ],
      "metadata": {
        "id": "-i6nq-NdNh-3"
      },
      "execution_count": 14,
      "outputs": []
    },
    {
      "cell_type": "code",
      "source": [
        "while True:\n",
        "    print(\"Hello\")\n",
        "    break"
      ],
      "metadata": {
        "colab": {
          "base_uri": "https://localhost:8080/"
        },
        "id": "EZEaDIPLbSRO",
        "outputId": "472a2d7c-59e8-4cb2-8594-15502c843ffc"
      },
      "execution_count": 16,
      "outputs": [
        {
          "output_type": "stream",
          "name": "stdout",
          "text": [
            "Hello\n"
          ]
        }
      ]
    },
    {
      "cell_type": "code",
      "source": [
        "print(\"Welcome to PYnative\")\n",
        "print(\"Learn Python with us..\")"
      ],
      "metadata": {
        "colab": {
          "base_uri": "https://localhost:8080/"
        },
        "id": "CGc9a5GXbfVn",
        "outputId": "e98a9ed3-5957-49bd-ec57-e3ff5e894e8b"
      },
      "execution_count": 18,
      "outputs": [
        {
          "output_type": "stream",
          "name": "stdout",
          "text": [
            "Welcome to PYnative\n",
            "Learn Python with us..\n"
          ]
        }
      ]
    },
    {
      "cell_type": "code",
      "source": [
        "# Exceptions --> The code fits the language's rules, but it throws an error related with other thing but not syntax\n",
        "# Available python exceptions may be referenced at https://docs.python.org/2/library/exceptions.html#exception-hierarchy\n",
        "\n",
        "result = 1 % 0\n",
        "print(result)"
      ],
      "metadata": {
        "id": "PeS4idSlOBja",
        "colab": {
          "base_uri": "https://localhost:8080/",
          "height": 235
        },
        "outputId": "b137b559-e0ae-4708-ae8f-b3e1537f8bab"
      },
      "execution_count": 20,
      "outputs": [
        {
          "output_type": "error",
          "ename": "ZeroDivisionError",
          "evalue": "ignored",
          "traceback": [
            "\u001b[0;31m---------------------------------------------------------------------------\u001b[0m",
            "\u001b[0;31mZeroDivisionError\u001b[0m                         Traceback (most recent call last)",
            "\u001b[0;32m<ipython-input-20-e86688c74b36>\u001b[0m in \u001b[0;36m<module>\u001b[0;34m()\u001b[0m\n\u001b[1;32m      2\u001b[0m \u001b[0;31m# Available python exceptions may be referenced at https://docs.python.org/2/library/exceptions.html#exception-hierarchy\u001b[0m\u001b[0;34m\u001b[0m\u001b[0;34m\u001b[0m\u001b[0;34m\u001b[0m\u001b[0m\n\u001b[1;32m      3\u001b[0m \u001b[0;34m\u001b[0m\u001b[0m\n\u001b[0;32m----> 4\u001b[0;31m \u001b[0mresult\u001b[0m \u001b[0;34m=\u001b[0m \u001b[0;36m1\u001b[0m \u001b[0;34m%\u001b[0m \u001b[0;36m0\u001b[0m\u001b[0;34m\u001b[0m\u001b[0;34m\u001b[0m\u001b[0m\n\u001b[0m\u001b[1;32m      5\u001b[0m \u001b[0mprint\u001b[0m\u001b[0;34m(\u001b[0m\u001b[0mresult\u001b[0m\u001b[0;34m)\u001b[0m\u001b[0;34m\u001b[0m\u001b[0;34m\u001b[0m\u001b[0m\n",
            "\u001b[0;31mZeroDivisionError\u001b[0m: integer division or modulo by zero"
          ]
        }
      ]
    },
    {
      "cell_type": "code",
      "source": [
        "my_list = [\"jose\", \"garcia\"]\n",
        "print(f\"the surname is {my_list[3]}\")"
      ],
      "metadata": {
        "id": "IfLjbBSPOsiT",
        "colab": {
          "base_uri": "https://localhost:8080/",
          "height": 183
        },
        "outputId": "dc893154-a9a7-42e3-a278-605c43539454"
      },
      "execution_count": 21,
      "outputs": [
        {
          "output_type": "error",
          "ename": "IndexError",
          "evalue": "ignored",
          "traceback": [
            "\u001b[0;31m---------------------------------------------------------------------------\u001b[0m",
            "\u001b[0;31mIndexError\u001b[0m                                Traceback (most recent call last)",
            "\u001b[0;32m<ipython-input-21-0a9e70a87e49>\u001b[0m in \u001b[0;36m<module>\u001b[0;34m()\u001b[0m\n\u001b[1;32m      1\u001b[0m \u001b[0mmy_list\u001b[0m \u001b[0;34m=\u001b[0m \u001b[0;34m[\u001b[0m\u001b[0;34m\"jose\"\u001b[0m\u001b[0;34m,\u001b[0m \u001b[0;34m\"garcia\"\u001b[0m\u001b[0;34m]\u001b[0m\u001b[0;34m\u001b[0m\u001b[0;34m\u001b[0m\u001b[0m\n\u001b[0;32m----> 2\u001b[0;31m \u001b[0mprint\u001b[0m\u001b[0;34m(\u001b[0m\u001b[0;34mf\"the surname is {my_list[3]}\"\u001b[0m\u001b[0;34m)\u001b[0m\u001b[0;34m\u001b[0m\u001b[0;34m\u001b[0m\u001b[0m\n\u001b[0m",
            "\u001b[0;31mIndexError\u001b[0m: list index out of range"
          ]
        }
      ]
    },
    {
      "cell_type": "code",
      "source": [
        "blog_posts = [\n",
        "              {'Photos': 3, 'Likes': 21, 'Comments': 2}, \n",
        "              {'Likes': 13, 'Comments': 2, 'Shares': 1}, \n",
        "              {'Photos': 5, 'Likes': 33, 'Comments': 8, 'Shares': 3}, \n",
        "              {'Comments': 4, 'Shares': 2}, \n",
        "              {'Photos': 8, 'Comments': 1, 'Shares': 1}, \n",
        "              {'Photos': 3, 'Likes': 19, 'Comments': 3}\n",
        "              ]\n",
        "\n",
        "total_likes = 0\n",
        "\n",
        "for post in blog_posts:\n",
        "    total_likes = total_likes + post['Likes']"
      ],
      "metadata": {
        "id": "ggH_7w6eNlTu",
        "colab": {
          "base_uri": "https://localhost:8080/",
          "height": 200
        },
        "outputId": "3387bba4-0818-41fb-8f37-7cfde729033a"
      },
      "execution_count": 22,
      "outputs": [
        {
          "output_type": "error",
          "ename": "KeyError",
          "evalue": "ignored",
          "traceback": [
            "\u001b[0;31m---------------------------------------------------------------------------\u001b[0m",
            "\u001b[0;31mKeyError\u001b[0m                                  Traceback (most recent call last)",
            "\u001b[0;32m<ipython-input-22-ea66a3a9f1c7>\u001b[0m in \u001b[0;36m<module>\u001b[0;34m()\u001b[0m\n\u001b[1;32m     11\u001b[0m \u001b[0;34m\u001b[0m\u001b[0m\n\u001b[1;32m     12\u001b[0m \u001b[0;32mfor\u001b[0m \u001b[0mpost\u001b[0m \u001b[0;32min\u001b[0m \u001b[0mblog_posts\u001b[0m\u001b[0;34m:\u001b[0m\u001b[0;34m\u001b[0m\u001b[0;34m\u001b[0m\u001b[0m\n\u001b[0;32m---> 13\u001b[0;31m     \u001b[0mtotal_likes\u001b[0m \u001b[0;34m=\u001b[0m \u001b[0mtotal_likes\u001b[0m \u001b[0;34m+\u001b[0m \u001b[0mpost\u001b[0m\u001b[0;34m[\u001b[0m\u001b[0;34m'Likes'\u001b[0m\u001b[0;34m]\u001b[0m\u001b[0;34m\u001b[0m\u001b[0;34m\u001b[0m\u001b[0m\n\u001b[0m",
            "\u001b[0;31mKeyError\u001b[0m: 'Likes'"
          ]
        }
      ]
    },
    {
      "cell_type": "code",
      "source": [
        "food = [\"chocolate\", \"chicken\", \"corn\", \"sandwich\", \"soup\", \"potatoes\", \"beef\", \"lox\", \"lemonade\"]\n",
        "fifth = []\n",
        "\n",
        "for x in food:\n",
        "    fifth.append(x[4])\n"
      ],
      "metadata": {
        "id": "NrPHv6WPO3Im",
        "colab": {
          "base_uri": "https://localhost:8080/",
          "height": 200
        },
        "outputId": "bad144d2-f619-4bc6-9f4c-e38903557fea"
      },
      "execution_count": 23,
      "outputs": [
        {
          "output_type": "error",
          "ename": "IndexError",
          "evalue": "ignored",
          "traceback": [
            "\u001b[0;31m---------------------------------------------------------------------------\u001b[0m",
            "\u001b[0;31mIndexError\u001b[0m                                Traceback (most recent call last)",
            "\u001b[0;32m<ipython-input-23-164e82daa43b>\u001b[0m in \u001b[0;36m<module>\u001b[0;34m()\u001b[0m\n\u001b[1;32m      3\u001b[0m \u001b[0;34m\u001b[0m\u001b[0m\n\u001b[1;32m      4\u001b[0m \u001b[0;32mfor\u001b[0m \u001b[0mx\u001b[0m \u001b[0;32min\u001b[0m \u001b[0mfood\u001b[0m\u001b[0;34m:\u001b[0m\u001b[0;34m\u001b[0m\u001b[0;34m\u001b[0m\u001b[0m\n\u001b[0;32m----> 5\u001b[0;31m     \u001b[0mfifth\u001b[0m\u001b[0;34m.\u001b[0m\u001b[0mappend\u001b[0m\u001b[0;34m(\u001b[0m\u001b[0mx\u001b[0m\u001b[0;34m[\u001b[0m\u001b[0;36m4\u001b[0m\u001b[0;34m]\u001b[0m\u001b[0;34m)\u001b[0m\u001b[0;34m\u001b[0m\u001b[0;34m\u001b[0m\u001b[0m\n\u001b[0m",
            "\u001b[0;31mIndexError\u001b[0m: string index out of range"
          ]
        }
      ]
    },
    {
      "cell_type": "code",
      "source": [
        "# Fix the codes above\n",
        "\n",
        "my_list = [\"jose\", \"garcia\"]\n",
        "print(f\"the surname is {my_list[1]}\")"
      ],
      "metadata": {
        "id": "vtINLO-3Oxni",
        "colab": {
          "base_uri": "https://localhost:8080/"
        },
        "outputId": "2b0d366f-b55a-4196-ecf7-078014df7ecc"
      },
      "execution_count": 25,
      "outputs": [
        {
          "output_type": "stream",
          "name": "stdout",
          "text": [
            "the surname is garcia\n"
          ]
        }
      ]
    },
    {
      "cell_type": "code",
      "source": [
        "blog_posts = [\n",
        "              {'Photos': 3, 'Likes': 21, 'Comments': 2}, \n",
        "              {'Likes': 13, 'Comments': 2, 'Shares': 1}, \n",
        "              {'Photos': 5, 'Likes': 33, 'Comments': 8, 'Shares': 3}, \n",
        "              {'Comments': 4, 'Shares': 2, \"Likes\": 0}, \n",
        "              {'Photos': 8, 'Comments': 1, 'Shares': 1, \"Likes\": 0}, \n",
        "              {'Photos': 3, 'Likes': 19, 'Comments': 3}\n",
        "              ]\n",
        "\n",
        "total_likes = 0\n",
        "\n",
        "for post in blog_posts:\n",
        "    if \"Likes\" in post.keys():\n",
        "        total_likes = total_likes + post['Likes']\n",
        "\n",
        "print(total_likes)"
      ],
      "metadata": {
        "colab": {
          "base_uri": "https://localhost:8080/"
        },
        "id": "qVo45stLgLiQ",
        "outputId": "5a624cbd-1e73-4e38-b2f7-eaea1b71508a"
      },
      "execution_count": 29,
      "outputs": [
        {
          "output_type": "stream",
          "name": "stdout",
          "text": [
            "86\n"
          ]
        }
      ]
    },
    {
      "cell_type": "code",
      "source": [
        "food = [\"chocolate\", \"chicken\", \"corn\", \"sandwich\", \"soup\", \"potatoes\", \"beef\", \"lox\", \"lemonade\"]\n",
        "fifth = []\n",
        "\n",
        "for x in food:\n",
        "    if len(x) >= 5:\n",
        "        fifth.append(x[4])\n",
        "\n",
        "print(fifth)"
      ],
      "metadata": {
        "colab": {
          "base_uri": "https://localhost:8080/"
        },
        "id": "3sYcOPh9hrqg",
        "outputId": "ce15b762-132f-496b-e07b-a571b139e4ae"
      },
      "execution_count": 36,
      "outputs": [
        {
          "output_type": "stream",
          "name": "stdout",
          "text": [
            "['o', 'k', 'w', 't', 'n']\n"
          ]
        }
      ]
    },
    {
      "cell_type": "code",
      "source": [
        "my_str = \"corn\"\n",
        "print(len(\"corn\"))"
      ],
      "metadata": {
        "colab": {
          "base_uri": "https://localhost:8080/"
        },
        "id": "ZzwxL-eLiAXn",
        "outputId": "6befc7e0-0e34-4f8f-965a-535b3e304d1c"
      },
      "execution_count": 37,
      "outputs": [
        {
          "output_type": "stream",
          "name": "stdout",
          "text": [
            "4\n"
          ]
        }
      ]
    },
    {
      "cell_type": "code",
      "source": [
        "result = 1 / 0\n",
        "print(result)\n",
        "print(\"hola\")"
      ],
      "metadata": {
        "colab": {
          "base_uri": "https://localhost:8080/",
          "height": 200
        },
        "id": "aUaa_Tnlj4UD",
        "outputId": "a752976c-c9a6-471a-b2b5-68198e7cc440"
      },
      "execution_count": 38,
      "outputs": [
        {
          "output_type": "error",
          "ename": "ZeroDivisionError",
          "evalue": "ignored",
          "traceback": [
            "\u001b[0;31m---------------------------------------------------------------------------\u001b[0m",
            "\u001b[0;31mZeroDivisionError\u001b[0m                         Traceback (most recent call last)",
            "\u001b[0;32m<ipython-input-38-cf45eeb560bc>\u001b[0m in \u001b[0;36m<module>\u001b[0;34m()\u001b[0m\n\u001b[0;32m----> 1\u001b[0;31m \u001b[0mresult\u001b[0m \u001b[0;34m=\u001b[0m \u001b[0;36m1\u001b[0m \u001b[0;34m/\u001b[0m \u001b[0;36m0\u001b[0m\u001b[0;34m\u001b[0m\u001b[0;34m\u001b[0m\u001b[0m\n\u001b[0m\u001b[1;32m      2\u001b[0m \u001b[0mprint\u001b[0m\u001b[0;34m(\u001b[0m\u001b[0mresult\u001b[0m\u001b[0;34m)\u001b[0m\u001b[0;34m\u001b[0m\u001b[0;34m\u001b[0m\u001b[0m\n\u001b[1;32m      3\u001b[0m \u001b[0mprint\u001b[0m\u001b[0;34m(\u001b[0m\u001b[0;34m\"hola\"\u001b[0m\u001b[0;34m)\u001b[0m\u001b[0;34m\u001b[0m\u001b[0;34m\u001b[0m\u001b[0m\n",
            "\u001b[0;31mZeroDivisionError\u001b[0m: division by zero"
          ]
        }
      ]
    },
    {
      "cell_type": "code",
      "source": [
        "# Handling exceptions: Try - Except\n",
        "\n",
        "# Let's fix the zero division error\n",
        "\n",
        "try:\n",
        "    result = 1 / 0\n",
        "    print(result)\n",
        "except:\n",
        "    print(\"you are attempting to divide by zero, this is not possible\")\n",
        "\n",
        "print(\"hola\")"
      ],
      "metadata": {
        "id": "9TF-d2FrO_Hb",
        "colab": {
          "base_uri": "https://localhost:8080/"
        },
        "outputId": "3a89e916-0584-4840-e616-1b74421ec280"
      },
      "execution_count": 40,
      "outputs": [
        {
          "output_type": "stream",
          "name": "stdout",
          "text": [
            "you are attempting to divide by zero, this is not possible\n",
            "hola\n"
          ]
        }
      ]
    },
    {
      "cell_type": "code",
      "source": [
        "a = 10\n",
        "b = 5\n",
        "complex_number = a + bj\n",
        "print(complex_number ** 2)"
      ],
      "metadata": {
        "colab": {
          "base_uri": "https://localhost:8080/"
        },
        "id": "Gv_Hm4i5lNix",
        "outputId": "d615013d-b5c5-40ef-fe7a-57c562019781"
      },
      "execution_count": 42,
      "outputs": [
        {
          "output_type": "stream",
          "name": "stdout",
          "text": [
            "(-3+4j)\n"
          ]
        }
      ]
    },
    {
      "cell_type": "code",
      "source": [
        "# include it inside a function\n",
        "\n",
        "def my_divisor(number, divisor):\n",
        "    try:\n",
        "        result = number / divisor\n",
        "        return result\n",
        "    except:\n",
        "        print(\"you are attempting to divide by zero, this is not possible\")\n",
        "        return None\n",
        "\n",
        "result_1 = my_divisor(10, 2)\n",
        "print(result_1)\n",
        "result_2 = my_divisor(10, 0)\n",
        "print(result_2)"
      ],
      "metadata": {
        "id": "swLw827QPNvy",
        "colab": {
          "base_uri": "https://localhost:8080/"
        },
        "outputId": "4f926be4-d286-4f4c-ecb7-4f70e6947713"
      },
      "execution_count": 44,
      "outputs": [
        {
          "output_type": "stream",
          "name": "stdout",
          "text": [
            "5.0\n",
            "you are attempting to divide by zero, this is not possible\n",
            "None\n"
          ]
        }
      ]
    },
    {
      "cell_type": "code",
      "source": [
        "# We may be more specific about the exception we will capture\n",
        "import copy\n",
        "\n",
        "def add_item_to_list(input_list, item_position, number, divisor):\n",
        "    try:\n",
        "        obj_list = copy.deepcopy(input_list)\n",
        "        new_item = number / divisor\n",
        "        obj_list[item_position] = int(new_item)\n",
        "        return obj_list\n",
        "    except ZeroDivisionError:\n",
        "        print(\"You are trying to divide by zero, this is not allowed\")\n",
        "        return obj_list\n",
        "\n",
        "my_list = [1, 3]\n",
        "\n",
        "# test 1\n",
        "# new_list = add_item_to_list(my_list, 0, 10, 5)\n",
        "# print(new_list)\n",
        "\n",
        "# test 2\n",
        "# new_list = add_item_to_list(my_list, 0, 10, 0)\n",
        "# print(new_list)\n",
        "\n",
        "# test 3\n",
        "new_list = add_item_to_list(my_list, 5, 10, 5)\n",
        "print(new_list)"
      ],
      "metadata": {
        "id": "HbLzaeFzPmpc",
        "colab": {
          "base_uri": "https://localhost:8080/",
          "height": 339
        },
        "outputId": "ec4544d7-ac38-4e6c-ca39-6eeec4228ace"
      },
      "execution_count": 52,
      "outputs": [
        {
          "output_type": "error",
          "ename": "IndexError",
          "evalue": "ignored",
          "traceback": [
            "\u001b[0;31m---------------------------------------------------------------------------\u001b[0m",
            "\u001b[0;31mIndexError\u001b[0m                                Traceback (most recent call last)",
            "\u001b[0;32m<ipython-input-52-665d0512e479>\u001b[0m in \u001b[0;36m<module>\u001b[0;34m()\u001b[0m\n\u001b[1;32m     23\u001b[0m \u001b[0;34m\u001b[0m\u001b[0m\n\u001b[1;32m     24\u001b[0m \u001b[0;31m# test 3\u001b[0m\u001b[0;34m\u001b[0m\u001b[0;34m\u001b[0m\u001b[0;34m\u001b[0m\u001b[0m\n\u001b[0;32m---> 25\u001b[0;31m \u001b[0mnew_list\u001b[0m \u001b[0;34m=\u001b[0m \u001b[0madd_item_to_list\u001b[0m\u001b[0;34m(\u001b[0m\u001b[0mmy_list\u001b[0m\u001b[0;34m,\u001b[0m \u001b[0;36m5\u001b[0m\u001b[0;34m,\u001b[0m \u001b[0;36m10\u001b[0m\u001b[0;34m,\u001b[0m \u001b[0;36m5\u001b[0m\u001b[0;34m)\u001b[0m\u001b[0;34m\u001b[0m\u001b[0;34m\u001b[0m\u001b[0m\n\u001b[0m\u001b[1;32m     26\u001b[0m \u001b[0mprint\u001b[0m\u001b[0;34m(\u001b[0m\u001b[0mnew_list\u001b[0m\u001b[0;34m)\u001b[0m\u001b[0;34m\u001b[0m\u001b[0;34m\u001b[0m\u001b[0m\n",
            "\u001b[0;32m<ipython-input-52-665d0512e479>\u001b[0m in \u001b[0;36madd_item_to_list\u001b[0;34m(input_list, item_position, number, divisor)\u001b[0m\n\u001b[1;32m      6\u001b[0m         \u001b[0mobj_list\u001b[0m \u001b[0;34m=\u001b[0m \u001b[0mcopy\u001b[0m\u001b[0;34m.\u001b[0m\u001b[0mdeepcopy\u001b[0m\u001b[0;34m(\u001b[0m\u001b[0minput_list\u001b[0m\u001b[0;34m)\u001b[0m\u001b[0;34m\u001b[0m\u001b[0;34m\u001b[0m\u001b[0m\n\u001b[1;32m      7\u001b[0m         \u001b[0mnew_item\u001b[0m \u001b[0;34m=\u001b[0m \u001b[0mnumber\u001b[0m \u001b[0;34m/\u001b[0m \u001b[0mdivisor\u001b[0m\u001b[0;34m\u001b[0m\u001b[0;34m\u001b[0m\u001b[0m\n\u001b[0;32m----> 8\u001b[0;31m         \u001b[0mobj_list\u001b[0m\u001b[0;34m[\u001b[0m\u001b[0mitem_position\u001b[0m\u001b[0;34m]\u001b[0m \u001b[0;34m=\u001b[0m \u001b[0mint\u001b[0m\u001b[0;34m(\u001b[0m\u001b[0mnew_item\u001b[0m\u001b[0;34m)\u001b[0m\u001b[0;34m\u001b[0m\u001b[0;34m\u001b[0m\u001b[0m\n\u001b[0m\u001b[1;32m      9\u001b[0m         \u001b[0;32mreturn\u001b[0m \u001b[0mobj_list\u001b[0m\u001b[0;34m\u001b[0m\u001b[0;34m\u001b[0m\u001b[0m\n\u001b[1;32m     10\u001b[0m     \u001b[0;32mexcept\u001b[0m \u001b[0mZeroDivisionError\u001b[0m\u001b[0;34m:\u001b[0m\u001b[0;34m\u001b[0m\u001b[0;34m\u001b[0m\u001b[0m\n",
            "\u001b[0;31mIndexError\u001b[0m: list assignment index out of range"
          ]
        }
      ]
    },
    {
      "cell_type": "code",
      "source": [
        "# you may capture multiple exceptions in the following way\n",
        "\n",
        "# try:\n",
        "#     <do something>\n",
        "# except <Exception name>:\n",
        "#     <do something>\n",
        "# except <Exception name>:\n",
        "#     <do something>\n",
        "\n",
        "# try:\n",
        "#     <do something>\n",
        "# except (<Exception name>, <Exception name>):\n",
        "#     <do something>\n",
        "\n",
        "# Fix the code above to capture the exception of the last line\n",
        "\n",
        "def add_item_to_list(input_list, item_position, number, divisor):\n",
        "    try:\n",
        "        obj_list = copy.deepcopy(input_list)\n",
        "        new_item = number / divisor\n",
        "        obj_list[item_position] = int(new_item)\n",
        "        return obj_list\n",
        "    except (ZeroDivisionError, IndexError, TypeError):\n",
        "        print(\"There was an error during the execution, please review your inputs\")\n",
        "        return obj_list\n",
        "\n",
        "my_list = [1, 3]\n",
        "\n",
        "new_list = add_item_to_list(my_list, \"a\", 10, 5)\n",
        "print(new_list)"
      ],
      "metadata": {
        "id": "XezPHPbCRH8N",
        "colab": {
          "base_uri": "https://localhost:8080/"
        },
        "outputId": "65873f38-207d-435e-e2a2-ac51c8046af4"
      },
      "execution_count": 56,
      "outputs": [
        {
          "output_type": "stream",
          "name": "stdout",
          "text": [
            "Your index type is not valid, it should be int\n",
            "[1, 3]\n"
          ]
        }
      ]
    },
    {
      "cell_type": "code",
      "source": [
        "def add_item_to_list(input_list, item_position, number, divisor):\n",
        "    try:\n",
        "        obj_list = copy.deepcopy(input_list)\n",
        "        new_item = number / divisor\n",
        "        obj_list[item_position] = int(new_item)\n",
        "        return obj_list\n",
        "    except ZeroDivisionError:\n",
        "        print(\"You are trying to divide by zero, this is not allowed\")\n",
        "        return obj_list\n",
        "    except IndexError:\n",
        "        print(\"You are trying to access to a non valid index\")\n",
        "        return obj_list\n",
        "    except TypeError:\n",
        "        print(\"Your index type is not valid, it should be int\")\n",
        "        return obj_list\n",
        "        \n",
        "\n",
        "my_list = [1, 3]\n",
        "\n",
        "new_list = add_item_to_list(my_list, \"a\", 10, 5)\n",
        "print(new_list)"
      ],
      "metadata": {
        "id": "RhT6jV63ux14"
      },
      "execution_count": null,
      "outputs": []
    },
    {
      "cell_type": "code",
      "source": [
        "# The finally clause\n",
        "\n",
        "def attempts_function(number, divisor):\n",
        "    attempts = 0\n",
        "    try:\n",
        "        result = number / divisor\n",
        "        print(result)\n",
        "    except:\n",
        "        print(\"there was an exception, please check the code\")\n",
        "    finally:\n",
        "        attempts += 1\n",
        "    \n",
        "    return attempts\n",
        "\n",
        "# Test 1\n",
        "attempts = attempts_function(5, 2)\n",
        "print(attempts)\n",
        "\n",
        "# Test 2\n",
        "attempts = attempts_function(5, 0)\n",
        "print(attempts)"
      ],
      "metadata": {
        "id": "MYnB17jTR2wK",
        "colab": {
          "base_uri": "https://localhost:8080/"
        },
        "outputId": "da83d8b3-94ef-4cf0-9130-c77d8587dc97"
      },
      "execution_count": 57,
      "outputs": [
        {
          "output_type": "stream",
          "name": "stdout",
          "text": [
            "2.5\n",
            "1\n",
            "there was an exception, please check the code\n",
            "1\n"
          ]
        }
      ]
    },
    {
      "cell_type": "code",
      "source": [
        "# Capturing a general exception (not a good practice)\n",
        "\n",
        "try:\n",
        "    result = 1 / 0\n",
        "    print(result)\n",
        "except Exception as exc:\n",
        "    print(\"there was an issue with the code, details:\")\n",
        "    print(exc)\n"
      ],
      "metadata": {
        "id": "AgIACo2rSZqH",
        "colab": {
          "base_uri": "https://localhost:8080/"
        },
        "outputId": "044029d2-5f78-4d3e-f21b-b90c367e0d5f"
      },
      "execution_count": 58,
      "outputs": [
        {
          "output_type": "stream",
          "name": "stdout",
          "text": [
            "there was an issue with the code, details:\n",
            "division by zero\n"
          ]
        }
      ]
    },
    {
      "cell_type": "code",
      "source": [
        "# fix the following code by capturing the exceptions individually\n",
        "\n",
        "def my_custom_divisor(a, b):\n",
        "    c = a / b\n",
        "    print(\"The answer of a divide by b:\", c)\n",
        "\n",
        "my_custom_divisor(5, 0)\n",
        "\n",
        "my_custom_divisor(\"jose\", 2)"
      ],
      "metadata": {
        "id": "ojX0vwysTDnb"
      },
      "execution_count": null,
      "outputs": []
    },
    {
      "cell_type": "code",
      "source": [
        "def my_function(a, b):\n",
        "    return a * b\n",
        "\n"
      ],
      "metadata": {
        "id": "u0qjLxMtyCP4"
      },
      "execution_count": 69,
      "outputs": []
    },
    {
      "cell_type": "code",
      "source": [
        "try:\n",
        "    pepito = my_function(2, 3)\n",
        "    print(pepito + 5)\n",
        "except:\n",
        "    print(\"no pude hacerlo\")"
      ],
      "metadata": {
        "colab": {
          "base_uri": "https://localhost:8080/"
        },
        "id": "J7UKS7ugyrej",
        "outputId": "160c4a00-501a-4372-d4f7-22c45bbd15ee"
      },
      "execution_count": 71,
      "outputs": [
        {
          "output_type": "stream",
          "name": "stdout",
          "text": [
            "None\n"
          ]
        }
      ]
    }
  ]
}