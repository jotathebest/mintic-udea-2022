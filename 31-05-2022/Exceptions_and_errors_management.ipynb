{
  "nbformat": 4,
  "nbformat_minor": 0,
  "metadata": {
    "colab": {
      "name": "Exceptions_and_errors_management.ipynb",
      "provenance": []
    },
    "kernelspec": {
      "name": "python3",
      "display_name": "Python 3"
    },
    "language_info": {
      "name": "python"
    }
  },
  "cells": [
    {
      "cell_type": "code",
      "execution_count": null,
      "metadata": {
        "id": "DKpvBC6sMiLv"
      },
      "outputs": [],
      "source": [
        "# Syntax errors --> The ones related to the expected python language write rules\n",
        "\n",
        "def my_function:\n",
        "    print(\"hello\")"
      ]
    },
    {
      "cell_type": "code",
      "source": [
        "while True\n",
        "    print(\"Hello\")\n",
        "    break"
      ],
      "metadata": {
        "id": "mhj0u3NyNbeG"
      },
      "execution_count": null,
      "outputs": []
    },
    {
      "cell_type": "code",
      "source": [
        "print(\"Welcome to PYnative\")\n",
        "    print(\"Learn Python with us..\")"
      ],
      "metadata": {
        "id": "J-pCnht3Stwy"
      },
      "execution_count": null,
      "outputs": []
    },
    {
      "cell_type": "code",
      "source": [
        "# Fix the programs above"
      ],
      "metadata": {
        "id": "-i6nq-NdNh-3"
      },
      "execution_count": null,
      "outputs": []
    },
    {
      "cell_type": "code",
      "source": [
        "# Exceptions --> The code fits the language's rules, but it throws an error related with other thing but not syntax\n",
        "# Available python exceptions may be referenced at https://docs.python.org/2/library/exceptions.html#exception-hierarchy\n",
        "\n",
        "result = 1 / 0\n",
        "print(result)"
      ],
      "metadata": {
        "id": "PeS4idSlOBja"
      },
      "execution_count": null,
      "outputs": []
    },
    {
      "cell_type": "code",
      "source": [
        "my_list = [\"jose\", \"garcia\"]\n",
        "print(f\"the surname is {my_list[3]}\")"
      ],
      "metadata": {
        "id": "IfLjbBSPOsiT"
      },
      "execution_count": null,
      "outputs": []
    },
    {
      "cell_type": "code",
      "source": [
        "blog_posts = [\n",
        "              {'Photos': 3, 'Likes': 21, 'Comments': 2}, \n",
        "              {'Likes': 13, 'Comments': 2, 'Shares': 1}, \n",
        "              {'Photos': 5, 'Likes': 33, 'Comments': 8, 'Shares': 3}, \n",
        "              {'Comments': 4, 'Shares': 2}, \n",
        "              {'Photos': 8, 'Comments': 1, 'Shares': 1}, \n",
        "              {'Photos': 3, 'Likes': 19, 'Comments': 3}\n",
        "              ]\n",
        "\n",
        "total_likes = 0\n",
        "\n",
        "for post in blog_posts:\n",
        "    total_likes = total_likes + post['Likes']"
      ],
      "metadata": {
        "id": "ggH_7w6eNlTu"
      },
      "execution_count": null,
      "outputs": []
    },
    {
      "cell_type": "code",
      "source": [
        "food = [\"chocolate\", \"chicken\", \"corn\", \"sandwich\", \"soup\", \"potatoes\", \"beef\", \"lox\", \"lemonade\"]\n",
        "fifth = []\n",
        "\n",
        "for x in food:\n",
        "    fifth.append(x[4])\n"
      ],
      "metadata": {
        "id": "NrPHv6WPO3Im"
      },
      "execution_count": null,
      "outputs": []
    },
    {
      "cell_type": "code",
      "source": [
        "# Fix the codes above"
      ],
      "metadata": {
        "id": "vtINLO-3Oxni"
      },
      "execution_count": null,
      "outputs": []
    },
    {
      "cell_type": "code",
      "source": [
        "# Handling exceptions: Try - Except\n",
        "\n",
        "# Let's fix the zero division error\n",
        "\n",
        "try:\n",
        "    result = 1 / 0\n",
        "    print(result)\n",
        "except:\n",
        "    print(\"you are attempting to divide by zero, this is not possible\")"
      ],
      "metadata": {
        "id": "9TF-d2FrO_Hb"
      },
      "execution_count": null,
      "outputs": []
    },
    {
      "cell_type": "code",
      "source": [
        "# include it inside a function\n",
        "\n",
        "def my_divisor(number, divisor):\n",
        "    try:\n",
        "        result = number / divisor\n",
        "        return result\n",
        "    except:\n",
        "        print(\"you are attempting to divide by zero, this is not possible\")\n",
        "        return None\n",
        "\n",
        "result_1 = my_divisor(10, 2)\n",
        "print(result_1)\n",
        "result_2 = my_divisor(10, 0)\n",
        "print(result_2)"
      ],
      "metadata": {
        "id": "swLw827QPNvy"
      },
      "execution_count": null,
      "outputs": []
    },
    {
      "cell_type": "code",
      "source": [
        "# We may be more specific about the exception we will capture\n",
        "import copy\n",
        "\n",
        "def add_item_to_list(input_list, item_position, number, divisor):\n",
        "    try:\n",
        "        obj_list = copy.deepcopy(input_list)\n",
        "        new_item = number / divisor\n",
        "        obj_list[item_position] = int(new_item)\n",
        "        return obj_list\n",
        "    except ZeroDivisionError:\n",
        "        print(\"You are trying to divide by zero, this is not allowed\")\n",
        "        return obj_list\n",
        "\n",
        "my_list = [1, 3]\n",
        "\n",
        "# test 1\n",
        "new_list = add_item_to_list(my_list, 0, 10, 5)\n",
        "print(new_list)\n",
        "\n",
        "# test 2\n",
        "new_list = add_item_to_list(my_list, 0, 10, 0)\n",
        "print(new_list)\n",
        "\n",
        "# test 3\n",
        "new_list = add_item_to_list(my_list, 5, 10, 5)\n",
        "print(new_list)"
      ],
      "metadata": {
        "id": "HbLzaeFzPmpc"
      },
      "execution_count": null,
      "outputs": []
    },
    {
      "cell_type": "code",
      "source": [
        "# you may capture multiple exceptions in the following way\n",
        "\n",
        "# try:\n",
        "#     <do something>\n",
        "# except <Exception name>:\n",
        "#     <do something>\n",
        "# except <Exception name>:\n",
        "#     <do something>\n",
        "\n",
        "# try:\n",
        "#     <do something>\n",
        "# except (<Exception name>, <Exception name>):\n",
        "#     <do something>\n",
        "\n",
        "# Fix the code above to capture the exception of the last line\n"
      ],
      "metadata": {
        "id": "XezPHPbCRH8N"
      },
      "execution_count": null,
      "outputs": []
    },
    {
      "cell_type": "code",
      "source": [
        "# The finally clause\n",
        "\n",
        "def attempts_function(number, divisor):\n",
        "    attempts = 0\n",
        "    try:\n",
        "        result = number / divisor\n",
        "        print(result)\n",
        "    except:\n",
        "        print(\"there was an exception, please check the code\")\n",
        "    finally:\n",
        "        attempts += 1\n",
        "    \n",
        "    return attempts\n",
        "\n",
        "# Test 1\n",
        "attempts = attempts_function(5, 2)\n",
        "print(attempts)\n",
        "\n",
        "# Test 2\n",
        "attempts = attempts_function(5, 0)\n",
        "print(attempts)"
      ],
      "metadata": {
        "id": "MYnB17jTR2wK"
      },
      "execution_count": null,
      "outputs": []
    },
    {
      "cell_type": "code",
      "source": [
        "# Capturing a general exception (not a good practice)\n",
        "\n",
        "try:\n",
        "    result = 1 / 0\n",
        "    print(result)\n",
        "except Exception as exc:\n",
        "    print(\"there was an issue with the code, details:\")\n",
        "    print(exc)\n"
      ],
      "metadata": {
        "id": "AgIACo2rSZqH"
      },
      "execution_count": null,
      "outputs": []
    },
    {
      "cell_type": "code",
      "source": [
        "# fix the following code by capturing the exceptions individually\n",
        "\n",
        "def my_custom_divisor(a, b):\n",
        "    c = a / b\n",
        "    print(\"The answer of a divide by b:\", c)\n",
        "\n",
        "# my_custom_divisor(5, 0)\n",
        "\n",
        "my_custom_divisor(\"jose\", 2)"
      ],
      "metadata": {
        "id": "ojX0vwysTDnb"
      },
      "execution_count": null,
      "outputs": []
    }
  ]
}