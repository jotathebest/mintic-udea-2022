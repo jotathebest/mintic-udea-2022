{
  "nbformat": 4,
  "nbformat_minor": 0,
  "metadata": {
    "colab": {
      "name": "19-05-2022.ipynb",
      "provenance": []
    },
    "kernelspec": {
      "name": "python3",
      "display_name": "Python 3"
    },
    "language_info": {
      "name": "python"
    }
  },
  "cells": [
    {
      "cell_type": "code",
      "execution_count": 4,
      "metadata": {
        "id": "nXYX15noruSo"
      },
      "outputs": [],
      "source": [
        "def print_a_name():\n",
        "    print(\"my name is Jose Garcia\")\n",
        "    print(\".....\")"
      ]
    },
    {
      "cell_type": "code",
      "source": [
        "print_a_name()"
      ],
      "metadata": {
        "colab": {
          "base_uri": "https://localhost:8080/"
        },
        "id": "4g5P4bEOs4p7",
        "outputId": "06758304-4e83-4f7f-98cc-ff0e8010f856"
      },
      "execution_count": 5,
      "outputs": [
        {
          "output_type": "stream",
          "name": "stdout",
          "text": [
            "my name is Jose Garcia\n",
            ".....\n"
          ]
        }
      ]
    },
    {
      "cell_type": "code",
      "source": [
        "def print_a_name(name):\n",
        "    print(\"my name is \" + str(name)*2)\n",
        "    print(\".....\")"
      ],
      "metadata": {
        "id": "LD5Jor4BtOPC"
      },
      "execution_count": 8,
      "outputs": []
    },
    {
      "cell_type": "code",
      "source": [
        "username = input(\"Insert a name: \")\n",
        "print_a_name(username)\n",
        "\n",
        "pepito = input(\"Insert a name: \")\n",
        "print_a_name(pepito)\n"
      ],
      "metadata": {
        "colab": {
          "base_uri": "https://localhost:8080/"
        },
        "id": "dTABtQTNtk1l",
        "outputId": "738c9ad0-addd-4779-cb66-046ece4ca72f"
      },
      "execution_count": 10,
      "outputs": [
        {
          "output_type": "stream",
          "name": "stdout",
          "text": [
            "Insert a name: Jose\n",
            "my name is JoseJose\n",
            ".....\n",
            "Insert a name: Sebastian\n",
            "my name is SebastianSebastian\n",
            ".....\n"
          ]
        }
      ]
    },
    {
      "cell_type": "code",
      "source": [
        "print_a_name(\"Otro nombre\")"
      ],
      "metadata": {
        "colab": {
          "base_uri": "https://localhost:8080/"
        },
        "id": "sS_JwWJhue5F",
        "outputId": "f0f20ea6-ef86-4476-88fc-1de64a12f214"
      },
      "execution_count": 11,
      "outputs": [
        {
          "output_type": "stream",
          "name": "stdout",
          "text": [
            "my name is Otro nombreOtro nombre\n",
            ".....\n"
          ]
        }
      ]
    },
    {
      "cell_type": "code",
      "source": [
        "def print_a_name(name, surname):\n",
        "    print(\"my name is \" + str(name)*2)\n",
        "    print(\"my surname is \" + surname)"
      ],
      "metadata": {
        "id": "vAuvQhmGuulu"
      },
      "execution_count": 12,
      "outputs": []
    },
    {
      "cell_type": "code",
      "source": [
        "print_a_name(\"jose\", \"garcia\")"
      ],
      "metadata": {
        "colab": {
          "base_uri": "https://localhost:8080/"
        },
        "id": "rnoUFXrXu4a1",
        "outputId": "474abd36-8770-4fdb-879e-536cbd5f77b8"
      },
      "execution_count": 13,
      "outputs": [
        {
          "output_type": "stream",
          "name": "stdout",
          "text": [
            "my name is josejose\n",
            "my surname is garcia\n"
          ]
        }
      ]
    },
    {
      "cell_type": "code",
      "source": [
        "name_1 = \"jose\"\n",
        "surname_1 = \"garcia\"\n",
        "print_a_name(name_1, surname_1)"
      ],
      "metadata": {
        "colab": {
          "base_uri": "https://localhost:8080/"
        },
        "id": "rtqnca2zvkQa",
        "outputId": "e7dd8190-4439-4410-f608-cf878d25dc86"
      },
      "execution_count": 15,
      "outputs": [
        {
          "output_type": "stream",
          "name": "stdout",
          "text": [
            "my name is josejose\n",
            "my surname is garcia\n"
          ]
        }
      ]
    },
    {
      "cell_type": "code",
      "source": [
        "def return_first_element(a_list):\n",
        "    print(a_list[0])"
      ],
      "metadata": {
        "id": "szuzZbPBwhM0"
      },
      "execution_count": 16,
      "outputs": []
    },
    {
      "cell_type": "code",
      "source": [
        "my_list = [\"jose\", \"garcia\", \"medellin\"]\n",
        "\n",
        "return_first_element(my_list)"
      ],
      "metadata": {
        "colab": {
          "base_uri": "https://localhost:8080/"
        },
        "id": "Pb1sje4awbAj",
        "outputId": "73f0bbfa-70c6-4877-edc3-1e8a865d5a2f"
      },
      "execution_count": 17,
      "outputs": [
        {
          "output_type": "stream",
          "name": "stdout",
          "text": [
            "jose\n"
          ]
        }
      ]
    },
    {
      "cell_type": "code",
      "source": [
        "# Exercise 2\n",
        "# Write a function that prints the squares of a series from 1 to N, where N is an input parameter\n",
        "# The function should print an error message, if N <= 0.\n",
        "\n",
        "def print_squares(N):\n",
        "    if N <= 0:\n",
        "        print(\"ERROR\")\n",
        "    else:\n",
        "        for number in range(1, N + 1):\n",
        "            print(number ** 2)"
      ],
      "metadata": {
        "id": "lQjfF5QlxNOW"
      },
      "execution_count": 25,
      "outputs": []
    },
    {
      "cell_type": "code",
      "source": [
        "#print_squares(10)\n",
        "#print_squares(20)\n",
        "print_squares(45)"
      ],
      "metadata": {
        "colab": {
          "base_uri": "https://localhost:8080/"
        },
        "id": "BLblilrtz7l7",
        "outputId": "27ed22af-f958-426e-91c7-59d6c0d429fb"
      },
      "execution_count": 29,
      "outputs": [
        {
          "output_type": "stream",
          "name": "stdout",
          "text": [
            "1\n",
            "4\n",
            "9\n",
            "16\n",
            "25\n",
            "36\n",
            "49\n",
            "64\n",
            "81\n",
            "100\n",
            "121\n",
            "144\n",
            "169\n",
            "196\n",
            "225\n",
            "256\n",
            "289\n",
            "324\n",
            "361\n",
            "400\n",
            "441\n",
            "484\n",
            "529\n",
            "576\n",
            "625\n",
            "676\n",
            "729\n",
            "784\n",
            "841\n",
            "900\n",
            "961\n",
            "1024\n",
            "1089\n",
            "1156\n",
            "1225\n",
            "1296\n",
            "1369\n",
            "1444\n",
            "1521\n",
            "1600\n",
            "1681\n",
            "1764\n",
            "1849\n",
            "1936\n",
            "2025\n"
          ]
        }
      ]
    },
    {
      "cell_type": "code",
      "source": [
        "N = input(\"insert a number: \")\n",
        "N = int(N)\n",
        "print_squares(N)"
      ],
      "metadata": {
        "colab": {
          "base_uri": "https://localhost:8080/"
        },
        "id": "yWDjMGBk0fQ_",
        "outputId": "b8080c59-1e62-4c26-e5ab-1f11e9d2895c"
      },
      "execution_count": 30,
      "outputs": [
        {
          "output_type": "stream",
          "name": "stdout",
          "text": [
            "insert a number: 50\n",
            "1\n",
            "4\n",
            "9\n",
            "16\n",
            "25\n",
            "36\n",
            "49\n",
            "64\n",
            "81\n",
            "100\n",
            "121\n",
            "144\n",
            "169\n",
            "196\n",
            "225\n",
            "256\n",
            "289\n",
            "324\n",
            "361\n",
            "400\n",
            "441\n",
            "484\n",
            "529\n",
            "576\n",
            "625\n",
            "676\n",
            "729\n",
            "784\n",
            "841\n",
            "900\n",
            "961\n",
            "1024\n",
            "1089\n",
            "1156\n",
            "1225\n",
            "1296\n",
            "1369\n",
            "1444\n",
            "1521\n",
            "1600\n",
            "1681\n",
            "1764\n",
            "1849\n",
            "1936\n",
            "2025\n",
            "2116\n",
            "2209\n",
            "2304\n",
            "2401\n",
            "2500\n"
          ]
        }
      ]
    },
    {
      "cell_type": "code",
      "source": [
        "import numpy as np\n",
        "def cuadrados_hasta_N(numeros):\n",
        "    for numero in numeros:\n",
        "        if numero <= 0:\n",
        "            print(\"Error\")\n",
        "        else: \n",
        "            cuadrados=numero ** 2\n",
        "            print(cuadrados)\n",
        "\n",
        "escriba=int(input(\"escriba sus numeros\"))    \n",
        "cuadrados_hasta_N([escriba])"
      ],
      "metadata": {
        "colab": {
          "base_uri": "https://localhost:8080/"
        },
        "id": "uB6KbfKB1Aks",
        "outputId": "b967c1a6-0a6c-4305-dcfc-da780ee03027"
      },
      "execution_count": 34,
      "outputs": [
        {
          "output_type": "stream",
          "name": "stdout",
          "text": [
            "escriba sus numeros10\n",
            "100\n"
          ]
        }
      ]
    },
    {
      "cell_type": "code",
      "source": [
        "# Exercise 1\n",
        "# Create a function that receives a list as input parameter, multiplies all the numbers (float, int)\n",
        "# inside the list by 2 and returns the new values.\n",
        "\n",
        "# Example:\n",
        "# input --> [True, \"jose\", \"garcia\", 1, 3.4, False, (), [], {\"a\": 1}]\n",
        "# output --> [True, \"jose\", \"garcia\", 2, 6.8, False, (), [], {\"a\": 1}]"
      ],
      "metadata": {
        "id": "SDsIAw0u3afP"
      },
      "execution_count": null,
      "outputs": []
    },
    {
      "cell_type": "code",
      "source": [
        "if type(\"jose\") == str:\n",
        "    print(\"es un string\")\n",
        "int, float"
      ],
      "metadata": {
        "colab": {
          "base_uri": "https://localhost:8080/"
        },
        "id": "CvnN9QTg3688",
        "outputId": "beb58256-a059-47e9-bf3a-a17871f386af"
      },
      "execution_count": 38,
      "outputs": [
        {
          "output_type": "stream",
          "name": "stdout",
          "text": [
            "es un string\n"
          ]
        }
      ]
    },
    {
      "cell_type": "code",
      "source": [
        "def my_function(a_list):\n",
        "    result = []\n",
        "    for item in a_list:\n",
        "        if type(item) == int or type(item) == float:\n",
        "            item = item * 2\n",
        "        result.append(item)\n",
        "    \n",
        "    print(result)"
      ],
      "metadata": {
        "id": "pd5w7dZR6oQh"
      },
      "execution_count": 39,
      "outputs": []
    },
    {
      "cell_type": "code",
      "source": [
        "my_list = [True, \"jose\", \"garcia\", 1, 3.4, False, (), [], {\"a\": 1}, 4.5]\n",
        "my_function(my_list)"
      ],
      "metadata": {
        "colab": {
          "base_uri": "https://localhost:8080/"
        },
        "id": "Lrpec34I7XOj",
        "outputId": "9d0e982a-53b3-4a05-c607-72bc7948cc5b"
      },
      "execution_count": 41,
      "outputs": [
        {
          "output_type": "stream",
          "name": "stdout",
          "text": [
            "[True, 'jose', 'garcia', 2, 6.8, False, (), [], {'a': 1}, 9.0]\n"
          ]
        }
      ]
    },
    {
      "cell_type": "code",
      "source": [
        "my_list = [True, \"jose\", \"garcia\", 1, 3.4, False, (), [], {\"a\": 1}, 4.5]\n",
        "print(my_list[3.4])"
      ],
      "metadata": {
        "colab": {
          "base_uri": "https://localhost:8080/",
          "height": 183
        },
        "id": "yJT_aroi8HW4",
        "outputId": "65e4f9b2-f5be-4c57-9311-0154780fbef3"
      },
      "execution_count": 45,
      "outputs": [
        {
          "output_type": "error",
          "ename": "TypeError",
          "evalue": "ignored",
          "traceback": [
            "\u001b[0;31m---------------------------------------------------------------------------\u001b[0m",
            "\u001b[0;31mTypeError\u001b[0m                                 Traceback (most recent call last)",
            "\u001b[0;32m<ipython-input-45-c6df51128650>\u001b[0m in \u001b[0;36m<module>\u001b[0;34m()\u001b[0m\n\u001b[1;32m      1\u001b[0m \u001b[0mmy_list\u001b[0m \u001b[0;34m=\u001b[0m \u001b[0;34m[\u001b[0m\u001b[0;32mTrue\u001b[0m\u001b[0;34m,\u001b[0m \u001b[0;34m\"jose\"\u001b[0m\u001b[0;34m,\u001b[0m \u001b[0;34m\"garcia\"\u001b[0m\u001b[0;34m,\u001b[0m \u001b[0;36m1\u001b[0m\u001b[0;34m,\u001b[0m \u001b[0;36m3.4\u001b[0m\u001b[0;34m,\u001b[0m \u001b[0;32mFalse\u001b[0m\u001b[0;34m,\u001b[0m \u001b[0;34m(\u001b[0m\u001b[0;34m)\u001b[0m\u001b[0;34m,\u001b[0m \u001b[0;34m[\u001b[0m\u001b[0;34m]\u001b[0m\u001b[0;34m,\u001b[0m \u001b[0;34m{\u001b[0m\u001b[0;34m\"a\"\u001b[0m\u001b[0;34m:\u001b[0m \u001b[0;36m1\u001b[0m\u001b[0;34m}\u001b[0m\u001b[0;34m,\u001b[0m \u001b[0;36m4.5\u001b[0m\u001b[0;34m]\u001b[0m\u001b[0;34m\u001b[0m\u001b[0;34m\u001b[0m\u001b[0m\n\u001b[0;32m----> 2\u001b[0;31m \u001b[0mprint\u001b[0m\u001b[0;34m(\u001b[0m\u001b[0mmy_list\u001b[0m\u001b[0;34m[\u001b[0m\u001b[0;36m3.4\u001b[0m\u001b[0;34m]\u001b[0m\u001b[0;34m)\u001b[0m\u001b[0;34m\u001b[0m\u001b[0;34m\u001b[0m\u001b[0m\n\u001b[0m",
            "\u001b[0;31mTypeError\u001b[0m: list indices must be integers or slices, not float"
          ]
        }
      ]
    },
    {
      "cell_type": "code",
      "source": [
        "def listmult(lista=[]):\n",
        "    position = 0\n",
        "    for i in lista: \n",
        "        if type(i)==int or type(i)==float: \n",
        "            x=i*2 \n",
        "        lista[position]=x\n",
        "        position += 1\n",
        "    print(lista) "
      ],
      "metadata": {
        "id": "GfmDR0ru71Tt"
      },
      "execution_count": null,
      "outputs": []
    }
  ]
}