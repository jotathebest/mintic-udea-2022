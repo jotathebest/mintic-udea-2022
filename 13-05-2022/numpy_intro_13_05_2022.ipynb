{
  "nbformat": 4,
  "nbformat_minor": 0,
  "metadata": {
    "colab": {
      "name": "numpy_intro_13_05_2022.ipynb",
      "provenance": []
    },
    "kernelspec": {
      "name": "python3",
      "display_name": "Python 3"
    },
    "language_info": {
      "name": "python"
    }
  },
  "cells": [
    {
      "cell_type": "code",
      "execution_count": 3,
      "metadata": {
        "colab": {
          "base_uri": "https://localhost:8080/"
        },
        "id": "l43Zj6MuqsaK",
        "outputId": "ef3af9bf-ac8c-4611-bf94-9d673632a785"
      },
      "outputs": [
        {
          "output_type": "stream",
          "name": "stdout",
          "text": [
            "[1 3 5 6] (4,)\n"
          ]
        }
      ],
      "source": [
        "import numpy as np\n",
        "\n",
        "my_list = [1, 3, 5, 6]\n",
        "\n",
        "my_vector = np.array(my_list)\n",
        "print(my_vector, my_vector.shape)"
      ]
    },
    {
      "cell_type": "code",
      "source": [
        "my_matrix = np.array([\n",
        "                       [1, 3, 5, 6],\n",
        "                       [3, 4, 9, 10] \n",
        "                     ])\n",
        "\n",
        "print(my_matrix, my_matrix.shape, sep=\"\\n\")"
      ],
      "metadata": {
        "colab": {
          "base_uri": "https://localhost:8080/"
        },
        "id": "e12EVECBrFW6",
        "outputId": "b0f083b4-e3a5-4ff3-921d-421750bc412f"
      },
      "execution_count": 5,
      "outputs": [
        {
          "output_type": "stream",
          "name": "stdout",
          "text": [
            "[[ 1  3  5  6]\n",
            " [ 3  4  9 10]]\n",
            "(2, 4)\n"
          ]
        }
      ]
    },
    {
      "cell_type": "code",
      "source": [
        "sudoku_list = [[0, 0, 4, 3, 0, 0, 2, 0, 9],\n",
        " [0, 0, 5, 0, 0, 9, 0, 0, 1],\n",
        " [0, 7, 0, 0, 6, 0, 0, 4, 3],\n",
        " [0, 0, 6, 0, 0, 2, 0, 8, 7],\n",
        " [1, 9, 0, 0, 0, 7, 4, 0, 0],\n",
        " [0, 5, 0, 0, 8, 3, 0, 0, 0],\n",
        " [6, 0, 0, 0, 0, 0, 1, 0, 5],\n",
        " [0, 0, 3, 5, 0, 8, 6, 9, 0],\n",
        " [0, 4, 2, 9, 1, 0, 3, 0, 0]]\n",
        "\n",
        "sudoku_vector = np.array(sudoku_list)\n",
        "print(sudoku_vector.shape)"
      ],
      "metadata": {
        "colab": {
          "base_uri": "https://localhost:8080/"
        },
        "id": "y2sbwjCjskA1",
        "outputId": "9891a8d3-3fa6-4244-d73b-6f5878161f5f"
      },
      "execution_count": 7,
      "outputs": [
        {
          "output_type": "stream",
          "name": "stdout",
          "text": [
            "(9, 9)\n"
          ]
        }
      ]
    },
    {
      "cell_type": "code",
      "source": [
        "np.array([\"jose\", True, 1.3, 3.4])"
      ],
      "metadata": {
        "colab": {
          "base_uri": "https://localhost:8080/"
        },
        "id": "xT0a_fNRtASe",
        "outputId": "5e8552df-b94c-4f43-f31a-6af1b19baa45"
      },
      "execution_count": 10,
      "outputs": [
        {
          "output_type": "execute_result",
          "data": {
            "text/plain": [
              "array(['jose', 'True', '1', '3'], dtype='<U21')"
            ]
          },
          "metadata": {},
          "execution_count": 10
        }
      ]
    },
    {
      "cell_type": "code",
      "source": [
        "print(sudoku_vector.dtype)"
      ],
      "metadata": {
        "colab": {
          "base_uri": "https://localhost:8080/"
        },
        "id": "ssNNCkXQtmBD",
        "outputId": "fb003cec-bc5f-42ab-f00d-ca8d307756de"
      },
      "execution_count": 9,
      "outputs": [
        {
          "output_type": "stream",
          "name": "stdout",
          "text": [
            "int64\n"
          ]
        }
      ]
    },
    {
      "cell_type": "code",
      "source": [
        "random_matrix = np.random.random((2 , 3))\n",
        "print(random_matrix)"
      ],
      "metadata": {
        "colab": {
          "base_uri": "https://localhost:8080/"
        },
        "id": "p3YrIJTQuS52",
        "outputId": "c1e0b3e4-7890-403f-e28d-e1dc1935d56f"
      },
      "execution_count": 15,
      "outputs": [
        {
          "output_type": "stream",
          "name": "stdout",
          "text": [
            "[[0.01541071 0.19765786 0.78907423]\n",
            " [0.5235814  0.14595916 0.92137562]]\n"
          ]
        }
      ]
    },
    {
      "cell_type": "code",
      "source": [
        "# Create an array of random floats which has six columns and three rows\n",
        "rows = 3\n",
        "columns = 6\n",
        "random_array = np.random.random((rows, columns)) * 100\n",
        "print(random_array)"
      ],
      "metadata": {
        "colab": {
          "base_uri": "https://localhost:8080/"
        },
        "id": "beyZjoFSvKgM",
        "outputId": "48577237-3098-4dbe-bb30-d46cca1b062c"
      },
      "execution_count": 17,
      "outputs": [
        {
          "output_type": "stream",
          "name": "stdout",
          "text": [
            "[[64.32961677 74.03800181 59.41173321 50.43858773 79.70516994 89.21152554]\n",
            " [32.72237192 84.47797352 58.62184949 44.81351378 59.07111051 81.70812726]\n",
            " [57.84053614 11.1820659  21.38428436 31.69227082 36.35503893  0.38192175]]\n"
          ]
        }
      ]
    },
    {
      "cell_type": "code",
      "source": [
        "random_rounded = np.round(random_array, 2)\n",
        "print(random_rounded)"
      ],
      "metadata": {
        "colab": {
          "base_uri": "https://localhost:8080/"
        },
        "id": "TYSfxQxFxOc5",
        "outputId": "9e47aaa2-b7a2-4e55-e923-b5819d1f4140"
      },
      "execution_count": 18,
      "outputs": [
        {
          "output_type": "stream",
          "name": "stdout",
          "text": [
            "[[64.33 74.04 59.41 50.44 79.71 89.21]\n",
            " [32.72 84.48 58.62 44.81 59.07 81.71]\n",
            " [57.84 11.18 21.38 31.69 36.36  0.38]]\n"
          ]
        }
      ]
    },
    {
      "cell_type": "code",
      "source": [
        "vector_range = np.arange(-3, 10, 2)\n",
        "print(vector_range)"
      ],
      "metadata": {
        "colab": {
          "base_uri": "https://localhost:8080/"
        },
        "id": "sDz-vf5Yx0vv",
        "outputId": "febe4153-9960-4505-a4a2-2f3319eea679"
      },
      "execution_count": 21,
      "outputs": [
        {
          "output_type": "stream",
          "name": "stdout",
          "text": [
            "[-3 -1  1  3  5  7  9]\n"
          ]
        }
      ]
    },
    {
      "cell_type": "code",
      "source": [
        "zeros = np.zeros((3, 5))\n",
        "print(zeros)\n",
        "\n",
        "ones = np.ones((3, 5))\n",
        "print(ones)\n",
        "\n",
        "identity = np.identity(5)\n",
        "print(identity)"
      ],
      "metadata": {
        "colab": {
          "base_uri": "https://localhost:8080/"
        },
        "id": "-NEAKHbJyaXp",
        "outputId": "3dc21b84-5f04-465a-a200-ea8c62f01b97"
      },
      "execution_count": 26,
      "outputs": [
        {
          "output_type": "stream",
          "name": "stdout",
          "text": [
            "[[0. 0. 0. 0. 0.]\n",
            " [0. 0. 0. 0. 0.]\n",
            " [0. 0. 0. 0. 0.]]\n",
            "[[1. 1. 1. 1. 1.]\n",
            " [1. 1. 1. 1. 1.]\n",
            " [1. 1. 1. 1. 1.]]\n",
            "[[1. 0. 0. 0. 0.]\n",
            " [0. 1. 0. 0. 0.]\n",
            " [0. 0. 1. 0. 0.]\n",
            " [0. 0. 0. 1. 0.]\n",
            " [0. 0. 0. 0. 1.]]\n"
          ]
        }
      ]
    },
    {
      "cell_type": "code",
      "source": [
        "# Create an array of zeros which has three rows and five columns\n",
        "\n",
        "zeros_array = ___\n",
        "print(zeros_array)\n"
      ],
      "metadata": {
        "id": "KT8V5EjJyoQw"
      },
      "execution_count": null,
      "outputs": []
    },
    {
      "cell_type": "code",
      "source": [
        "# triangular matrix\n",
        "\n",
        "tria = np.tri(5)\n",
        "print(tria)"
      ],
      "metadata": {
        "colab": {
          "base_uri": "https://localhost:8080/"
        },
        "id": "F9NBPPHgzo86",
        "outputId": "38335196-9db7-4c7d-ffac-5d73b2bdf133"
      },
      "execution_count": 27,
      "outputs": [
        {
          "output_type": "stream",
          "name": "stdout",
          "text": [
            "[[1. 0. 0. 0. 0.]\n",
            " [1. 1. 0. 0. 0.]\n",
            " [1. 1. 1. 0. 0.]\n",
            " [1. 1. 1. 1. 0.]\n",
            " [1. 1. 1. 1. 1.]]\n"
          ]
        }
      ]
    },
    {
      "cell_type": "code",
      "source": [
        "# Create an array of integers from one to ten\n",
        "one_to_ten = np.arange(0, 11)\n",
        "print(one_to_ten)"
      ],
      "metadata": {
        "colab": {
          "base_uri": "https://localhost:8080/"
        },
        "id": "iC954bnizz3Y",
        "outputId": "1bb617cc-cf50-4ca2-ff24-404cb0816cae"
      },
      "execution_count": 31,
      "outputs": [
        {
          "output_type": "stream",
          "name": "stdout",
          "text": [
            "[ 0  1  2  3  4  5  6  7  8  9 10]\n"
          ]
        }
      ]
    },
    {
      "cell_type": "code",
      "source": [
        "from matplotlib import pyplot as plt\n",
        "\n",
        "# Create your scatterplot\n",
        "doubling_array = [1, 2, 4, 8, 16, 32, 64, 128, 256, 512, 1024]\n",
        "plt.scatter(one_to_ten, doubling_array)\n",
        "plt.show()"
      ],
      "metadata": {
        "colab": {
          "base_uri": "https://localhost:8080/",
          "height": 265
        },
        "id": "DQEMSmXe0YXv",
        "outputId": "8e834088-f203-4102-96a8-27d6727ad01a"
      },
      "execution_count": 33,
      "outputs": [
        {
          "output_type": "display_data",
          "data": {
            "text/plain": [
              "<Figure size 432x288 with 1 Axes>"
            ],
            "image/png": "[encoded data removed]"
          },
          "metadata": {
            "needs_background": "light"
          }
        }
      ]
    },
    {
      "cell_type": "code",
      "source": [
        "my_matrix = [\n",
        "             [20, 180],\n",
        "             [30, 150],\n",
        "             [25, 160],\n",
        "             [30, 180],\n",
        "             [15, 175]\n",
        "]\n",
        "\n",
        "my_matrix = np.array(my_matrix)\n",
        "\n",
        "max_age = np.amax(my_matrix, axis=1)\n",
        "print(max_age)"
      ],
      "metadata": {
        "colab": {
          "base_uri": "https://localhost:8080/"
        },
        "id": "-blvkL0M1Qzb",
        "outputId": "24594bdf-32d7-43e8-c3e7-b477f211957f"
      },
      "execution_count": 43,
      "outputs": [
        {
          "output_type": "stream",
          "name": "stdout",
          "text": [
            "[180 150 160 180 175]\n"
          ]
        }
      ]
    }
  ]
}