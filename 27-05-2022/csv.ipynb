{
  "nbformat": 4,
  "nbformat_minor": 0,
  "metadata": {
    "colab": {
      "name": "csv.ipynb",
      "provenance": []
    },
    "kernelspec": {
      "name": "python3",
      "display_name": "Python 3"
    },
    "language_info": {
      "name": "python"
    }
  },
  "cells": [
    {
      "cell_type": "code",
      "execution_count": null,
      "metadata": {
        "id": "K4a0rJSumF5T"
      },
      "outputs": [],
      "source": [
        "!wget https://raw.githubusercontent.com/cosmolejo/dataRepo/master/starwars_characters.csv"
      ]
    },
    {
      "cell_type": "code",
      "source": [
        "!ls"
      ],
      "metadata": {
        "id": "tV3GDxE5mQbb"
      },
      "execution_count": null,
      "outputs": []
    },
    {
      "cell_type": "code",
      "source": [
        "# reads all the rows of the file\n",
        "import csv\n",
        "with open(\"starwars_characters.csv\", \"r\") as f:\n",
        "    reader = csv.reader(f)\n",
        "\n",
        "    headers = next(reader)\n",
        "    print(headers)\n",
        "\n",
        "    for row in reader:\n",
        "        print(row)\n",
        "    "
      ],
      "metadata": {
        "id": "jtz9A_ArmRdY"
      },
      "execution_count": null,
      "outputs": []
    },
    {
      "cell_type": "code",
      "source": [
        "# Make a program to count the number of rows and prints it, including the headers   \n",
        "\n",
        "counter = 0\n",
        "with open(\"starwars_characters.csv\", \"r\") as f:\n",
        "    reader = csv.reader(f)\n",
        "    for row in reader:\n",
        "        counter += 1\n",
        "\n",
        "print(f\"the number of rows is {counter}\")"
      ],
      "metadata": {
        "id": "783wnMNUnO9j"
      },
      "execution_count": null,
      "outputs": []
    },
    {
      "cell_type": "code",
      "source": [
        "# Reads as a Dictionary\n",
        "\n",
        "with open(\"starwars_characters.csv\", \"r\") as f:\n",
        "    reader = csv.DictReader(f)\n",
        "    for row in reader:\n",
        "        print(row)"
      ],
      "metadata": {
        "id": "R89-kN10n651"
      },
      "execution_count": null,
      "outputs": []
    },
    {
      "cell_type": "code",
      "source": [
        "# Write a program to print only the name and color eye of each person"
      ],
      "metadata": {
        "id": "ktvftxu4oNIt"
      },
      "execution_count": null,
      "outputs": []
    },
    {
      "cell_type": "code",
      "source": [
        "# Save to a file\n",
        "\n",
        "with open(\"test_1.csv\", \"w\") as f:\n",
        "    writer = csv.writer(f)\n",
        "\n",
        "    writer.writerow([\"name\",\"surname\"])\n",
        "    writer.writerow([\"jose\",\"garcia\"])"
      ],
      "metadata": {
        "id": "TMgzzv34oVpt"
      },
      "execution_count": null,
      "outputs": []
    },
    {
      "cell_type": "code",
      "source": [
        "with open(\"test_1.csv\", \"r\") as f:\n",
        "    print(f.read())"
      ],
      "metadata": {
        "id": "xBewqfuao51Z"
      },
      "execution_count": null,
      "outputs": []
    },
    {
      "cell_type": "code",
      "source": [
        "names = [\n",
        "         [\"jose\", \"garcia\"],\n",
        "         [\"carolina\", \"martinez\"],\n",
        "         [\"pepito\", \"perez\"]\n",
        "]\n",
        "\n",
        "with open(\"test_2.csv\", \"w\") as f:\n",
        "    writer = csv.writer(f)\n",
        "    writer.writerows(names)"
      ],
      "metadata": {
        "id": "8uc3oeCapGuU"
      },
      "execution_count": null,
      "outputs": []
    },
    {
      "cell_type": "code",
      "source": [
        "with open(\"test_2.csv\", \"r\") as f:\n",
        "    print(f.read())"
      ],
      "metadata": {
        "id": "8EZ1miDopV8G"
      },
      "execution_count": null,
      "outputs": []
    },
    {
      "cell_type": "code",
      "source": [
        "# Write a program that saves to a file the name, hair color and mass of each person in the data file "
      ],
      "metadata": {
        "id": "mPTApuoQpa_b"
      },
      "execution_count": null,
      "outputs": []
    }
  ]
}