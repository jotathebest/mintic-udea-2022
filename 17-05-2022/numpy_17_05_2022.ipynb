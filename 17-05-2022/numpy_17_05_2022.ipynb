{
  "nbformat": 4,
  "nbformat_minor": 0,
  "metadata": {
    "colab": {
      "name": "numpy_16_05_2022.ipynb",
      "provenance": []
    },
    "kernelspec": {
      "name": "python3",
      "display_name": "Python 3"
    },
    "language_info": {
      "name": "python"
    }
  },
  "cells": [
    {
      "cell_type": "code",
      "execution_count": null,
      "metadata": {
        "id": "sa2FOwkfOqVb"
      },
      "outputs": [],
      "source": [
        "# Create two random vectors, one to store the goals (from zero to 20) and\n",
        "# another one to store the assistances (from 0 to 10)\n",
        "import numpy as np\n",
        "\n",
        "names = [\"Roberto Firminho\", \"Harry Kane\", \"Lionel Messi\", \"Luis Diaz\", \"Lorenzo Insigne\"]\n",
        "nationalities = [\"Brazil\", \"England\", \"Argentina\", \"Colombia\", \"Italia\"]\n",
        "goals_vect = ___\n",
        "assistance_vect = ___\n",
        "\n"
      ]
    },
    {
      "cell_type": "code",
      "source": [
        "# Create the names and nationalities columns from the names and nationalities lists\n",
        "# value using the vector's transpose\n",
        "names_column = ___\n",
        "nationalities_column = ___\n",
        "\n",
        "# Concatenate the columns to create an unique matrix\n",
        "data_matrix = ____\n",
        "print(data_matrix)"
      ],
      "metadata": {
        "id": "TL8H7JitPGu2"
      },
      "execution_count": null,
      "outputs": []
    },
    {
      "cell_type": "code",
      "source": [
        "# Create the goals and assistances columns from the names and nationalities lists\n",
        "# value using the vector's transpose\n",
        "goals_column = ___\n",
        "assistance_column = ___\n",
        "\n",
        "# Concatenate the columns to create an unique matrix\n",
        "data_matrix = ____\n",
        "print(data_matrix)"
      ],
      "metadata": {
        "id": "D-_BZKVyPevX"
      },
      "execution_count": null,
      "outputs": []
    },
    {
      "cell_type": "code",
      "source": [
        "# Create a new matrix that contains only the columns of goals and assistances\n",
        "\n",
        "work_data = ___\n",
        "print(work_data)\n",
        "\n",
        "# Cast the matrix to store only int values\n",
        "work_data = np.array(work_data, dtype=np.int64)\n",
        "print(work_data)"
      ],
      "metadata": {
        "id": "QgTDL0gdPmec"
      },
      "execution_count": null,
      "outputs": []
    },
    {
      "cell_type": "code",
      "source": [
        "# find the best scorer and assistant\n",
        "\n",
        "max_values = ____\n",
        "print(max_values)\n",
        "\n",
        "highest_scorer = ___\n",
        "highest_assistance = ___"
      ],
      "metadata": {
        "id": "N5nTTOkqP1eB"
      },
      "execution_count": null,
      "outputs": []
    },
    {
      "cell_type": "code",
      "source": [
        "# find the position of the best assistance\n",
        "\n",
        "assistance_column = ___\n",
        "\n",
        "assistance_vector = assistance_column.flatten()\n",
        "best_assistant_positions = ___\n",
        "print(best_assistant_positions)"
      ],
      "metadata": {
        "id": "v2VzJ4ACQGNh"
      },
      "execution_count": null,
      "outputs": []
    },
    {
      "cell_type": "code",
      "source": [
        "# find the position of the best forwarder\n",
        "\n",
        "scores_column = ___\n",
        "\n",
        "scores_vector = scores_column.flatten()\n",
        "best_forwader_positions = ___\n",
        "print(best_forwader_positions)"
      ],
      "metadata": {
        "id": "6gIRdSC5QOZJ"
      },
      "execution_count": null,
      "outputs": []
    },
    {
      "cell_type": "code",
      "source": [
        "# Let's remember the data matrix\n",
        "\n",
        "print(data_matrix)"
      ],
      "metadata": {
        "id": "iLwe4nDMQSvL"
      },
      "execution_count": null,
      "outputs": []
    },
    {
      "cell_type": "code",
      "source": [
        "# Now, print the names of the best assistants\n",
        "\n",
        "print(\"the best assistants are:\")\n",
        "positions = best_assistant_positions[0]\n",
        "for position in positions:\n",
        "    print(___)"
      ],
      "metadata": {
        "id": "dQ5m3NvEQULr"
      },
      "execution_count": null,
      "outputs": []
    },
    {
      "cell_type": "code",
      "source": [
        "# Now, print the names of the best assistants\n",
        "\n",
        "print(\"the best forwarders are:\")\n",
        "positions = best_forwader_positions[0]\n",
        "for position in positions:\n",
        "    print(___)"
      ],
      "metadata": {
        "id": "iy8X84s0QYPn"
      },
      "execution_count": null,
      "outputs": []
    },
    {
      "cell_type": "markdown",
      "source": [
        ""
      ],
      "metadata": {
        "id": "ejwN_0dNPtzb"
      }
    }
  ]
}