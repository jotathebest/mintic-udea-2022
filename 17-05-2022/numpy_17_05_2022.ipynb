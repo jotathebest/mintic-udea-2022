{
  "nbformat": 4,
  "nbformat_minor": 0,
  "metadata": {
    "colab": {
      "name": "numpy_16_05_2022.ipynb",
      "provenance": []
    },
    "kernelspec": {
      "name": "python3",
      "display_name": "Python 3"
    },
    "language_info": {
      "name": "python"
    }
  },
  "cells": [
    {
      "cell_type": "code",
      "execution_count": 19,
      "metadata": {
        "id": "sa2FOwkfOqVb",
        "colab": {
          "base_uri": "https://localhost:8080/"
        },
        "outputId": "6b4b073f-7686-4528-9db5-5637062b1c0a"
      },
      "outputs": [
        {
          "output_type": "stream",
          "name": "stdout",
          "text": [
            "[13  0  8  5  9]\n",
            "[ 4 15 13 16  8]\n"
          ]
        }
      ],
      "source": [
        "# Create two random vectors, one to store the goals (from zero to 20) and\n",
        "# another one to store the assistances (from 0 to 10)\n",
        "import numpy as np\n",
        "\n",
        "names = [\"Roberto Firminho\", \"Harry Kane\", \"Lionel Messi\", \"Luis Diaz\", \"Lorenzo Insigne\"]\n",
        "nationalities = [\"Brazil\", \"England\", \"Argentina\", \"Colombia\", \"Italia\"]\n",
        "goals_vect = np.random.randint(0, 15, size=(5, ))\n",
        "assistance_vect = np.random.randint(0, 20, size=(5, ))\n",
        "\n",
        "print(goals_vect)\n",
        "print(assistance_vect)"
      ]
    },
    {
      "cell_type": "code",
      "source": [
        "my_list = [\"Jose garcia\", \"Carolina Martinez\"]\n",
        "my_vector = np.array([my_list])\n",
        "names_column = my_vector.T\n",
        "print(names_column)"
      ],
      "metadata": {
        "colab": {
          "base_uri": "https://localhost:8080/"
        },
        "id": "SLSNbUE5hR8e",
        "outputId": "ed07d824-270a-4b37-a49d-c8c0851d6800"
      },
      "execution_count": 9,
      "outputs": [
        {
          "output_type": "stream",
          "name": "stdout",
          "text": [
            "[['Jose garcia']\n",
            " ['Carolina Martinez']]\n"
          ]
        }
      ]
    },
    {
      "cell_type": "code",
      "source": [
        "my_cities_list = [\"Medellin\", \"Bucaramanga\"]\n",
        "my_cities_vector = np.array([my_cities_list])\n",
        "my_cities_column = my_cities_vector.T\n",
        "print(my_cities_column)"
      ],
      "metadata": {
        "colab": {
          "base_uri": "https://localhost:8080/"
        },
        "id": "_hW9qY-xjcOO",
        "outputId": "f198fa18-0db5-44ab-fe3a-6013fec799b8"
      },
      "execution_count": 20,
      "outputs": [
        {
          "output_type": "stream",
          "name": "stdout",
          "text": [
            "[['Medellin']\n",
            " ['Bucaramanga']]\n"
          ]
        }
      ]
    },
    {
      "cell_type": "code",
      "source": [
        "result = np.concatenate([names_column, my_cities_column], axis=1)\n",
        "print(result)"
      ],
      "metadata": {
        "colab": {
          "base_uri": "https://localhost:8080/"
        },
        "id": "1sOibPE8jtUo",
        "outputId": "0a0309c2-cbda-4bb8-b648-b76d93619dea"
      },
      "execution_count": 18,
      "outputs": [
        {
          "output_type": "stream",
          "name": "stdout",
          "text": [
            "[['Jose garcia' 'Medellin']\n",
            " ['Carolina Martinez' 'Bucaramanga']]\n"
          ]
        }
      ]
    },
    {
      "cell_type": "code",
      "source": [
        "# Create the names and nationalities columns from the names and nationalities lists\n",
        "# value using the vector's transpose\n",
        "names_column = np.array([names]).T\n",
        "nationalities_column = np.array([nationalities]).T\n",
        "\n",
        "#print(names_column)\n",
        "#print(nationalities_column)\n",
        "\n",
        "# Concatenate the columns to create an unique matrix\n",
        "data_matrix = np.concatenate([names_column, nationalities_column], axis=1)\n",
        "print(data_matrix)"
      ],
      "metadata": {
        "id": "TL8H7JitPGu2",
        "colab": {
          "base_uri": "https://localhost:8080/"
        },
        "outputId": "a152d708-14e8-4a9a-dbb0-b9d1d2bae9be"
      },
      "execution_count": 23,
      "outputs": [
        {
          "output_type": "stream",
          "name": "stdout",
          "text": [
            "[['Roberto Firminho' 'Brazil']\n",
            " ['Harry Kane' 'England']\n",
            " ['Lionel Messi' 'Argentina']\n",
            " ['Luis Diaz' 'Colombia']\n",
            " ['Lorenzo Insigne' 'Italia']]\n"
          ]
        }
      ]
    },
    {
      "cell_type": "code",
      "source": [
        "# Create the goals and assistances columns from the names and nationalities lists\n",
        "# value using the vector's transpose\n",
        "goals_column = np.array([goals_vect]).T\n",
        "assistance_column = np.array([assistance_vect]).T\n",
        "\n",
        "\n",
        "# Concatenate the columns to create an unique matrix\n",
        "#data_matrix = np.concatenate([names_column, nationalities_column, goals_column, assistance_column], axis=1)\n",
        "data_matrix = np.concatenate([data_matrix, goals_column, assistance_column], axis=1)\n",
        "print(data_matrix)"
      ],
      "metadata": {
        "id": "D-_BZKVyPevX",
        "colab": {
          "base_uri": "https://localhost:8080/"
        },
        "outputId": "e001382c-3fa5-438d-f214-85f391c9c0ef"
      },
      "execution_count": 28,
      "outputs": [
        {
          "output_type": "stream",
          "name": "stdout",
          "text": [
            "[['Roberto Firminho' 'Brazil' '13' '4']\n",
            " ['Harry Kane' 'England' '0' '15']\n",
            " ['Lionel Messi' 'Argentina' '8' '13']\n",
            " ['Luis Diaz' 'Colombia' '5' '16']\n",
            " ['Lorenzo Insigne' 'Italia' '9' '8']]\n"
          ]
        }
      ]
    },
    {
      "cell_type": "code",
      "source": [
        "test_matrix = np.array([\n",
        "                        [\"jose\", 20, 30, \"garcia\"],\n",
        "                        [\"carolina\", 30, 50, \"perez\"],\n",
        "                        [\"jesus\", 40, 60, \"perez\"],\n",
        "                        [\"antonio\", 10, 80, \"hincapie\"],\n",
        "])\n",
        "result = test_matrix[:, [1, 2]]\n",
        "print(result)"
      ],
      "metadata": {
        "colab": {
          "base_uri": "https://localhost:8080/"
        },
        "id": "gyWNxxNnowMA",
        "outputId": "150a1d79-3cb3-44c0-d526-1dc2b3ffef95"
      },
      "execution_count": 34,
      "outputs": [
        {
          "output_type": "stream",
          "name": "stdout",
          "text": [
            "[['20' '30']\n",
            " ['30' '50']\n",
            " ['40' '60']\n",
            " ['10' '80']]\n"
          ]
        }
      ]
    },
    {
      "cell_type": "code",
      "source": [
        "# Create a new matrix that contains only the columns of goals and assistances\n",
        "\n",
        "work_data = data_matrix[:, [2, 3]]\n",
        "print(work_data)\n",
        "\n",
        "# Cast the matrix to store only int values\n",
        "work_data = np.array(work_data, dtype=np.int64)\n",
        "print(work_data)"
      ],
      "metadata": {
        "id": "QgTDL0gdPmec",
        "colab": {
          "base_uri": "https://localhost:8080/"
        },
        "outputId": "fff0fefc-60bf-4673-efd6-306c36775377"
      },
      "execution_count": 35,
      "outputs": [
        {
          "output_type": "stream",
          "name": "stdout",
          "text": [
            "[['13' '4']\n",
            " ['0' '15']\n",
            " ['8' '13']\n",
            " ['5' '16']\n",
            " ['9' '8']]\n",
            "[[13  4]\n",
            " [ 0 15]\n",
            " [ 8 13]\n",
            " [ 5 16]\n",
            " [ 9  8]]\n"
          ]
        }
      ]
    },
    {
      "cell_type": "code",
      "source": [
        "# find the best scorer and assistant\n",
        "\n",
        "max_values = ____\n",
        "print(max_values)\n",
        "\n",
        "highest_scorer = ___\n",
        "highest_assistance = ___"
      ],
      "metadata": {
        "id": "N5nTTOkqP1eB"
      },
      "execution_count": null,
      "outputs": []
    },
    {
      "cell_type": "code",
      "source": [
        "# find the position of the best assistance\n",
        "\n",
        "assistance_column = ___\n",
        "\n",
        "assistance_vector = assistance_column.flatten()\n",
        "best_assistant_positions = ___\n",
        "print(best_assistant_positions)"
      ],
      "metadata": {
        "id": "v2VzJ4ACQGNh"
      },
      "execution_count": null,
      "outputs": []
    },
    {
      "cell_type": "code",
      "source": [
        "# find the position of the best forwarder\n",
        "\n",
        "scores_column = ___\n",
        "\n",
        "scores_vector = scores_column.flatten()\n",
        "best_forwader_positions = ___\n",
        "print(best_forwader_positions)"
      ],
      "metadata": {
        "id": "6gIRdSC5QOZJ"
      },
      "execution_count": null,
      "outputs": []
    },
    {
      "cell_type": "code",
      "source": [
        "# Let's remember the data matrix\n",
        "\n",
        "print(data_matrix)"
      ],
      "metadata": {
        "id": "iLwe4nDMQSvL"
      },
      "execution_count": null,
      "outputs": []
    },
    {
      "cell_type": "code",
      "source": [
        "# Now, print the names of the best assistants\n",
        "\n",
        "print(\"the best assistants are:\")\n",
        "positions = best_assistant_positions[0]\n",
        "for position in positions:\n",
        "    print(___)"
      ],
      "metadata": {
        "id": "dQ5m3NvEQULr"
      },
      "execution_count": null,
      "outputs": []
    },
    {
      "cell_type": "code",
      "source": [
        "# Now, print the names of the best assistants\n",
        "\n",
        "print(\"the best forwarders are:\")\n",
        "positions = best_forwader_positions[0]\n",
        "for position in positions:\n",
        "    print(___)"
      ],
      "metadata": {
        "id": "iy8X84s0QYPn"
      },
      "execution_count": null,
      "outputs": []
    },
    {
      "cell_type": "markdown",
      "source": [
        ""
      ],
      "metadata": {
        "id": "ejwN_0dNPtzb"
      }
    }
  ]
}