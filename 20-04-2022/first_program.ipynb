{
  "nbformat": 4,
  "nbformat_minor": 0,
  "metadata": {
    "colab": {
      "name": "first_program.ipynb",
      "provenance": []
    },
    "kernelspec": {
      "name": "python3",
      "display_name": "Python 3"
    },
    "language_info": {
      "name": "python"
    }
  },
  "cells": [
    {
      "cell_type": "markdown",
      "source": [
        "# My first Python Program"
      ],
      "metadata": {
        "id": "idyPkRIjk7YH"
      }
    },
    {
      "cell_type": "code",
      "execution_count": 5,
      "metadata": {
        "colab": {
          "base_uri": "https://localhost:8080/"
        },
        "id": "Sy56OaT4krL9",
        "outputId": "8431469b-1ec7-4491-feee-bb56b80639d1"
      },
      "outputs": [
        {
          "output_type": "stream",
          "name": "stdout",
          "text": [
            "Hello World\n",
            "Other text\n"
          ]
        }
      ],
      "source": [
        "print(\"Hello World\")\n",
        "print(\"Other text\")"
      ]
    },
    {
      "cell_type": "code",
      "source": [
        "print(\"Hello\" * 5)\n",
        "print(\"Hello\")"
      ],
      "metadata": {
        "colab": {
          "base_uri": "https://localhost:8080/"
        },
        "id": "s29AuldUk55w",
        "outputId": "5ce083b7-893a-40e1-af6a-c5ae4309d148"
      },
      "execution_count": 6,
      "outputs": [
        {
          "output_type": "stream",
          "name": "stdout",
          "text": [
            "HelloHelloHelloHelloHello\n",
            "Hello\n"
          ]
        }
      ]
    },
    {
      "cell_type": "code",
      "source": [
        "print(\"Hello\\n\" * 5)\n"
      ],
      "metadata": {
        "colab": {
          "base_uri": "https://localhost:8080/"
        },
        "id": "6gdXM6eHoDL1",
        "outputId": "958bf006-f934-4aeb-a62c-370dec861e68"
      },
      "execution_count": 10,
      "outputs": [
        {
          "output_type": "stream",
          "name": "stdout",
          "text": [
            "Hello\n",
            "Hello\n",
            "Hello\n",
            "Hello\n",
            "Hello\n",
            "\n"
          ]
        }
      ]
    },
    {
      "cell_type": "code",
      "source": [
        "print(\"Hello \" + \"World\")"
      ],
      "metadata": {
        "colab": {
          "base_uri": "https://localhost:8080/"
        },
        "id": "006YMVwVo5wg",
        "outputId": "9af00893-923c-42ac-87f5-65be80f7a310"
      },
      "execution_count": 13,
      "outputs": [
        {
          "output_type": "stream",
          "name": "stdout",
          "text": [
            "Hello World\n"
          ]
        }
      ]
    },
    {
      "cell_type": "code",
      "source": [
        "print(\"*\")\n",
        "print(\"**\")\n",
        "print(\"***\")\n",
        "print(\"****\")\n",
        "print(\"*****\")\n",
        "print(\"******\")"
      ],
      "metadata": {
        "colab": {
          "base_uri": "https://localhost:8080/"
        },
        "id": "51CL06Dsod8Q",
        "outputId": "c103cb7f-f62d-46b7-d492-7873e83c31ca"
      },
      "execution_count": 11,
      "outputs": [
        {
          "output_type": "stream",
          "name": "stdout",
          "text": [
            "*\n",
            "**\n",
            "***\n",
            "****\n",
            "*****\n",
            "******\n"
          ]
        }
      ]
    }
  ]
}