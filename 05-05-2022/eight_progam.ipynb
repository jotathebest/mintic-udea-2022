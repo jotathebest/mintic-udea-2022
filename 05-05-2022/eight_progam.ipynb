{
  "nbformat": 4,
  "nbformat_minor": 0,
  "metadata": {
    "colab": {
      "name": "eight_progam.ipynb",
      "provenance": []
    },
    "kernelspec": {
      "name": "python3",
      "display_name": "Python 3"
    },
    "language_info": {
      "name": "python"
    }
  },
  "cells": [
    {
      "cell_type": "code",
      "execution_count": null,
      "metadata": {
        "id": "xuLdnGqKeiZQ"
      },
      "outputs": [],
      "source": [
        "number = input(\"Insert a number: \")\n",
        "number = float(number)\n",
        "\n",
        "condition = number < 10\n",
        "\n",
        "if condition:\n",
        "    print(\"it is lower\")"
      ]
    },
    {
      "cell_type": "code",
      "source": [
        "print(not True)\n",
        "print(not False)"
      ],
      "metadata": {
        "colab": {
          "base_uri": "https://localhost:8080/"
        },
        "id": "C3qa3aXhg0dg",
        "outputId": "5d510739-71c1-4324-8883-a5c626ae4be3"
      },
      "execution_count": 2,
      "outputs": [
        {
          "output_type": "stream",
          "name": "stdout",
          "text": [
            "False\n",
            "True\n"
          ]
        }
      ]
    },
    {
      "cell_type": "code",
      "source": [
        "number = input(\"Insert a number: \")\n",
        "number = float(number)\n",
        "\n",
        "condition = number > 10\n",
        "\n",
        "if not condition:  # True\n",
        "    print(\"it is lower\")"
      ],
      "metadata": {
        "colab": {
          "base_uri": "https://localhost:8080/"
        },
        "id": "1lrkipJig99U",
        "outputId": "b56d34fa-9829-47c6-9234-d679a52a6cd3"
      },
      "execution_count": 4,
      "outputs": [
        {
          "output_type": "stream",
          "name": "stdout",
          "text": [
            "Insert a number: 1\n",
            "it is lower\n"
          ]
        }
      ]
    },
    {
      "cell_type": "code",
      "source": [
        "number = input(\"Insert a number: \")\n",
        "number = float(number)\n",
        "\n",
        "condition = number > 10\n",
        "\n",
        "if condition:  # True\n",
        "    print(\"it is greater\")"
      ],
      "metadata": {
        "id": "3RN3saj4hnnS"
      },
      "execution_count": null,
      "outputs": []
    },
    {
      "cell_type": "code",
      "source": [
        "number = input(\"Insert a number: \")\n",
        "number = float(number)\n",
        "\n",
        "condition = number > 10\n",
        "\n",
        "if condition:  # True\n",
        "    print(\"it is greater\")\n",
        "else:\n",
        "    print(\"it is lower\")"
      ],
      "metadata": {
        "colab": {
          "base_uri": "https://localhost:8080/"
        },
        "id": "tRJoj2yGh_16",
        "outputId": "ec52631a-1ca7-49dc-c52a-6fbe3c9671c0"
      },
      "execution_count": 7,
      "outputs": [
        {
          "output_type": "stream",
          "name": "stdout",
          "text": [
            "Insert a number: 10\n",
            "it is greater\n"
          ]
        }
      ]
    },
    {
      "cell_type": "code",
      "source": [
        "number = input(\"Insert a number: \")\n",
        "number = float(number)\n",
        "\n",
        "condition_1 = number > 10\n",
        "condition_2 = number < 10\n",
        "condition_3 = number == 10\n",
        "\n",
        "if condition_1:  # True\n",
        "    another_number = input(\"insert another number: \")\n",
        "\n",
        "if condition_2:\n",
        "    print(\"it is lower\")\n",
        "\n",
        "if condition_3:\n",
        "    print(\"it is equal\")"
      ],
      "metadata": {
        "id": "8fb8IfNLil2z"
      },
      "execution_count": null,
      "outputs": []
    },
    {
      "cell_type": "code",
      "source": [
        "number = input(\"Insert a number: \")\n",
        "number = float(number)\n",
        "\n",
        "condition_1 = number > 10\n",
        "condition_2 = number < 10\n",
        "condition_3 = number == 10\n",
        "\n",
        "if condition_1:\n",
        "    print(\"It is greater\")\n",
        "elif condition_2:\n",
        "    print(\"it is lower\")\n",
        "elif condition_3:\n",
        "    print(\"It is equal\")\n",
        "else:\n",
        "    print(\"ERROR\")"
      ],
      "metadata": {
        "id": "plTxkkV2lJkv"
      },
      "execution_count": null,
      "outputs": []
    },
    {
      "cell_type": "code",
      "source": [
        "my_list = [1, 3, 6, 9]\n",
        "\n",
        "my_number = input(\"insert a number:\")\n",
        "my_number = int(my_number)\n",
        "\n",
        "the_number_is_in_the_list  = my_number in my_list\n",
        "\n",
        "if the_number_is_in_the_list:\n",
        "    print(\"It is in the list\")\n",
        "else:\n",
        "    print(\"It is not in the list\")"
      ],
      "metadata": {
        "colab": {
          "base_uri": "https://localhost:8080/"
        },
        "id": "jmgQz-sEnjPO",
        "outputId": "0d97616e-ca7f-4390-def4-aa833e29e53f"
      },
      "execution_count": 9,
      "outputs": [
        {
          "output_type": "stream",
          "name": "stdout",
          "text": [
            "insert a number:3\n",
            "It is in the list\n"
          ]
        }
      ]
    },
    {
      "cell_type": "markdown",
      "source": [
        ""
      ],
      "metadata": {
        "id": "C3GR5JDrrAnz"
      }
    },
    {
      "cell_type": "code",
      "source": [
        "incrementer = 1\n",
        "print(incrementer)\n",
        "\n",
        "incrementer = incrementer + 1\n",
        "print(incrementer)\n",
        "\n",
        "incrementer += 1\n",
        "print(incrementer)"
      ],
      "metadata": {
        "colab": {
          "base_uri": "https://localhost:8080/"
        },
        "id": "gwcX-q-1oaDx",
        "outputId": "c9eccac1-1e14-4022-ca4e-998e6002badf"
      },
      "execution_count": 10,
      "outputs": [
        {
          "output_type": "stream",
          "name": "stdout",
          "text": [
            "1\n",
            "2\n",
            "3\n"
          ]
        }
      ]
    },
    {
      "cell_type": "code",
      "source": [
        "#Write a program that verifies if an user is in a DB. To do so, your DB will be the following list:\n",
        "\n",
        "#db = [\"Jose Garcia\", \"Carolina Martinez\", \"Gonzalo Garcia\", \"Adam Philiphs\", \"George Washington\"]\n",
        "\n",
        "#The user will have three attempts to try to guess a name available in the db, if the attempts are reached, you should print a message \"ERROR, max attemtps reached\".\n",
        "#If the user has not reached the attempts and the name does not exist, you should print \"ERROR, the name does not exist\"\n",
        "#If the name is in the DB, you should print \"OK, the name exists\""
      ],
      "metadata": {
        "id": "Zk2O0oXspuZV"
      },
      "execution_count": null,
      "outputs": []
    },
    {
      "cell_type": "code",
      "source": [
        "incrementer = 1\n",
        "\n",
        "incrementer *= 1.2\n",
        "print(incrementer)"
      ],
      "metadata": {
        "id": "z7H8yecgpfLI"
      },
      "execution_count": null,
      "outputs": []
    }
  ]
}