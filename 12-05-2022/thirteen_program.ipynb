{
  "nbformat": 4,
  "nbformat_minor": 0,
  "metadata": {
    "colab": {
      "name": "thirteen_program.ipynb",
      "provenance": []
    },
    "kernelspec": {
      "name": "python3",
      "display_name": "Python 3"
    },
    "language_info": {
      "name": "python"
    }
  },
  "cells": [
    {
      "cell_type": "code",
      "execution_count": 1,
      "metadata": {
        "colab": {
          "base_uri": "https://localhost:8080/"
        },
        "id": "XoRvan_Ngy5n",
        "outputId": "51b321f1-a199-4141-fec9-06355470026d"
      },
      "outputs": [
        {
          "output_type": "stream",
          "name": "stdout",
          "text": [
            "True\n"
          ]
        }
      ],
      "source": [
        "my_list = [\"Jose\", \"Garcia\", True, 1.4]\n",
        "\n",
        "print(my_list[2])"
      ]
    },
    {
      "cell_type": "code",
      "source": [
        "for item in my_list:\n",
        "    print(item)"
      ],
      "metadata": {
        "colab": {
          "base_uri": "https://localhost:8080/"
        },
        "id": "JjFl5V48icNM",
        "outputId": "c43d7e14-40fa-47bf-8aef-839a920f0eab"
      },
      "execution_count": 2,
      "outputs": [
        {
          "output_type": "stream",
          "name": "stdout",
          "text": [
            "Jose\n",
            "Garcia\n",
            "True\n",
            "1.4\n"
          ]
        }
      ]
    },
    {
      "cell_type": "code",
      "source": [
        "my_str = \"Jose Garcia\"\n",
        "print(my_str[3])"
      ],
      "metadata": {
        "colab": {
          "base_uri": "https://localhost:8080/"
        },
        "id": "3Am9qiKNijk_",
        "outputId": "ebc6841a-9b11-412e-b630-42c730bc3300"
      },
      "execution_count": 6,
      "outputs": [
        {
          "output_type": "stream",
          "name": "stdout",
          "text": [
            "e\n"
          ]
        }
      ]
    },
    {
      "cell_type": "code",
      "source": [
        "\"Jose\"\n",
        "[\"J\", \"o\", \"s\", \"e\"]"
      ],
      "metadata": {
        "id": "WOGzDufOi9NC"
      },
      "execution_count": null,
      "outputs": []
    },
    {
      "cell_type": "code",
      "source": [
        "my_str = \"Jose Garcia\"\n",
        "for letter in my_str:\n",
        "    print(letter)"
      ],
      "metadata": {
        "colab": {
          "base_uri": "https://localhost:8080/"
        },
        "id": "KgrNvnB1jZ6V",
        "outputId": "9d0eeeb7-f228-4c49-d53e-6fc83b02395c"
      },
      "execution_count": 7,
      "outputs": [
        {
          "output_type": "stream",
          "name": "stdout",
          "text": [
            "J\n",
            "o\n",
            "s\n",
            "e\n",
            " \n",
            "G\n",
            "a\n",
            "r\n",
            "c\n",
            "i\n",
            "a\n"
          ]
        }
      ]
    },
    {
      "cell_type": "code",
      "source": [
        "my_dict = {\"name\": \"Jose\", \"surname\": \"Garcia\", \"city\": \"Medellin\"}\n",
        "\n",
        "print(my_dict.keys())\n",
        "print(my_dict.values())"
      ],
      "metadata": {
        "colab": {
          "base_uri": "https://localhost:8080/"
        },
        "id": "H6S9Z5VOj7nY",
        "outputId": "800c0020-6879-46e6-ff2d-8c3a15cbb43a"
      },
      "execution_count": 10,
      "outputs": [
        {
          "output_type": "stream",
          "name": "stdout",
          "text": [
            "dict_keys(['name', 'surname', 'city'])\n",
            "dict_values(['Jose', 'Garcia', 'Medellin'])\n"
          ]
        }
      ]
    },
    {
      "cell_type": "code",
      "source": [
        "the_key_exists = \"city-2\" in my_dict.keys()\n",
        "print(the_key_exists)\n",
        "\n",
        "the_value_exists = \"Garcia\" in my_dict.values()\n",
        "print(the_value_exists)"
      ],
      "metadata": {
        "colab": {
          "base_uri": "https://localhost:8080/"
        },
        "id": "Cifr2yNlkYsH",
        "outputId": "f931f242-4459-4bc9-92c8-f0017864f771"
      },
      "execution_count": 14,
      "outputs": [
        {
          "output_type": "stream",
          "name": "stdout",
          "text": [
            "False\n",
            "False\n"
          ]
        }
      ]
    },
    {
      "cell_type": "code",
      "source": [
        "print(\"Garcia\" in my_dict)"
      ],
      "metadata": {
        "colab": {
          "base_uri": "https://localhost:8080/"
        },
        "id": "2j-ANN4qlKbs",
        "outputId": "b0cddaea-2303-4509-fabe-6fc72851fa87"
      },
      "execution_count": 16,
      "outputs": [
        {
          "output_type": "stream",
          "name": "stdout",
          "text": [
            "False\n"
          ]
        }
      ]
    },
    {
      "cell_type": "code",
      "source": [
        "my_dict = {\"key\": [], \"key_2\": \"value\"}"
      ],
      "metadata": {
        "id": "DnQJhxYVl5Em"
      },
      "execution_count": 18,
      "outputs": []
    },
    {
      "cell_type": "code",
      "source": [
        "my_dict = {}\n",
        "print(my_dict)\n",
        "\n",
        "name = input(\"insert your name:\")\n",
        "my_dict[\"new-key\"] = name\n",
        "print(my_dict)"
      ],
      "metadata": {
        "colab": {
          "base_uri": "https://localhost:8080/"
        },
        "id": "INvMhqXsmNVz",
        "outputId": "6789eed6-6d37-4620-b562-fead868083e2"
      },
      "execution_count": 22,
      "outputs": [
        {
          "output_type": "stream",
          "name": "stdout",
          "text": [
            "{}\n",
            "insert your name:Sebastian\n",
            "{'new-key': 'Sebastian'}\n"
          ]
        }
      ]
    },
    {
      "cell_type": "code",
      "source": [
        "my_dict_2 = {\"name\": \"jose\", \"surname\": \"Garcia\"}\n",
        "surname = my_dict_2[\"surname\"]\n",
        "print(surname)\n",
        "\n",
        "my_dict_2[\"surname\"] = \"Perez\"\n",
        "print(my_dict_2)"
      ],
      "metadata": {
        "colab": {
          "base_uri": "https://localhost:8080/"
        },
        "id": "RSsJXaemmXUb",
        "outputId": "40284e0d-6330-4922-9412-62f9c202aba8"
      },
      "execution_count": 21,
      "outputs": [
        {
          "output_type": "stream",
          "name": "stdout",
          "text": [
            "Garcia\n",
            "{'name': 'jose', 'surname': 'Perez'}\n"
          ]
        }
      ]
    },
    {
      "cell_type": "code",
      "source": [
        "# Dada una cadena de caracteres, determine cual es el caracter que mas se repite y\n",
        "# cuantas veces(case insensitive)\n",
        "# ejemplo: input = 'hola soy la letra mas repetida'\n",
        "# output = a 5\n",
        "\n",
        "\n"
      ],
      "metadata": {
        "id": "7kWg1T4ljqWX"
      },
      "execution_count": null,
      "outputs": []
    }
  ]
}