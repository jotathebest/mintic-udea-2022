{
  "nbformat": 4,
  "nbformat_minor": 0,
  "metadata": {
    "colab": {
      "name": "numpy_intro.ipynb",
      "provenance": []
    },
    "kernelspec": {
      "name": "python3",
      "display_name": "Python 3"
    },
    "language_info": {
      "name": "python"
    }
  },
  "cells": [
    {
      "cell_type": "code",
      "execution_count": 2,
      "metadata": {
        "id": "HRIpwsugRSa-"
      },
      "outputs": [],
      "source": [
        "import numpy as np\n",
        "sudoku_list = [[0, 0, 4, 3, 0, 0, 2, 0, 9],\n",
        " [0, 0, 5, 0, 0, 9, 0, 0, 1],\n",
        " [0, 7, 0, 0, 6, 0, 0, 4, 3],\n",
        " [0, 0, 6, 0, 0, 2, 0, 8, 7],\n",
        " [1, 9, 0, 0, 0, 7, 4, 0, 0],\n",
        " [0, 5, 0, 0, 8, 3, 0, 0, 0],\n",
        " [6, 0, 0, 0, 0, 0, 1, 0, 5],\n",
        " [0, 0, 3, 5, 0, 8, 6, 9, 0],\n",
        " [0, 4, 2, 9, 1, 0, 3, 0, 0]]"
      ]
    },
    {
      "cell_type": "code",
      "source": [
        "# create a sudoku array\n",
        "sudoky_game = ___\n",
        "print(sudoku_game)"
      ],
      "metadata": {
        "id": "JCqMbZ-IXSQd"
      },
      "execution_count": null,
      "outputs": []
    },
    {
      "cell_type": "code",
      "source": [
        "# Create an array of random floats which has six columns and three rows\n",
        "random_array = ___\n",
        "print(random_array)"
      ],
      "metadata": {
        "id": "Z3_5SYjbVKp5"
      },
      "execution_count": null,
      "outputs": []
    },
    {
      "cell_type": "code",
      "source": [
        "# Create an array of zeros which has three rows and five columns\n",
        "\n",
        "zeros_array = ___\n",
        "print(zeros_array)"
      ],
      "metadata": {
        "id": "rMCQO-E8VY7T"
      },
      "execution_count": null,
      "outputs": []
    },
    {
      "cell_type": "code",
      "source": [
        "# Create an array of random floats which has six columns and three rows\n",
        "random_array = __\n",
        "print(random_array)"
      ],
      "metadata": {
        "id": "8QHEoPBdVToc"
      },
      "execution_count": null,
      "outputs": []
    },
    {
      "cell_type": "code",
      "source": [
        "# Create an array of integers from one to ten\n",
        "one_to_ten = ___"
      ],
      "metadata": {
        "id": "UaHhmGQOVrt1"
      },
      "execution_count": null,
      "outputs": []
    },
    {
      "cell_type": "code",
      "source": [
        "from matplotlib import pyplot as plt\n",
        "\n",
        "# Create your scatterplot\n",
        "doubling_array = [1, 2, 4, 8, 16, 32, 64, 128, 256, 512]\n",
        "plt.scatter(one_to_ten, doubling_array)\n",
        "plt.show()"
      ],
      "metadata": {
        "id": "tDe9SDEZVtG_"
      },
      "execution_count": null,
      "outputs": []
    },
    {
      "cell_type": "code",
      "source": [
        "sudoku_game = [[0, 0, 4, 3, 0, 0, 2, 0, 9],\n",
        "       [0, 0, 5, 0, 0, 9, 0, 0, 1],\n",
        "       [0, 7, 0, 0, 6, 0, 0, 4, 3],\n",
        "       [0, 0, 6, 0, 0, 2, 0, 8, 7],\n",
        "       [1, 9, 0, 0, 0, 7, 4, 0, 0],\n",
        "       [0, 5, 0, 0, 8, 3, 0, 0, 0],\n",
        "       [6, 0, 0, 0, 0, 0, 1, 0, 5],\n",
        "       [0, 0, 3, 5, 0, 8, 6, 9, 0],\n",
        "       [0, 4, 2, 9, 1, 0, 3, 0, 0] ]"
      ],
      "metadata": {
        "id": "xJMuXfgmX_rj"
      },
      "execution_count": 1,
      "outputs": []
    },
    {
      "cell_type": "code",
      "source": [
        "sudoku_solution = [[8, 6, 4, 3, 7, 1, 2, 5, 9],\n",
        "       [3, 2, 5, 8, 4, 9, 7, 6, 1],\n",
        "       [9, 7, 1, 2, 6, 5, 8, 4, 3],\n",
        "       [4, 3, 6, 1, 9, 2, 5, 8, 7],\n",
        "       [1, 9, 8, 6, 5, 7, 4, 3, 2],\n",
        "       [2, 5, 7, 4, 8, 3, 9, 1, 6],\n",
        "       [6, 8, 9, 7, 3, 4, 1, 2, 5],\n",
        "       [7, 1, 3, 5, 2, 8, 6, 9, 4],\n",
        "       [5, 4, 2, 9, 1, 6, 3, 7, 8]]"
      ],
      "metadata": {
        "id": "sejebsNKZT1i"
      },
      "execution_count": 4,
      "outputs": []
    },
    {
      "cell_type": "code",
      "source": [
        "# change sudoku_game from a 2D array to a 1D array and back again\n",
        "\n",
        "# Flatten sudoku_game\n",
        "flattened_game = ___\n",
        "\n",
        "# Print the shape of flattened_game\n",
        "print(flattened_game.shape)\n",
        "\n",
        "# Reshape flattened_game back to a nine by nine array\n",
        "reshaped_game = ___\n",
        "\n",
        "# Print sudoku_game and reshaped_game\n",
        "print(sudoku_game)\n",
        "print(reshaped_game)"
      ],
      "metadata": {
        "id": "6dORcM4aatVZ"
      },
      "execution_count": null,
      "outputs": []
    },
    {
      "cell_type": "code",
      "source": [
        "# Create an array of zeros with three rows and two columns\n",
        "zero_array = ___\n",
        "\n",
        "# Print the data type of zero_array\n",
        "print(___)\n",
        "\n",
        "# Create a new array of int32 zeros with three rows and two columns\n",
        "zero_int_array = ___\n",
        "\n",
        "# Print the data type of zero_int_array\n",
        "print(____)"
      ],
      "metadata": {
        "id": "zJPui3L6c8yV"
      },
      "execution_count": null,
      "outputs": []
    }
  ]
}