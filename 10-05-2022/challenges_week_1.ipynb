{
  "nbformat": 4,
  "nbformat_minor": 0,
  "metadata": {
    "colab": {
      "name": "challenges_week_1.ipynb",
      "provenance": [],
      "collapsed_sections": []
    },
    "kernelspec": {
      "name": "python3",
      "display_name": "Python 3"
    },
    "language_info": {
      "name": "python"
    }
  },
  "cells": [
    {
      "cell_type": "code",
      "execution_count": 8,
      "metadata": {
        "colab": {
          "base_uri": "https://localhost:8080/"
        },
        "id": "m0TkDcHyOCdJ",
        "outputId": "1d8290c7-cdd6-465b-8de5-90df1031f43f"
      },
      "outputs": [
        {
          "output_type": "stream",
          "name": "stdout",
          "text": [
            "inser the number: 5\n",
            "The number is greater than 2 and less than 5\n"
          ]
        }
      ],
      "source": [
        "# How to know if a number is within a range\n",
        "\n",
        "number = float(input(\"inser the number: \"))\n",
        "\n",
        "if number > 2 and number < 5:\n",
        "    print(\"The number is greater than 2 and less than 5\")"
      ]
    },
    {
      "cell_type": "code",
      "source": [
        "# How to know if a number is within a range\n",
        "\n",
        "number = float(input(\"inser the number: \"))\n",
        "\n",
        "if 2 < number and 5 > number:\n",
        "    print(\"The number is greater than 2 and less than 5\")"
      ],
      "metadata": {
        "colab": {
          "base_uri": "https://localhost:8080/"
        },
        "id": "jVAtkzaTS6Xz",
        "outputId": "b740eabc-20d4-45a3-e7b0-7fbe3272d5f2"
      },
      "execution_count": 10,
      "outputs": [
        {
          "output_type": "stream",
          "name": "stdout",
          "text": [
            "inser the number: 3\n",
            "The number is greater than 2 and less than 5\n"
          ]
        }
      ]
    },
    {
      "cell_type": "code",
      "source": [
        "# How to know if a number is within a range\n",
        "\n",
        "number = float(input(\"inser the number: \"))\n",
        "\n",
        "if 2 < number < 5:\n",
        "    print(\"The number is greater than 2 and less than 5\")"
      ],
      "metadata": {
        "id": "r2_chDI6TNri"
      },
      "execution_count": null,
      "outputs": []
    },
    {
      "cell_type": "code",
      "source": [
        "# only for ints!!!\n",
        "number = int(input(\"inser the number: \"))\n",
        "\n",
        "if number in range(2, 5):\n",
        "    print(\"The number is greater than 2 and less than 5\")"
      ],
      "metadata": {
        "colab": {
          "base_uri": "https://localhost:8080/"
        },
        "id": "U8a1DUMvSFIy",
        "outputId": "4fc12ced-3dab-4825-90dc-cb87ffaecef8"
      },
      "execution_count": 9,
      "outputs": [
        {
          "name": "stdout",
          "output_type": "stream",
          "text": [
            "inser the number: 2.5\n"
          ]
        }
      ]
    },
    {
      "cell_type": "code",
      "source": [
        "# Calculator challenge\n",
        "\n",
        "it_has_iva = input(\"El producto tiene IVA? S/N: \") == \"S\"\n",
        "\n",
        "\n",
        "it_has_iva = input(\"El producto tiene IVA? S/N: \")\n",
        "it_has_iva = it_has_iva == \"S\"\n",
        "\n",
        "# this is not gonna happen: Si, SI, No, NO, "
      ],
      "metadata": {
        "id": "L56q4_4VWZlO"
      },
      "execution_count": null,
      "outputs": []
    },
    {
      "cell_type": "code",
      "source": [
        "subtotal = 30\n",
        "print(f\"SUBTOTAL: {subtotal}\")"
      ],
      "metadata": {
        "colab": {
          "base_uri": "https://localhost:8080/"
        },
        "id": "P5gBkZxgXRFK",
        "outputId": "b7df9abb-e0be-438b-8e1e-f84397fc89aa"
      },
      "execution_count": 13,
      "outputs": [
        {
          "output_type": "stream",
          "name": "stdout",
          "text": [
            "SUBTOTAL: 30\n"
          ]
        }
      ]
    },
    {
      "cell_type": "code",
      "source": [
        "value = input(\"cual es el valor\", \"cual es el otro valor?\")  #wrong"
      ],
      "metadata": {
        "id": "Ik9c8894YXwW"
      },
      "execution_count": null,
      "outputs": []
    },
    {
      "cell_type": "code",
      "source": [
        "print('\"¡Ups! Te pasaste\"') #wrong"
      ],
      "metadata": {
        "colab": {
          "base_uri": "https://localhost:8080/"
        },
        "id": "QdVTgsAlYq3N",
        "outputId": "2df38786-c3bb-4aab-a91a-e454a5d09ec2"
      },
      "execution_count": 14,
      "outputs": [
        {
          "output_type": "stream",
          "name": "stdout",
          "text": [
            "\"¡Ups! Te pasaste\"\n"
          ]
        }
      ]
    },
    {
      "cell_type": "code",
      "source": [
        "variable_1 = 3\n",
        "print(variable_1)\n",
        "variable_1 = \"jose\"\n",
        "print(variable_1)"
      ],
      "metadata": {
        "colab": {
          "base_uri": "https://localhost:8080/"
        },
        "id": "UlZLpsMgY23q",
        "outputId": "98a6fbd1-2b42-4543-dda8-8827a4eae625"
      },
      "execution_count": 15,
      "outputs": [
        {
          "output_type": "stream",
          "name": "stdout",
          "text": [
            "3\n",
            "jose\n"
          ]
        }
      ]
    },
    {
      "cell_type": "code",
      "source": [
        "# Nutricion\n",
        "\n",
        "Ac = 60.1\n",
        "Ap = 30.5\n",
        "Av = -24.4\n",
        "\n",
        "# diet = AcPc + AvPv + ApPp\n",
        "\n",
        "#Desnutricion\n",
        "Pc = 2\n",
        "Pv = 2\n",
        "Pp = 1\n",
        "\n",
        "diet = Ac * Pc + Av * Pv + Ap * Pp\n",
        "print(diet)"
      ],
      "metadata": {
        "colab": {
          "base_uri": "https://localhost:8080/"
        },
        "id": "KgTMTXS1aMks",
        "outputId": "f389fcff-58ae-42a8-e601-a776a0696cc3"
      },
      "execution_count": 17,
      "outputs": [
        {
          "output_type": "stream",
          "name": "stdout",
          "text": [
            "101.9\n"
          ]
        }
      ]
    },
    {
      "cell_type": "code",
      "source": [
        "peso = 20  # kg\n",
        "peso_ideal = 25  # kg\n",
        "\n",
        "peso_gr = 20000\n",
        "peso_ideal_gr = 25000\n",
        "\n",
        "days = 0\n",
        "while peso_gr < peso_ideal_gr:\n",
        "    diet = Ac * Pc + Av * Pv + Ap * Pp\n",
        "    peso_gr += diet\n",
        "    days += 1\n",
        "\n"
      ],
      "metadata": {
        "id": "KG8iY6eEbSp4"
      },
      "execution_count": null,
      "outputs": []
    },
    {
      "cell_type": "code",
      "source": [
        "edad = 6\n",
        "peso = 15\n",
        "\n",
        "peso_ideal = 22\n",
        "\n",
        "edad = 6\n",
        "peso = 29\n",
        "peso_ideal = 28\n",
        "\n",
        "edad = 6\n",
        "peso = 20\n",
        "peso_ideal = 28"
      ],
      "metadata": {
        "id": "vCh_xi0Ldmgt"
      },
      "execution_count": null,
      "outputs": []
    },
    {
      "cell_type": "code",
      "source": [
        "# if edad in range():\n",
        "    # if peso < 16:\n",
        "       # desnutricion"
      ],
      "metadata": {
        "id": "fNs7I5Ehe7KM"
      },
      "execution_count": null,
      "outputs": []
    }
  ]
}