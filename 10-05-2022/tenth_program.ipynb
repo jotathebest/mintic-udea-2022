{
  "nbformat": 4,
  "nbformat_minor": 0,
  "metadata": {
    "colab": {
      "name": "tenth_program.ipynb",
      "provenance": [],
      "collapsed_sections": []
    },
    "kernelspec": {
      "name": "python3",
      "display_name": "Python 3"
    },
    "language_info": {
      "name": "python"
    }
  },
  "cells": [
    {
      "cell_type": "code",
      "execution_count": null,
      "metadata": {
        "id": "07yOytXBgJ08"
      },
      "outputs": [],
      "source": [
        "# list \n",
        "my_list = [1, 2, 3]\n",
        "\n",
        "# tuple\n",
        "my_tuple = (1, 2, 3)\n",
        "\n",
        "# set\n",
        "my_set = {1, 2, 3}"
      ]
    },
    {
      "cell_type": "code",
      "source": [
        "#dict --> {key_1: value_1 , ... , key_n: value_n}\n",
        "\n",
        "my_dict = {\"key_1\": \"value_1\", \"key_2\": \"value_2\"}\n",
        "print(my_dict)"
      ],
      "metadata": {
        "colab": {
          "base_uri": "https://localhost:8080/"
        },
        "id": "q_8kVV3sgaTp",
        "outputId": "b7ceff11-85b3-488a-8342-e7cd0c51a667"
      },
      "execution_count": 1,
      "outputs": [
        {
          "output_type": "stream",
          "name": "stdout",
          "text": [
            "{'key_1': 'value_1', 'key_2': 'value_2'}\n"
          ]
        }
      ]
    },
    {
      "cell_type": "code",
      "source": [
        "my_dict_2 = {\"name\": \"jose garcia\", \"age\": 25, \"city\": \"Medellin\", \"passport\": True, 1: \"a value\"}\n",
        "name = my_dict_2[\"name\"]\n",
        "print(name)"
      ],
      "metadata": {
        "colab": {
          "base_uri": "https://localhost:8080/"
        },
        "id": "rXpuZkA8hH3b",
        "outputId": "f8b0f4b9-920e-4dd4-f8e0-3d7e85ed7395"
      },
      "execution_count": 2,
      "outputs": [
        {
          "output_type": "stream",
          "name": "stdout",
          "text": [
            "jose garcia\n"
          ]
        }
      ]
    },
    {
      "cell_type": "code",
      "source": [
        "my_dict_3 = {\"name\": \"name\", \"name\": \"jose\", \"name\": \"garcia\"}\n",
        "print(my_dict_3)"
      ],
      "metadata": {
        "colab": {
          "base_uri": "https://localhost:8080/"
        },
        "id": "PXUB15hFh8Uc",
        "outputId": "b9a129e3-c8d4-4476-f467-2fbd3174aa70"
      },
      "execution_count": 5,
      "outputs": [
        {
          "output_type": "stream",
          "name": "stdout",
          "text": [
            "{'name': 'garcia'}\n"
          ]
        }
      ]
    },
    {
      "cell_type": "code",
      "source": [
        "my_dict_4 = {\"name\": \"jose\", \"surname\": \"garcia\"}\n",
        "print(my_dict_4)\n",
        "\n",
        "another_name = \"Sebastian\"\n",
        "my_dict_4[\"name\"] = another_name\n",
        "print(my_dict_4)\n",
        "\n",
        "key_name = \"surname\"\n",
        "my_dict_4[key_name] = \"reyes\"\n",
        "print(my_dict_4)"
      ],
      "metadata": {
        "colab": {
          "base_uri": "https://localhost:8080/"
        },
        "id": "mi6GW9CTiNNL",
        "outputId": "87448aff-7d58-418a-d1da-19e6b5c7a1b1"
      },
      "execution_count": 8,
      "outputs": [
        {
          "output_type": "stream",
          "name": "stdout",
          "text": [
            "{'name': 'jose', 'surname': 'garcia'}\n",
            "{'name': 'Sebastian', 'surname': 'garcia'}\n",
            "{'name': 'Sebastian', 'surname': 'reyes'}\n"
          ]
        }
      ]
    },
    {
      "cell_type": "code",
      "source": [
        "for number in range(1, 11):\n",
        "    print(number, sep=\",\", end=\"\")"
      ],
      "metadata": {
        "colab": {
          "base_uri": "https://localhost:8080/"
        },
        "id": "XEEG90rAjSRA",
        "outputId": "ba9e6d92-18ab-4519-b46b-3cb4540fc901"
      },
      "execution_count": 10,
      "outputs": [
        {
          "output_type": "stream",
          "name": "stdout",
          "text": [
            "12345678910"
          ]
        }
      ]
    },
    {
      "cell_type": "code",
      "source": [
        "my_dict = {}\n",
        "my_dict[\"1\"] = 1\n",
        "print(my_dict)"
      ],
      "metadata": {
        "colab": {
          "base_uri": "https://localhost:8080/"
        },
        "id": "K6eP0rwtkLZQ",
        "outputId": "393ebe5e-5693-4eab-fb50-d2aa84d2a1b4"
      },
      "execution_count": 11,
      "outputs": [
        {
          "output_type": "stream",
          "name": "stdout",
          "text": [
            "{'1': 1}\n"
          ]
        }
      ]
    },
    {
      "cell_type": "code",
      "source": [
        "# read a number N --> int\n",
        "# build a dict that includes the squares of the numbers from 1 to N, where the dict's key is the number and the value is the square\n",
        "# N = 3\n",
        "# {1: 1, 2: 4, 3: 9}\n",
        "\n",
        "N = int(input(\"Insert N: \"))\n",
        "my_dict = {}\n",
        "\n",
        "for number in range(1, N + 1):\n",
        "    square = number ** 2\n",
        "    my_dict[number] = square\n",
        "\n",
        "print(my_dict)"
      ],
      "metadata": {
        "colab": {
          "base_uri": "https://localhost:8080/"
        },
        "id": "DTuKHzrsjlEA",
        "outputId": "2c3ee716-109a-459f-b2ab-ea3486481090"
      },
      "execution_count": 12,
      "outputs": [
        {
          "output_type": "stream",
          "name": "stdout",
          "text": [
            "Insert N: 10\n",
            "{1: 1, 2: 4, 3: 9, 4: 16, 5: 25, 6: 36, 7: 49, 8: 64, 9: 81, 10: 100}\n"
          ]
        }
      ]
    },
    {
      "cell_type": "code",
      "source": [
        "N = int(input(\"Insert N: \"))\n",
        "my_dict = {}\n",
        "\n",
        "for number in range(1, N + 1):\n",
        "    print(number)"
      ],
      "metadata": {
        "colab": {
          "base_uri": "https://localhost:8080/"
        },
        "id": "Z4Oi2PasnOZZ",
        "outputId": "48663d61-58b8-497a-b80e-85d7b6ccb299"
      },
      "execution_count": 15,
      "outputs": [
        {
          "output_type": "stream",
          "name": "stdout",
          "text": [
            "Insert N: 5\n",
            "1\n",
            "2\n",
            "3\n",
            "4\n",
            "5\n"
          ]
        }
      ]
    },
    {
      "cell_type": "code",
      "source": [
        "my_list = [\"jose\", \"garcia\", \"delgado\"]\n",
        "for item in my_list:\n",
        "    print(item)"
      ],
      "metadata": {
        "colab": {
          "base_uri": "https://localhost:8080/"
        },
        "id": "7c6irDwwnsKR",
        "outputId": "8c3e0603-1235-4098-af72-57cb6893e6f0"
      },
      "execution_count": 17,
      "outputs": [
        {
          "output_type": "stream",
          "name": "stdout",
          "text": [
            "jose\n",
            "garcia\n",
            "delgado\n"
          ]
        }
      ]
    },
    {
      "cell_type": "code",
      "source": [
        "my_dict = {\"name\": \"jose\", \"surname\": \"garcia\", \"city\": \"Medellin\"}\n",
        "\n",
        "for key in my_dict.keys():\n",
        "    print(key)"
      ],
      "metadata": {
        "colab": {
          "base_uri": "https://localhost:8080/"
        },
        "id": "cnqQP5IPoHUq",
        "outputId": "e167ecb8-e668-4a03-ebbb-1fcb46505413"
      },
      "execution_count": 18,
      "outputs": [
        {
          "output_type": "stream",
          "name": "stdout",
          "text": [
            "name\n",
            "surname\n",
            "city\n"
          ]
        }
      ]
    },
    {
      "cell_type": "code",
      "source": [
        "my_dict = {\"name\": \"jose\", \"surname\": \"garcia\", \"city\": \"Medellin\"}\n",
        "\n",
        "for value in my_dict.values():\n",
        "    print(value)"
      ],
      "metadata": {
        "colab": {
          "base_uri": "https://localhost:8080/"
        },
        "id": "a2IasrUKodof",
        "outputId": "9ff902d6-0364-4e01-d119-a824882e4c5c"
      },
      "execution_count": 19,
      "outputs": [
        {
          "output_type": "stream",
          "name": "stdout",
          "text": [
            "jose\n",
            "garcia\n",
            "Medellin\n"
          ]
        }
      ]
    },
    {
      "cell_type": "code",
      "source": [
        "my_dict = {\"name\": \"jose\", \"surname\": \"garcia\", \"city\": \"Medellin\"}\n",
        "\n",
        "for key, value in my_dict.items():\n",
        "    print(key, value)"
      ],
      "metadata": {
        "colab": {
          "base_uri": "https://localhost:8080/"
        },
        "id": "_DZFjkyxom_y",
        "outputId": "1c95c646-91dd-4d43-8da3-b873784bb346"
      },
      "execution_count": 20,
      "outputs": [
        {
          "output_type": "stream",
          "name": "stdout",
          "text": [
            "name jose\n",
            "surname garcia\n",
            "city Medellin\n"
          ]
        }
      ]
    },
    {
      "cell_type": "code",
      "source": [
        "my_list = []\n",
        "print(my_list)\n",
        "my_list.append(1)\n",
        "print(my_list)"
      ],
      "metadata": {
        "colab": {
          "base_uri": "https://localhost:8080/"
        },
        "id": "lnLFoxglpWJE",
        "outputId": "36fbeb96-234c-4e9b-ef79-ff1e8ee3e79b"
      },
      "execution_count": 21,
      "outputs": [
        {
          "output_type": "stream",
          "name": "stdout",
          "text": [
            "[]\n",
            "[1]\n"
          ]
        }
      ]
    },
    {
      "cell_type": "code",
      "source": [
        "my_list = []\n",
        "for number in range(1, 11):\n",
        "    if number % 2 == 0:  # even\n",
        "        my_list.append(number)\n",
        "print(my_list)"
      ],
      "metadata": {
        "colab": {
          "base_uri": "https://localhost:8080/"
        },
        "id": "xtOuhxTLpc6w",
        "outputId": "3cff6b1e-755d-4364-b01b-9f353e76094a"
      },
      "execution_count": 22,
      "outputs": [
        {
          "output_type": "stream",
          "name": "stdout",
          "text": [
            "[2, 4, 6, 8, 10]\n"
          ]
        }
      ]
    }
  ]
}