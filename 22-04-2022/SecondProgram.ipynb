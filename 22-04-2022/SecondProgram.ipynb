{
  "nbformat": 4,
  "nbformat_minor": 0,
  "metadata": {
    "colab": {
      "name": "SecondProgram.ipynb",
      "provenance": [],
      "collapsed_sections": []
    },
    "kernelspec": {
      "name": "python3",
      "display_name": "Python 3"
    },
    "language_info": {
      "name": "python"
    }
  },
  "cells": [
    {
      "cell_type": "code",
      "execution_count": 1,
      "metadata": {
        "colab": {
          "base_uri": "https://localhost:8080/"
        },
        "id": "knn7JQavjIVE",
        "outputId": "2e13143a-7cfe-4ce5-eb5d-b9aae04879f1"
      },
      "outputs": [
        {
          "output_type": "stream",
          "name": "stdout",
          "text": [
            "Jose\n",
            "Garcia\n"
          ]
        }
      ],
      "source": [
        "print(\"Jose\\nGarcia\")"
      ]
    },
    {
      "cell_type": "code",
      "source": [
        "print(\"Jose\\tGarcia\")"
      ],
      "metadata": {
        "colab": {
          "base_uri": "https://localhost:8080/"
        },
        "id": "rcxPUnhYjt0N",
        "outputId": "134fc586-df42-4cc3-93fa-359560c0e1d5"
      },
      "execution_count": 2,
      "outputs": [
        {
          "output_type": "stream",
          "name": "stdout",
          "text": [
            "Jose\tGarcia\n"
          ]
        }
      ]
    },
    {
      "cell_type": "code",
      "source": [
        "print(\"\\\\\")"
      ],
      "metadata": {
        "colab": {
          "base_uri": "https://localhost:8080/"
        },
        "id": "p2jsbVEXkDQe",
        "outputId": "d5d190ba-39c7-4967-da66-5cd96caad6ab"
      },
      "execution_count": 6,
      "outputs": [
        {
          "output_type": "stream",
          "name": "stdout",
          "text": [
            "\\\n"
          ]
        }
      ]
    },
    {
      "cell_type": "code",
      "source": [
        "# Jose said: \"Today is friday\"\n",
        "print(\"Jose said: 'Today is friday'\")\n",
        "print('Jose said: \"Today is friday\"')"
      ],
      "metadata": {
        "colab": {
          "base_uri": "https://localhost:8080/"
        },
        "id": "497ILgxWktAs",
        "outputId": "eedcaf9f-b1e1-43d2-89f4-e7eda6f71ad8"
      },
      "execution_count": 8,
      "outputs": [
        {
          "output_type": "stream",
          "name": "stdout",
          "text": [
            "Jose said: 'Today is friday'\n",
            "Jose said: \"Today is friday\"\n"
          ]
        }
      ]
    },
    {
      "cell_type": "code",
      "source": [
        "# BackSlash\n",
        "print(\"Jose said: \\\"Today is friday\\\"\")"
      ],
      "metadata": {
        "colab": {
          "base_uri": "https://localhost:8080/"
        },
        "id": "9O1WxcKalQWG",
        "outputId": "74c3dcc1-a9af-4607-f7f2-dff2cde50675"
      },
      "execution_count": 12,
      "outputs": [
        {
          "output_type": "stream",
          "name": "stdout",
          "text": [
            "Jose said: \"Today is friday\"\n"
          ]
        }
      ]
    },
    {
      "cell_type": "code",
      "source": [
        "print(\"Jose\", \"Garcia\", \"Delgado\", sep=\"\\t\")"
      ],
      "metadata": {
        "colab": {
          "base_uri": "https://localhost:8080/"
        },
        "id": "TfCSgMXAm4Mn",
        "outputId": "187fafb3-262b-4eb4-b386-83347e0d5f37"
      },
      "execution_count": 13,
      "outputs": [
        {
          "output_type": "stream",
          "name": "stdout",
          "text": [
            "Jose\tGarcia\tDelgado\n"
          ]
        }
      ]
    },
    {
      "cell_type": "code",
      "source": [
        "print(\"<>\", end=\"\")\n",
        "print(\"=\" * 30, end=\"\")\n",
        "print(\"<>\")\n",
        "print(\"||\", end=\"\")\n",
        "print(\"\\\\/\" * 15, end=\"\")\n",
        "print(\"||\")\n",
        "print(\"<> \" * 15)"
      ],
      "metadata": {
        "colab": {
          "base_uri": "https://localhost:8080/"
        },
        "id": "JuVvXd1JnGU8",
        "outputId": "32b87738-5a07-4ae5-e88a-a8a845fdf43e"
      },
      "execution_count": 38,
      "outputs": [
        {
          "output_type": "stream",
          "name": "stdout",
          "text": [
            "<>==============================<>\n",
            "||\\/\\/\\/\\/\\/\\/\\/\\/\\/\\/\\/\\/\\/\\/\\/||\n",
            "<> <> <> <> <> <> <> <> <> <> <> <> <> <> <> \n"
          ]
        }
      ]
    },
    {
      "cell_type": "code",
      "source": [
        "print(\"||\\/\\/\\/\\/\\/\\/\\/\\/\\/\\/\\/\\/\\/\\/\\/\\/||\")"
      ],
      "metadata": {
        "colab": {
          "base_uri": "https://localhost:8080/"
        },
        "id": "VhvR1Jcuo9mN",
        "outputId": "98434c16-7f64-4132-cc6e-0773eacd87ce"
      },
      "execution_count": 25,
      "outputs": [
        {
          "output_type": "stream",
          "name": "stdout",
          "text": [
            "||\\/\\/\\/\\/\\/\\/\\/\\/\\/\\/\\/\\/\\/\\/\\/\\/||\n"
          ]
        }
      ]
    },
    {
      "cell_type": "code",
      "source": [
        "print(\"Jose\")"
      ],
      "metadata": {
        "colab": {
          "base_uri": "https://localhost:8080/"
        },
        "id": "KA0Bas94pbez",
        "outputId": "459463d5-15ef-4cf0-b3d4-b815a50c2489"
      },
      "execution_count": 29,
      "outputs": [
        {
          "output_type": "stream",
          "name": "stdout",
          "text": [
            "Jose\n"
          ]
        }
      ]
    },
    {
      "cell_type": "code",
      "source": [
        "print(\"Jose\")\n",
        "print(\"Jose\""
      ],
      "metadata": {
        "colab": {
          "base_uri": "https://localhost:8080/",
          "height": 131
        },
        "id": "6LT2-H0st4Hq",
        "outputId": "b7d58de9-d36e-4e25-be03-5f974515258e"
      },
      "execution_count": 31,
      "outputs": [
        {
          "output_type": "error",
          "ename": "SyntaxError",
          "evalue": "ignored",
          "traceback": [
            "\u001b[0;36m  File \u001b[0;32m\"<ipython-input-31-1b876bb0c97d>\"\u001b[0;36m, line \u001b[0;32m2\u001b[0m\n\u001b[0;31m    print(\"Jose\"\u001b[0m\n\u001b[0m                ^\u001b[0m\n\u001b[0;31mSyntaxError\u001b[0m\u001b[0;31m:\u001b[0m unexpected EOF while parsing\n"
          ]
        }
      ]
    },
    {
      "cell_type": "code",
      "source": [
        "print(1 / 0)\n",
        "print(\"Jose\")"
      ],
      "metadata": {
        "colab": {
          "base_uri": "https://localhost:8080/",
          "height": 218
        },
        "id": "F-M4RZP7uE3f",
        "outputId": "a3c416bf-ee05-4c8e-b537-603350a228c5"
      },
      "execution_count": 33,
      "outputs": [
        {
          "output_type": "error",
          "ename": "ZeroDivisionError",
          "evalue": "ignored",
          "traceback": [
            "\u001b[0;31m---------------------------------------------------------------------------\u001b[0m",
            "\u001b[0;31mZeroDivisionError\u001b[0m                         Traceback (most recent call last)",
            "\u001b[0;32m<ipython-input-33-4be5c8e72e44>\u001b[0m in \u001b[0;36m<module>\u001b[0;34m()\u001b[0m\n\u001b[0;32m----> 1\u001b[0;31m \u001b[0mprint\u001b[0m\u001b[0;34m(\u001b[0m\u001b[0;36m1\u001b[0m \u001b[0;34m/\u001b[0m \u001b[0;36m0\u001b[0m\u001b[0;34m)\u001b[0m\u001b[0;34m\u001b[0m\u001b[0;34m\u001b[0m\u001b[0m\n\u001b[0m\u001b[1;32m      2\u001b[0m \u001b[0mprint\u001b[0m\u001b[0;34m(\u001b[0m\u001b[0;34m\"Jose\"\u001b[0m\u001b[0;34m)\u001b[0m\u001b[0;34m\u001b[0m\u001b[0;34m\u001b[0m\u001b[0m\n",
            "\u001b[0;31mZeroDivisionError\u001b[0m: division by zero"
          ]
        }
      ]
    },
    {
      "cell_type": "code",
      "source": [
        "name = \"Jose Garcia\"\n",
        "print(name)"
      ],
      "metadata": {
        "colab": {
          "base_uri": "https://localhost:8080/"
        },
        "id": "7EzdeWkYvCX5",
        "outputId": "78531cae-d977-4bc4-ae59-5a72e2432060"
      },
      "execution_count": 37,
      "outputs": [
        {
          "output_type": "stream",
          "name": "stdout",
          "text": [
            "Jose Garcia\n"
          ]
        }
      ]
    },
    {
      "cell_type": "code",
      "source": [
        "breadNumber = 4\n",
        "print(\"I ate \")\n",
        "print(breadNumber)\n",
        "print(\"breads\")"
      ],
      "metadata": {
        "colab": {
          "base_uri": "https://localhost:8080/"
        },
        "id": "xYR7z9HvuqRi",
        "outputId": "ee401c76-c160-49c6-ff08-c40ff35c9d85"
      },
      "execution_count": 34,
      "outputs": [
        {
          "output_type": "stream",
          "name": "stdout",
          "text": [
            "I ate \n",
            "4\n",
            "breads\n"
          ]
        }
      ]
    },
    {
      "cell_type": "code",
      "source": [
        "Patron=\"_|___|___|___|___|___|___|\"*6\n",
        "print(Patron)\n",
        "Patron2=\"___|___|___|___|___|___|___\"*6\n",
        "print(Patron2)\n",
        "print(Patron)\n",
        "print(Patron2, sep=\" \", end=\" \\n\")\n",
        "print(Patron, sep=\" \", end=\" \\n\")\n",
        "print(Patron2)\n",
        "print(Patron)\n",
        "print(Patron2, sep=\" \", end=\" \\n\")\n",
        "print(Patron, sep=\" \", end=\" \\n\") "
      ],
      "metadata": {
        "colab": {
          "base_uri": "https://localhost:8080/"
        },
        "id": "FZmMX6H0yGlQ",
        "outputId": "9af4c013-1efc-4f5c-8bdd-19946a4084e8"
      },
      "execution_count": 40,
      "outputs": [
        {
          "output_type": "stream",
          "name": "stdout",
          "text": [
            "_|___|___|___|___|___|___|_|___|___|___|___|___|___|_|___|___|___|___|___|___|_|___|___|___|___|___|___|_|___|___|___|___|___|___|_|___|___|___|___|___|___|\n",
            "___|___|___|___|___|___|______|___|___|___|___|___|______|___|___|___|___|___|______|___|___|___|___|___|______|___|___|___|___|___|______|___|___|___|___|___|___\n",
            "_|___|___|___|___|___|___|_|___|___|___|___|___|___|_|___|___|___|___|___|___|_|___|___|___|___|___|___|_|___|___|___|___|___|___|_|___|___|___|___|___|___|\n",
            "___|___|___|___|___|___|______|___|___|___|___|___|______|___|___|___|___|___|______|___|___|___|___|___|______|___|___|___|___|___|______|___|___|___|___|___|___ \n",
            "_|___|___|___|___|___|___|_|___|___|___|___|___|___|_|___|___|___|___|___|___|_|___|___|___|___|___|___|_|___|___|___|___|___|___|_|___|___|___|___|___|___| \n",
            "___|___|___|___|___|___|______|___|___|___|___|___|______|___|___|___|___|___|______|___|___|___|___|___|______|___|___|___|___|___|______|___|___|___|___|___|___\n",
            "_|___|___|___|___|___|___|_|___|___|___|___|___|___|_|___|___|___|___|___|___|_|___|___|___|___|___|___|_|___|___|___|___|___|___|_|___|___|___|___|___|___|\n",
            "___|___|___|___|___|___|______|___|___|___|___|___|______|___|___|___|___|___|______|___|___|___|___|___|______|___|___|___|___|___|______|___|___|___|___|___|___ \n",
            "_|___|___|___|___|___|___|_|___|___|___|___|___|___|_|___|___|___|___|___|___|_|___|___|___|___|___|___|_|___|___|___|___|___|___|_|___|___|___|___|___|___| \n"
          ]
        }
      ]
    },
    {
      "cell_type": "code",
      "source": [
        "print(\"_|\", end=\"\")\n",
        "Patron=\"___|___|___|___|___|___|\"*6\n",
        "print(Patron)"
      ],
      "metadata": {
        "colab": {
          "base_uri": "https://localhost:8080/"
        },
        "id": "c58YLSQRymCR",
        "outputId": "4a41f425-1c61-4a00-f035-7695d9baa765"
      },
      "execution_count": 42,
      "outputs": [
        {
          "output_type": "stream",
          "name": "stdout",
          "text": [
            "_|___|___|___|___|___|___|___|___|___|___|___|___|___|___|___|___|___|___|___|___|___|___|___|___|___|___|___|___|___|___|___|___|___|___|___|___|\n"
          ]
        }
      ]
    }
  ]
}