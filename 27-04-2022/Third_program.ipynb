{
  "nbformat": 4,
  "nbformat_minor": 0,
  "metadata": {
    "colab": {
      "name": "Third_program.ipynb",
      "provenance": [],
      "collapsed_sections": []
    },
    "kernelspec": {
      "name": "python3",
      "display_name": "Python 3"
    },
    "language_info": {
      "name": "python"
    }
  },
  "cells": [
    {
      "cell_type": "code",
      "execution_count": 1,
      "metadata": {
        "colab": {
          "base_uri": "https://localhost:8080/"
        },
        "id": "V3ZBfPPAS55U",
        "outputId": "d53deb19-519d-44f5-848a-d71b668840a7"
      },
      "outputs": [
        {
          "output_type": "stream",
          "name": "stdout",
          "text": [
            "Hello World\n"
          ]
        }
      ],
      "source": [
        "print(\"Hello World\")"
      ]
    },
    {
      "cell_type": "code",
      "source": [
        "message = \"Hello World\"\n",
        "print(message)"
      ],
      "metadata": {
        "colab": {
          "base_uri": "https://localhost:8080/"
        },
        "id": "VhYWJbbETE9H",
        "outputId": "a11116b7-1fa2-4c9a-8a56-32b533c4ba27"
      },
      "execution_count": 2,
      "outputs": [
        {
          "output_type": "stream",
          "name": "stdout",
          "text": [
            "Hello World\n"
          ]
        }
      ]
    },
    {
      "cell_type": "code",
      "source": [
        "print(message * 2)"
      ],
      "metadata": {
        "colab": {
          "base_uri": "https://localhost:8080/"
        },
        "id": "ZPZaGLAgTl6k",
        "outputId": "0667f02f-0982-4c1b-d597-2b47dee8b6e3"
      },
      "execution_count": 3,
      "outputs": [
        {
          "output_type": "stream",
          "name": "stdout",
          "text": [
            "Hello WorldHello World\n"
          ]
        }
      ]
    },
    {
      "cell_type": "code",
      "source": [
        "# Variable naming rules\n",
        "# 1. Should not begin by blank space\n",
        "\n",
        " message = \"Hello World\"\n",
        "print(message)"
      ],
      "metadata": {
        "colab": {
          "base_uri": "https://localhost:8080/",
          "height": 131
        },
        "id": "Ozj-grWtUYPB",
        "outputId": "dd0e4aa3-f1a4-487a-f053-71a9fb00d4ca"
      },
      "execution_count": 10,
      "outputs": [
        {
          "output_type": "error",
          "ename": "IndentationError",
          "evalue": "ignored",
          "traceback": [
            "\u001b[0;36m  File \u001b[0;32m\"<ipython-input-10-25000c1ba9b2>\"\u001b[0;36m, line \u001b[0;32m4\u001b[0m\n\u001b[0;31m    message = \"Hello World\"\u001b[0m\n\u001b[0m    ^\u001b[0m\n\u001b[0;31mIndentationError\u001b[0m\u001b[0;31m:\u001b[0m unexpected indent\n"
          ]
        }
      ]
    },
    {
      "cell_type": "code",
      "source": [
        "# Variable naming rules\n",
        "# 2. Should not begin by special characters: %$/()\\?¿&|\n",
        "$message = \"Hello World\"\n",
        "print($message)"
      ],
      "metadata": {
        "colab": {
          "base_uri": "https://localhost:8080/",
          "height": 131
        },
        "id": "6tPIY2QCUuS8",
        "outputId": "69104ec0-cfc9-45cf-859a-5abeed1b0ae0"
      },
      "execution_count": 9,
      "outputs": [
        {
          "output_type": "error",
          "ename": "SyntaxError",
          "evalue": "ignored",
          "traceback": [
            "\u001b[0;36m  File \u001b[0;32m\"<ipython-input-9-af9a172bd825>\"\u001b[0;36m, line \u001b[0;32m3\u001b[0m\n\u001b[0;31m    $message = \"Hello World\"\u001b[0m\n\u001b[0m    ^\u001b[0m\n\u001b[0;31mSyntaxError\u001b[0m\u001b[0;31m:\u001b[0m invalid syntax\n"
          ]
        }
      ]
    },
    {
      "cell_type": "code",
      "source": [
        "# Variable naming rules\n",
        "# 3. Should not begin by numbers\n",
        "4message = \"Hello World\"\n",
        "print(4message)"
      ],
      "metadata": {
        "colab": {
          "base_uri": "https://localhost:8080/",
          "height": 131
        },
        "id": "u8U7dQoMVHXN",
        "outputId": "348db1c6-666a-45d4-d054-831fa0894f20"
      },
      "execution_count": 8,
      "outputs": [
        {
          "output_type": "error",
          "ename": "SyntaxError",
          "evalue": "ignored",
          "traceback": [
            "\u001b[0;36m  File \u001b[0;32m\"<ipython-input-8-458f45193675>\"\u001b[0;36m, line \u001b[0;32m3\u001b[0m\n\u001b[0;31m    4message = \"Hello World\"\u001b[0m\n\u001b[0m           ^\u001b[0m\n\u001b[0;31mSyntaxError\u001b[0m\u001b[0;31m:\u001b[0m invalid syntax\n"
          ]
        }
      ]
    },
    {
      "cell_type": "code",
      "source": [
        "# Variable naming rules\n",
        "# 4. Should not contain blank spaces\n",
        "message 4 = \"Hello World\"\n",
        "print(message 4)"
      ],
      "metadata": {
        "colab": {
          "base_uri": "https://localhost:8080/",
          "height": 131
        },
        "id": "ob9BHXkDVbzn",
        "outputId": "dcf096fa-baf3-4dac-8bb1-83704199d0ff"
      },
      "execution_count": 7,
      "outputs": [
        {
          "output_type": "error",
          "ename": "SyntaxError",
          "evalue": "ignored",
          "traceback": [
            "\u001b[0;36m  File \u001b[0;32m\"<ipython-input-7-74e54f15e08b>\"\u001b[0;36m, line \u001b[0;32m3\u001b[0m\n\u001b[0;31m    message 4 = \"Hello World\"\u001b[0m\n\u001b[0m            ^\u001b[0m\n\u001b[0;31mSyntaxError\u001b[0m\u001b[0;31m:\u001b[0m invalid syntax\n"
          ]
        }
      ]
    },
    {
      "cell_type": "code",
      "source": [
        "message_4 = \"Hello World\"\n",
        "print(message_4)"
      ],
      "metadata": {
        "colab": {
          "base_uri": "https://localhost:8080/"
        },
        "id": "LiE5kl7dVVM4",
        "outputId": "2c96b22e-0fb3-4f8d-c904-4235909022f0"
      },
      "execution_count": 6,
      "outputs": [
        {
          "output_type": "stream",
          "name": "stdout",
          "text": [
            "Hello World\n"
          ]
        }
      ]
    },
    {
      "cell_type": "code",
      "source": [
        "#print = 4\n",
        "#print(\"Hello world\")"
      ],
      "metadata": {
        "id": "Pnnwmwb0WusL"
      },
      "execution_count": null,
      "outputs": []
    },
    {
      "cell_type": "code",
      "source": [
        "name = input(\"Insert your name:\")\n",
        "print(name)"
      ],
      "metadata": {
        "colab": {
          "base_uri": "https://localhost:8080/"
        },
        "id": "LTgTbBSXXkqu",
        "outputId": "f1bcc181-0582-449b-e4b3-868c1d2cae78"
      },
      "execution_count": 11,
      "outputs": [
        {
          "output_type": "stream",
          "name": "stdout",
          "text": [
            "Insert your name:Jose Garcia\n",
            "Jose Garcia\n"
          ]
        }
      ]
    },
    {
      "cell_type": "code",
      "source": [
        "number = input(\"insert a number:\")\n",
        "number_int = int(number)\n",
        "print(number_int * 2)"
      ],
      "metadata": {
        "colab": {
          "base_uri": "https://localhost:8080/"
        },
        "id": "M2bFQQrpYxJg",
        "outputId": "09ee9125-a999-468b-d9b6-6c3db1130bc9"
      },
      "execution_count": 14,
      "outputs": [
        {
          "output_type": "stream",
          "name": "stdout",
          "text": [
            "insert a number:6\n",
            "12\n"
          ]
        }
      ]
    },
    {
      "cell_type": "code",
      "source": [
        "# 1. Create a script that asks for the name and the surname of a person. The script should print the following message:\n",
        "# Your name is <name> and your surname is <surname> --> Your name is Jose and your surname is Garcia\n",
        "\n",
        "# 2. Create a script that asks the base and the height of a rectangle and prints its area\n",
        "# The area of the rectangle is <area>\n",
        "# Area = b * h\n",
        "# the variables that you read must be transformed in this way:\n",
        "\n",
        "# my_int_var = int(original_variable)"
      ],
      "metadata": {
        "id": "mOH-K7opYBjw"
      },
      "execution_count": null,
      "outputs": []
    },
    {
      "cell_type": "code",
      "source": [
        "# 1. Create a script that asks for the name and the surname of a person. The script should print the following message:\n",
        "# Your name is <name> and your surname is <surname> --> Your name is Jose and your surname is Garcia\n",
        "\n",
        "name = input(\"Insert your name:\")\n",
        "surname = input(\"Insert your surname:\")\n",
        "print(\"Your name is \", end=\"\")\n",
        "print(name, end=\"\")\n",
        "print(\" and your surname is \", end=\"\")\n",
        "print(surname)"
      ],
      "metadata": {
        "colab": {
          "base_uri": "https://localhost:8080/"
        },
        "id": "lQHSyiD6cBQA",
        "outputId": "4bd6ec8b-aa07-446d-f591-1e1b94482d1b"
      },
      "execution_count": 17,
      "outputs": [
        {
          "output_type": "stream",
          "name": "stdout",
          "text": [
            "Insert your name:Jose\n",
            "Insert your surname:Garcia\n",
            "Your name is Jose and your surname is Garcia\n"
          ]
        }
      ]
    },
    {
      "cell_type": "code",
      "source": [
        "# 1. Create a script that asks for the name and the surname of a person. The script should print the following message:\n",
        "# Your name is <name> and your surname is <surname> --> Your name is Jose and your surname is Garcia\n",
        "\n",
        "name = input(\"Insert your name:\")\n",
        "surname = input(\"Insert your surname:\")\n",
        "print(\"Your name is\", name, \"and your surname is\", surname)"
      ],
      "metadata": {
        "colab": {
          "base_uri": "https://localhost:8080/"
        },
        "id": "LsVyAc7Bcl1b",
        "outputId": "72f65840-0626-403d-c97f-862cfdb61088"
      },
      "execution_count": 19,
      "outputs": [
        {
          "output_type": "stream",
          "name": "stdout",
          "text": [
            "Insert your name:Jose\n",
            "Insert your surname:Garcia\n",
            "Your name is Jose and your surname is Garcia\n"
          ]
        }
      ]
    },
    {
      "cell_type": "code",
      "source": [
        "# 1. Create a script that asks for the name and the surname of a person. The script should print the following message:\n",
        "# Your name is <name> and your surname is <surname> --> Your name is Jose and your surname is Garcia\n",
        "\n",
        "name = input(\"Insert your name:\")\n",
        "surname = input(\"Insert your surname:\")\n",
        "print(\"Your name is \" + name + \" and your surname is \" + surname)"
      ],
      "metadata": {
        "colab": {
          "base_uri": "https://localhost:8080/"
        },
        "id": "UbbNxvGWc3oI",
        "outputId": "206fe97d-2e73-42cb-b284-7182b8decb05"
      },
      "execution_count": 20,
      "outputs": [
        {
          "output_type": "stream",
          "name": "stdout",
          "text": [
            "Insert your name:Jose\n",
            "Insert your surname:Garcia\n",
            "Your name is Jose and your surname is Garcia\n"
          ]
        }
      ]
    },
    {
      "cell_type": "code",
      "source": [
        "# 2. Create a script that asks the base and the height of a rectangle and prints its area\n",
        "# The area of the rectangle is <area>\n",
        "# Area = b * h\n",
        "# the variables that you read must be transformed in this way:\n",
        "\n",
        "# my_int_var = int(original_variable)\n",
        "\n",
        "base = input(\"Insert the rectangle's base:\")\n",
        "height = input(\"Insert the rectangle's height:\")\n",
        "area = base * height\n",
        "print(area)"
      ],
      "metadata": {
        "colab": {
          "base_uri": "https://localhost:8080/",
          "height": 253
        },
        "id": "aNO2ub1Rdufz",
        "outputId": "3dc85ab7-eeba-4c93-b852-cf8f1ca2b6e9"
      },
      "execution_count": 21,
      "outputs": [
        {
          "name": "stdout",
          "output_type": "stream",
          "text": [
            "Insert the rectangle's base:3\n",
            "Insert the rectangle's height:5\n"
          ]
        },
        {
          "output_type": "error",
          "ename": "TypeError",
          "evalue": "ignored",
          "traceback": [
            "\u001b[0;31m---------------------------------------------------------------------------\u001b[0m",
            "\u001b[0;31mTypeError\u001b[0m                                 Traceback (most recent call last)",
            "\u001b[0;32m<ipython-input-21-001bb4b98f10>\u001b[0m in \u001b[0;36m<module>\u001b[0;34m()\u001b[0m\n\u001b[1;32m      8\u001b[0m \u001b[0mbase\u001b[0m \u001b[0;34m=\u001b[0m \u001b[0minput\u001b[0m\u001b[0;34m(\u001b[0m\u001b[0;34m\"Insert the rectangle's base:\"\u001b[0m\u001b[0;34m)\u001b[0m\u001b[0;34m\u001b[0m\u001b[0;34m\u001b[0m\u001b[0m\n\u001b[1;32m      9\u001b[0m \u001b[0mheight\u001b[0m \u001b[0;34m=\u001b[0m \u001b[0minput\u001b[0m\u001b[0;34m(\u001b[0m\u001b[0;34m\"Insert the rectangle's height:\"\u001b[0m\u001b[0;34m)\u001b[0m\u001b[0;34m\u001b[0m\u001b[0;34m\u001b[0m\u001b[0m\n\u001b[0;32m---> 10\u001b[0;31m \u001b[0marea\u001b[0m \u001b[0;34m=\u001b[0m \u001b[0mbase\u001b[0m \u001b[0;34m*\u001b[0m \u001b[0mheight\u001b[0m\u001b[0;34m\u001b[0m\u001b[0;34m\u001b[0m\u001b[0m\n\u001b[0m\u001b[1;32m     11\u001b[0m \u001b[0mprint\u001b[0m\u001b[0;34m(\u001b[0m\u001b[0marea\u001b[0m\u001b[0;34m)\u001b[0m\u001b[0;34m\u001b[0m\u001b[0;34m\u001b[0m\u001b[0m\n",
            "\u001b[0;31mTypeError\u001b[0m: can't multiply sequence by non-int of type 'str'"
          ]
        }
      ]
    },
    {
      "cell_type": "code",
      "source": [
        "base = \"6\"\n",
        "height = \"5\"\n",
        "area = base * height"
      ],
      "metadata": {
        "colab": {
          "base_uri": "https://localhost:8080/",
          "height": 201
        },
        "id": "8-tTbdoceK1p",
        "outputId": "39fd5d60-d20e-4044-a6a2-e35a16bf3e97"
      },
      "execution_count": 22,
      "outputs": [
        {
          "output_type": "error",
          "ename": "TypeError",
          "evalue": "ignored",
          "traceback": [
            "\u001b[0;31m---------------------------------------------------------------------------\u001b[0m",
            "\u001b[0;31mTypeError\u001b[0m                                 Traceback (most recent call last)",
            "\u001b[0;32m<ipython-input-22-9ea33d0f4ecc>\u001b[0m in \u001b[0;36m<module>\u001b[0;34m()\u001b[0m\n\u001b[1;32m      1\u001b[0m \u001b[0mbase\u001b[0m \u001b[0;34m=\u001b[0m \u001b[0;34m\"6\"\u001b[0m\u001b[0;34m\u001b[0m\u001b[0;34m\u001b[0m\u001b[0m\n\u001b[1;32m      2\u001b[0m \u001b[0mheight\u001b[0m \u001b[0;34m=\u001b[0m \u001b[0;34m\"5\"\u001b[0m\u001b[0;34m\u001b[0m\u001b[0;34m\u001b[0m\u001b[0m\n\u001b[0;32m----> 3\u001b[0;31m \u001b[0marea\u001b[0m \u001b[0;34m=\u001b[0m \u001b[0mbase\u001b[0m \u001b[0;34m*\u001b[0m \u001b[0mheight\u001b[0m\u001b[0;34m\u001b[0m\u001b[0;34m\u001b[0m\u001b[0m\n\u001b[0m",
            "\u001b[0;31mTypeError\u001b[0m: can't multiply sequence by non-int of type 'str'"
          ]
        }
      ]
    },
    {
      "cell_type": "code",
      "source": [
        "base = 6\n",
        "height = 5\n",
        "area = base * height\n",
        "print(area)"
      ],
      "metadata": {
        "colab": {
          "base_uri": "https://localhost:8080/"
        },
        "id": "l-iEGCC9ebOZ",
        "outputId": "27e7d13c-c2ad-4303-a556-95c3661993ae"
      },
      "execution_count": 24,
      "outputs": [
        {
          "output_type": "stream",
          "name": "stdout",
          "text": [
            "30\n"
          ]
        }
      ]
    },
    {
      "cell_type": "code",
      "source": [
        "base = \"6\"\n",
        "height = \"5\"\n",
        "print(base + height)"
      ],
      "metadata": {
        "colab": {
          "base_uri": "https://localhost:8080/"
        },
        "id": "YxsSsaq1e02K",
        "outputId": "ae28c2e6-b08e-48b9-bf26-be67ad87561d"
      },
      "execution_count": 25,
      "outputs": [
        {
          "output_type": "stream",
          "name": "stdout",
          "text": [
            "65\n"
          ]
        }
      ]
    },
    {
      "cell_type": "code",
      "source": [
        "base = \"6\"\n",
        "height = \"5\"\n",
        "base_int = int(base)\n",
        "height_int = int(height)\n",
        "area = base_int * height_int\n",
        "print(area)"
      ],
      "metadata": {
        "colab": {
          "base_uri": "https://localhost:8080/"
        },
        "id": "Qm74uIqdfMFF",
        "outputId": "fd99ab8b-12bf-4f1d-be73-7ee0bf604955"
      },
      "execution_count": 28,
      "outputs": [
        {
          "output_type": "stream",
          "name": "stdout",
          "text": [
            "30\n"
          ]
        }
      ]
    },
    {
      "cell_type": "code",
      "source": [
        "base = input(\"Insert rectangle base in centimeters:\") \n",
        "base_int = int(base) \n",
        "heigth = input(\"Insert rectangle heigth in centimeters\") \n",
        "heigth_int = int(heigth) \n",
        "area = base_int * heigth_int \n",
        "print(area)"
      ],
      "metadata": {
        "colab": {
          "base_uri": "https://localhost:8080/"
        },
        "id": "5y8g893MhydB",
        "outputId": "00634b46-2588-44ce-8c04-a89f3945e502"
      },
      "execution_count": 34,
      "outputs": [
        {
          "output_type": "stream",
          "name": "stdout",
          "text": [
            "Insert rectangle base in centimeters:5\n",
            "Insert rectangle heigth in centimeters4\n",
            "20\n"
          ]
        }
      ]
    },
    {
      "cell_type": "code",
      "source": [
        "name= input(\"insert your name: \")\n",
        "surname= input(\"insert your surname: \") \n",
        "print(\"your name is\", end=\"\" ) \n",
        "print(name , end=\"\") \n",
        "print(\"your surname is\", end=\"\") \n",
        "print(surname) "
      ],
      "metadata": {
        "colab": {
          "base_uri": "https://localhost:8080/"
        },
        "id": "bRnkrC2wjJPj",
        "outputId": "8b471e63-b5f1-487d-d575-050a39bad579"
      },
      "execution_count": 35,
      "outputs": [
        {
          "output_type": "stream",
          "name": "stdout",
          "text": [
            "insert your name: Jose\n",
            "insert your surname: Garcia\n",
            "your name isJoseyour surname isGarcia\n"
          ]
        }
      ]
    },
    {
      "cell_type": "code",
      "source": [
        "base = \"6\"\n",
        "height = \"5\"\n",
        "base_int = int(base)\n",
        "height_int = int(height)\n",
        "area = base_int * height_int\n",
        "print(area)"
      ],
      "metadata": {
        "colab": {
          "base_uri": "https://localhost:8080/"
        },
        "id": "Cpfdk4apkcAR",
        "outputId": "0d23c0a5-e8f5-4090-91e5-2c6b2b39e36d"
      },
      "execution_count": 37,
      "outputs": [
        {
          "output_type": "stream",
          "name": "stdout",
          "text": [
            "6\n"
          ]
        }
      ]
    },
    {
      "cell_type": "code",
      "source": [
        "# The base is <base>\n",
        "base = 6\n",
        "base_str = str(base)\n",
        "text = \"the base is \"\n",
        "result = text + base_str\n",
        "print(result)"
      ],
      "metadata": {
        "colab": {
          "base_uri": "https://localhost:8080/"
        },
        "id": "d2EWwerKltI4",
        "outputId": "eae548fb-0ea9-4d64-abcf-9dd9b87bd860"
      },
      "execution_count": 40,
      "outputs": [
        {
          "output_type": "stream",
          "name": "stdout",
          "text": [
            "the base is 6\n"
          ]
        }
      ]
    },
    {
      "cell_type": "code",
      "source": [
        "# The base is <base>\n",
        "base = 6\n",
        "text = \"the base is \"\n",
        "print(text, base)"
      ],
      "metadata": {
        "colab": {
          "base_uri": "https://localhost:8080/"
        },
        "id": "J2hiSKbqmVOS",
        "outputId": "d4939966-0ec0-484b-da2b-272bcf021f47"
      },
      "execution_count": 43,
      "outputs": [
        {
          "output_type": "stream",
          "name": "stdout",
          "text": [
            "the base is  6\n"
          ]
        }
      ]
    },
    {
      "cell_type": "code",
      "source": [
        "# 2. Create a script that asks for the name and the surname of a person. The script should print the following message:\n",
        "# Your name is <name> and your surname is <surname> --> Your name is Jose and your surname is Garcia\n",
        "\n",
        "base = input(\"Insert rectangle base in centimeters: \")\n",
        "base_int = int(base)\n",
        "height = input(\"Insert rectangle height in centimeters: \") \n",
        "height_int = int(height)\n",
        "print (\"The area of the rectangle is\" + base_int * height_int + \"square centimeters\") # wrong\n",
        "print (\"The area of the rectangle is\", base_int * height_int , \"square centimeters\") # correct"
      ],
      "metadata": {
        "id": "riFP351-dZky"
      },
      "execution_count": null,
      "outputs": []
    },
    {
      "cell_type": "code",
      "source": [
        "name= input(\"insert your name \") \n",
        "surname = input(\"insert your surname \") \n",
        "print(\"your name is\", end=\" \") \n",
        "print(name, end=\" \") \n",
        "print(\"your surname is\", end=\" \") \n",
        "print(surname)"
      ],
      "metadata": {
        "colab": {
          "base_uri": "https://localhost:8080/"
        },
        "id": "T_OyruZhnWPi",
        "outputId": "25714372-8a22-4f92-8283-5e62bf6127d6"
      },
      "execution_count": 45,
      "outputs": [
        {
          "output_type": "stream",
          "name": "stdout",
          "text": [
            "insert your name Jose\n",
            "insert your surname Garcia\n",
            "your name is Jose your surname is Garcia\n"
          ]
        }
      ]
    },
    {
      "cell_type": "code",
      "source": [
        "# String\n",
        "name = \"Jose Garcia\"\n",
        "print(name)"
      ],
      "metadata": {
        "colab": {
          "base_uri": "https://localhost:8080/"
        },
        "id": "m-uRU98On0PM",
        "outputId": "19a3c6f3-6313-4e0b-9562-7ebfe3ee7094"
      },
      "execution_count": 46,
      "outputs": [
        {
          "output_type": "stream",
          "name": "stdout",
          "text": [
            "Jose Garcia\n"
          ]
        }
      ]
    },
    {
      "cell_type": "code",
      "source": [
        "# int\n",
        "value = 3\n",
        "print(value)"
      ],
      "metadata": {
        "colab": {
          "base_uri": "https://localhost:8080/"
        },
        "id": "4u-l5z0loHzP",
        "outputId": "93f75762-9a3d-4ae2-9cc2-6933fdff78bb"
      },
      "execution_count": 47,
      "outputs": [
        {
          "output_type": "stream",
          "name": "stdout",
          "text": [
            "3\n"
          ]
        }
      ]
    },
    {
      "cell_type": "code",
      "source": [
        "# float\n",
        "value = 3.1454652177\n",
        "print(value)"
      ],
      "metadata": {
        "colab": {
          "base_uri": "https://localhost:8080/"
        },
        "id": "XSUl8lPloNzh",
        "outputId": "b1138496-df08-421f-c237-6d1764adf8fb"
      },
      "execution_count": 50,
      "outputs": [
        {
          "output_type": "stream",
          "name": "stdout",
          "text": [
            "3.1454652177\n"
          ]
        }
      ]
    },
    {
      "cell_type": "code",
      "source": [
        "# float and int\n",
        "value_1 = 3\n",
        "value_2 = 3.5\n",
        "value_3 = value_1 * value_2\n",
        "print(value_3)"
      ],
      "metadata": {
        "colab": {
          "base_uri": "https://localhost:8080/"
        },
        "id": "sFNTfRbOo4ij",
        "outputId": "8fd2ff87-9de0-4925-8be5-f0aa7f5b1d04"
      },
      "execution_count": 51,
      "outputs": [
        {
          "output_type": "stream",
          "name": "stdout",
          "text": [
            "10.5\n"
          ]
        }
      ]
    },
    {
      "cell_type": "code",
      "source": [
        "# int and string\n",
        "value_1 = \"3\"\n",
        "value_2 = 3\n",
        "value_3 = value_1 * value_2\n",
        "print(value_3)"
      ],
      "metadata": {
        "colab": {
          "base_uri": "https://localhost:8080/"
        },
        "id": "q2FheBzJpJe3",
        "outputId": "ae691857-0b7d-470c-83d9-4f37e2f28f29"
      },
      "execution_count": 54,
      "outputs": [
        {
          "output_type": "stream",
          "name": "stdout",
          "text": [
            "333\n"
          ]
        }
      ]
    },
    {
      "cell_type": "code",
      "source": [
        "# float and string\n",
        "value_1 = \"3\"\n",
        "value_2 = 3.0\n",
        "value_3 = value_1 * value_2\n",
        "print(value_3)"
      ],
      "metadata": {
        "colab": {
          "base_uri": "https://localhost:8080/",
          "height": 218
        },
        "id": "yxR3SI0ZpZv4",
        "outputId": "d966d1c4-8248-4f42-e7a5-3c99f14c7563"
      },
      "execution_count": 56,
      "outputs": [
        {
          "output_type": "error",
          "ename": "TypeError",
          "evalue": "ignored",
          "traceback": [
            "\u001b[0;31m---------------------------------------------------------------------------\u001b[0m",
            "\u001b[0;31mTypeError\u001b[0m                                 Traceback (most recent call last)",
            "\u001b[0;32m<ipython-input-56-e249ca530d67>\u001b[0m in \u001b[0;36m<module>\u001b[0;34m()\u001b[0m\n\u001b[1;32m      2\u001b[0m \u001b[0mvalue_1\u001b[0m \u001b[0;34m=\u001b[0m \u001b[0;34m\"3\"\u001b[0m\u001b[0;34m\u001b[0m\u001b[0;34m\u001b[0m\u001b[0m\n\u001b[1;32m      3\u001b[0m \u001b[0mvalue_2\u001b[0m \u001b[0;34m=\u001b[0m \u001b[0;36m3.0\u001b[0m\u001b[0;34m\u001b[0m\u001b[0;34m\u001b[0m\u001b[0m\n\u001b[0;32m----> 4\u001b[0;31m \u001b[0mvalue_3\u001b[0m \u001b[0;34m=\u001b[0m \u001b[0mvalue_1\u001b[0m \u001b[0;34m*\u001b[0m \u001b[0mvalue_2\u001b[0m\u001b[0;34m\u001b[0m\u001b[0;34m\u001b[0m\u001b[0m\n\u001b[0m\u001b[1;32m      5\u001b[0m \u001b[0mprint\u001b[0m\u001b[0;34m(\u001b[0m\u001b[0mvalue_3\u001b[0m\u001b[0;34m)\u001b[0m\u001b[0;34m\u001b[0m\u001b[0;34m\u001b[0m\u001b[0m\n",
            "\u001b[0;31mTypeError\u001b[0m: can't multiply sequence by non-int of type 'float'"
          ]
        }
      ]
    },
    {
      "cell_type": "code",
      "source": [
        "# float and string\n",
        "value_1 = \"3\" # string\n",
        "value_2 = 3.0\n",
        "\n",
        "value_1 = int(\"3\") # int\n",
        "value_3 = value_1 * value_2\n",
        "print(value_3)"
      ],
      "metadata": {
        "colab": {
          "base_uri": "https://localhost:8080/"
        },
        "id": "9NnLNLUmp625",
        "outputId": "0997ba2e-61e1-40e6-c16a-599adb72d2b6"
      },
      "execution_count": 57,
      "outputs": [
        {
          "output_type": "stream",
          "name": "stdout",
          "text": [
            "9.0\n"
          ]
        }
      ]
    },
    {
      "cell_type": "code",
      "source": [
        "# float and string\n",
        "value_1 = \"3\"\n",
        "value_2 = 3.0\n",
        "\n",
        "value_2 = int(value_2)\n",
        "value_3 = value_1 * value_2\n",
        "print(value_3)"
      ],
      "metadata": {
        "colab": {
          "base_uri": "https://localhost:8080/"
        },
        "id": "drZkVTTtqYGl",
        "outputId": "69019e10-4d3b-4870-e8c8-1e9208475727"
      },
      "execution_count": 62,
      "outputs": [
        {
          "output_type": "stream",
          "name": "stdout",
          "text": [
            "josejosejose\n"
          ]
        }
      ]
    },
    {
      "cell_type": "code",
      "source": [
        "# float and string\n",
        "value_1 = \"h\"\n",
        "value_2 = 3.0\n",
        "\n",
        "value_3 = int(value_2)\n",
        "print(value_3)\n",
        "print(value_1 * value_3)"
      ],
      "metadata": {
        "colab": {
          "base_uri": "https://localhost:8080/"
        },
        "id": "WGEpsCeEq3mj",
        "outputId": "f2600213-062d-456b-a64f-273fd4f6c03e"
      },
      "execution_count": 67,
      "outputs": [
        {
          "output_type": "stream",
          "name": "stdout",
          "text": [
            "3\n",
            "hhh\n"
          ]
        }
      ]
    },
    {
      "cell_type": "code",
      "source": [
        "print(\"3\" * 3)"
      ],
      "metadata": {
        "colab": {
          "base_uri": "https://localhost:8080/"
        },
        "id": "0Dq9yomTrpcH",
        "outputId": "af5ead6a-1621-47b3-f645-dfcfae04020e"
      },
      "execution_count": 65,
      "outputs": [
        {
          "output_type": "stream",
          "name": "stdout",
          "text": [
            "333\n"
          ]
        }
      ]
    },
    {
      "cell_type": "code",
      "source": [
        "value_1 = 3; value_2 = 4"
      ],
      "metadata": {
        "id": "R760k5rrtBZt"
      },
      "execution_count": 69,
      "outputs": []
    }
  ]
}