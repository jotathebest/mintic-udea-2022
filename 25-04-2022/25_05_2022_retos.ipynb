{
  "nbformat": 4,
  "nbformat_minor": 0,
  "metadata": {
    "colab": {
      "name": "25_05_2022_retos.ipynb",
      "provenance": []
    },
    "kernelspec": {
      "name": "python3",
      "display_name": "Python 3"
    },
    "language_info": {
      "name": "python"
    }
  },
  "cells": [
    {
      "cell_type": "code",
      "execution_count": 2,
      "metadata": {
        "colab": {
          "base_uri": "https://localhost:8080/",
          "height": 131
        },
        "id": "27QA_1Fhc6Zw",
        "outputId": "e965a3c0-a5b1-4ad0-f0d5-82357b43c561"
      },
      "outputs": [
        {
          "output_type": "error",
          "ename": "IndentationError",
          "evalue": "ignored",
          "traceback": [
            "\u001b[0;36m  File \u001b[0;32m\"<ipython-input-2-dbce50c6f22b>\"\u001b[0;36m, line \u001b[0;32m2\u001b[0m\n\u001b[0;31m    surname = \"garcia\"\u001b[0m\n\u001b[0m    ^\u001b[0m\n\u001b[0;31mIndentationError\u001b[0m\u001b[0;31m:\u001b[0m unexpected indent\n"
          ]
        }
      ],
      "source": [
        "name = \"jose\"\n",
        "    surname = \"garcia\"\n",
        "print(name, surname )"
      ]
    },
    {
      "cell_type": "code",
      "source": [
        "# if, def, for, while\n",
        "name = input(\"insert a name:\")\n",
        "surname = input(\"insert a surname:\")\n",
        "city = input(\"insert a city:\")\n",
        "\n",
        "#if name == \"jose\" and surname == \"garcia\":\n",
        "#    print(\"ganaste\")\n",
        "\n",
        "if name == \"jose\":\n",
        "    print(\"entra al primer condicional\")\n",
        "    if surname == \"garcia\":\n",
        "        print(\"ganaste\")\n",
        "        if city == \"Medellin\":\n",
        "            print(\"La ciudad es medellin\")\n",
        "        \n",
        "a = 1\n",
        "b = 2\n",
        "print(a + b)"
      ],
      "metadata": {
        "colab": {
          "base_uri": "https://localhost:8080/",
          "height": 131
        },
        "id": "sMqQwtUde_6N",
        "outputId": "361c5121-f3b4-4422-b992-bd353d3507c0"
      },
      "execution_count": 6,
      "outputs": [
        {
          "output_type": "error",
          "ename": "IndentationError",
          "evalue": "ignored",
          "traceback": [
            "\u001b[0;36m  File \u001b[0;32m\"<ipython-input-6-3aaba9d98534>\"\u001b[0;36m, line \u001b[0;32m14\u001b[0m\n\u001b[0;31m    print(\"La ciudad es medellin\")\u001b[0m\n\u001b[0m        ^\u001b[0m\n\u001b[0;31mIndentationError\u001b[0m\u001b[0;31m:\u001b[0m expected an indented block\n"
          ]
        }
      ]
    },
    {
      "cell_type": "code",
      "source": [
        "# encriptado\n",
        "mensaje = \"holah\"\n",
        "clave = {\"h\": \"A\", \"o\": \"Z\", \"l\": \"M\", \"a\": \"p\"}\n",
        "encriptado = \"AZMp\"\n",
        "\n",
        "# desencriptado\n",
        "des_clave = {} \n",
        "des_clave = {\"A\": \"h\", \"Z\": \"o\", \"M\": \"l\", \"p\": \"a\"}\n",
        "desencriptado = \"hola\""
      ],
      "metadata": {
        "id": "hUOBpixZg4lG"
      },
      "execution_count": 7,
      "outputs": []
    },
    {
      "cell_type": "code",
      "source": [
        "m = \"holahhhh\"\n",
        "result = set(m)\n",
        "print(result)"
      ],
      "metadata": {
        "colab": {
          "base_uri": "https://localhost:8080/"
        },
        "id": "p2VS91_mh45f",
        "outputId": "91819cb9-c0b3-41bb-d83e-70dba28400b4"
      },
      "execution_count": 8,
      "outputs": [
        {
          "output_type": "stream",
          "name": "stdout",
          "text": [
            "{'o', 'h', 'l', 'a'}\n"
          ]
        }
      ]
    },
    {
      "cell_type": "code",
      "source": [
        "def encriptador(mensaje):\n",
        "    # ACÁ INICIA LA FUNCIÓN ENCRIPTADOR\n",
        "    # (En este espacio debes poner el código necesario para encriptar)\n",
        "    \n",
        "    print(mensaje)\n",
        "    encriptado = \"\"\n",
        "    clave = {}\n",
        "    \n",
        "    # ACÁ TERMINA LA FUNCIÓN ENCRIPTADOR\n",
        "    # NO MODIFIQUES LA SIGUIENTE LÍNEA\n",
        "    return encriptado, clave\n",
        "\n",
        "def desencriptador(encriptado, clave):\n",
        "    # ACÁ INICIA LA FUNCIÓN DESENCRIPTADOR \n",
        "    # (En este espacio debes poner el código necesario para desencriptar)\n",
        "    \n",
        "    desencriptado = \"\"\n",
        "    \n",
        "    # ACÁ TERMINA LA FUNCIÓN DESENCRIPTADOR\n",
        "    # NO MODIFIQUES LA SIGUIENTE LÍNEA\n",
        "    return desencriptado"
      ],
      "metadata": {
        "id": "K5lWHYPVlYqG"
      },
      "execution_count": 13,
      "outputs": []
    },
    {
      "cell_type": "code",
      "source": [
        "pepito = input(\"inserte un mensaje: \")\n",
        "encriptado_2, clave_2 = encriptador(pepito)\n",
        "mensaje_desencriptado = desencriptador(encriptado_2, clave_2)\n",
        "\n",
        "print(mensaje_desencriptado == pepito)"
      ],
      "metadata": {
        "colab": {
          "base_uri": "https://localhost:8080/"
        },
        "id": "6JYR0f9IlgRx",
        "outputId": "195ea2b3-2a60-46a7-f67e-ba039f673e24"
      },
      "execution_count": 14,
      "outputs": [
        {
          "output_type": "stream",
          "name": "stdout",
          "text": [
            "inserte un mensaje: mensajito\n",
            "mensajito\n",
            "False\n"
          ]
        }
      ]
    },
    {
      "cell_type": "code",
      "source": [
        "grupo = [{\"cedula\": 1, \"nombre\": \"pepito\", \"nota\": 4.3} , {\"cedula\": 2, \"nombre\": \"pepito2\", \"nota\": 3}]\n",
        "num_est = len(grupo)\n",
        "\n",
        "cuadro_honor = [{\"cedula\": 10, \"nombre\": \"pepito3\", \"nota\": 3}, \n",
        " {\"cedula\": 20, \"nombre\": \"pepito3\", \"nota\": 2}, \n",
        " {\"cedula\": 30, \"nombre\": \"pepito3\", \"nota\": 5}]\n",
        "for informacion_estudiante in grupo:\n",
        "    nota_estudiante_actual = informacion_estudiante[\"nota\"]\n",
        "    if len(cuadro_honor) < 3:\n",
        "        cuadro_honor.append(informacion_estudiante)\n",
        "    else:\n",
        "        # iterar cuadro honor\n",
        "\n",
        "        # sacar la nota de cada estudiante del cuadro de honor\n",
        "\n",
        "        # si la nota del cuadro de honor es menor a la actual\n",
        "            # actualizas la posicion de la lista con la informacion del estudiante"
      ],
      "metadata": {
        "colab": {
          "base_uri": "https://localhost:8080/"
        },
        "id": "PxZQ8nKLnVBm",
        "outputId": "05eb4cc9-98c5-4fa0-b40e-3ee42526875a"
      },
      "execution_count": 15,
      "outputs": [
        {
          "output_type": "stream",
          "name": "stdout",
          "text": [
            "4.3\n",
            "3\n"
          ]
        }
      ]
    }
  ]
}