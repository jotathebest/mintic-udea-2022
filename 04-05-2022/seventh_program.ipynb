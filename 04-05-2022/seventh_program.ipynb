{
  "nbformat": 4,
  "nbformat_minor": 0,
  "metadata": {
    "colab": {
      "name": "sixth_program.ipynb",
      "provenance": []
    },
    "kernelspec": {
      "name": "python3",
      "display_name": "Python 3"
    },
    "language_info": {
      "name": "python"
    }
  },
  "cells": [
    {
      "cell_type": "code",
      "execution_count": null,
      "metadata": {
        "colab": {
          "base_uri": "https://localhost:8080/"
        },
        "id": "JoWX2Wf0Qbpz",
        "outputId": "2f91bc97-5e4c-475c-9fd1-3e54a0bda971"
      },
      "outputs": [
        {
          "output_type": "stream",
          "name": "stdout",
          "text": [
            "Jose Garcia\n"
          ]
        }
      ],
      "source": [
        "# Python types\n",
        "\n",
        "# String\n",
        "\n",
        "type_str = \"Jose Garcia\"\n",
        "print(type_str)"
      ]
    },
    {
      "cell_type": "code",
      "source": [
        "# int\n",
        "\n",
        "type_int = 3\n",
        "print(type_int)"
      ],
      "metadata": {
        "colab": {
          "base_uri": "https://localhost:8080/"
        },
        "id": "0Hqi0SURQyoi",
        "outputId": "2c128172-9df2-4cea-ba97-033c712f78aa"
      },
      "execution_count": null,
      "outputs": [
        {
          "output_type": "stream",
          "name": "stdout",
          "text": [
            "3\n"
          ]
        }
      ]
    },
    {
      "cell_type": "code",
      "source": [
        "# string --> int\n",
        "\n",
        "type_str = \"3\"\n",
        "type_int = int(type_str)\n",
        "print(type_str * 3)\n",
        "print(type_int * 3)"
      ],
      "metadata": {
        "colab": {
          "base_uri": "https://localhost:8080/"
        },
        "id": "GcnhkxqlQ-lL",
        "outputId": "ab261c74-0567-4627-e28e-841909bdb9d8"
      },
      "execution_count": null,
      "outputs": [
        {
          "output_type": "stream",
          "name": "stdout",
          "text": [
            "333\n",
            "9\n"
          ]
        }
      ]
    },
    {
      "cell_type": "code",
      "source": [
        "# int --> string\n",
        "type_int = 3\n",
        "type_str = str(type_int)\n",
        "print(type_str * 5)"
      ],
      "metadata": {
        "colab": {
          "base_uri": "https://localhost:8080/"
        },
        "id": "fHTVu8N1RchX",
        "outputId": "a12e7218-1abc-4b49-c37e-3a2339e8f826"
      },
      "execution_count": null,
      "outputs": [
        {
          "output_type": "stream",
          "name": "stdout",
          "text": [
            "33333\n"
          ]
        }
      ]
    },
    {
      "cell_type": "code",
      "source": [
        "# float\n",
        "\n",
        "type_float = 3.5487\n",
        "print(type_float * 2)"
      ],
      "metadata": {
        "colab": {
          "base_uri": "https://localhost:8080/"
        },
        "id": "Ydc4F29jRqEp",
        "outputId": "2903477d-5c49-4462-ebdb-5d89565a9281"
      },
      "execution_count": null,
      "outputs": [
        {
          "output_type": "stream",
          "name": "stdout",
          "text": [
            "7.0974\n"
          ]
        }
      ]
    },
    {
      "cell_type": "code",
      "source": [
        "# float --> int\n",
        "type_float = 3.9\n",
        "type_int = int(type_float)\n",
        "print(type_int)"
      ],
      "metadata": {
        "colab": {
          "base_uri": "https://localhost:8080/"
        },
        "id": "cUCFzjtmR6PM",
        "outputId": "d4e993a7-4501-4786-dcba-145584c71a95"
      },
      "execution_count": null,
      "outputs": [
        {
          "output_type": "stream",
          "name": "stdout",
          "text": [
            "3\n"
          ]
        }
      ]
    },
    {
      "cell_type": "code",
      "source": [
        "# int --> float\n",
        "type_int = 3\n",
        "type_float = float(type_int)\n",
        "print(type_float)"
      ],
      "metadata": {
        "colab": {
          "base_uri": "https://localhost:8080/"
        },
        "id": "8oH06iT-SE03",
        "outputId": "99852c2c-9925-4f69-faf9-4b2ed21e9f51"
      },
      "execution_count": null,
      "outputs": [
        {
          "output_type": "stream",
          "name": "stdout",
          "text": [
            "3.0\n"
          ]
        }
      ]
    },
    {
      "cell_type": "code",
      "source": [
        "type_float = 3.78517\n",
        "result = round(type_float)\n",
        "print(result)"
      ],
      "metadata": {
        "colab": {
          "base_uri": "https://localhost:8080/"
        },
        "id": "vN5Gh7uTSW-4",
        "outputId": "317e2504-b8db-465f-d8b8-6b5e422acc9b"
      },
      "execution_count": null,
      "outputs": [
        {
          "output_type": "stream",
          "name": "stdout",
          "text": [
            "4\n"
          ]
        }
      ]
    },
    {
      "cell_type": "code",
      "source": [
        "# Boolean\n",
        "\n",
        "true_boolean = True # 1\n",
        "false_boolean = False # 0\n",
        "\n",
        "print(true_boolean + 1)"
      ],
      "metadata": {
        "colab": {
          "base_uri": "https://localhost:8080/"
        },
        "id": "mjxDKV8TSmPV",
        "outputId": "8f97e151-2175-419a-8652-247e34dc5d76"
      },
      "execution_count": null,
      "outputs": [
        {
          "output_type": "stream",
          "name": "stdout",
          "text": [
            "2\n"
          ]
        }
      ]
    },
    {
      "cell_type": "code",
      "source": [
        "# Lists\n",
        "\n",
        "my_list = [10, 20, 30]\n",
        "print(my_list)\n",
        "print(my_list[0])\n",
        "\n",
        "my_list[0] = \"jose\"\n",
        "print(my_list)"
      ],
      "metadata": {
        "colab": {
          "base_uri": "https://localhost:8080/"
        },
        "id": "BI6K3DBaTLDK",
        "outputId": "79e4a49b-07d0-4319-e734-4ef7e8b15968"
      },
      "execution_count": null,
      "outputs": [
        {
          "output_type": "stream",
          "name": "stdout",
          "text": [
            "[10, 20, 30]\n",
            "10\n",
            "['jose', 20, 30]\n"
          ]
        }
      ]
    },
    {
      "cell_type": "code",
      "source": [
        "# Tuple\n",
        "\n",
        "my_tuple = (10, 20, 30)\n",
        "print(my_tuple)\n",
        "print(my_tuple[0])\n",
        "\n",
        "my_tuple[0] = \"jose\"\n",
        "print(my_tuple)"
      ],
      "metadata": {
        "colab": {
          "base_uri": "https://localhost:8080/",
          "height": 253
        },
        "id": "DsI-FdQvTjHZ",
        "outputId": "c71e65a6-55f0-4bbb-d3ba-b088edd13a2e"
      },
      "execution_count": null,
      "outputs": [
        {
          "output_type": "stream",
          "name": "stdout",
          "text": [
            "(10, 20, 30)\n",
            "10\n"
          ]
        },
        {
          "output_type": "error",
          "ename": "TypeError",
          "evalue": "ignored",
          "traceback": [
            "\u001b[0;31m---------------------------------------------------------------------------\u001b[0m",
            "\u001b[0;31mTypeError\u001b[0m                                 Traceback (most recent call last)",
            "\u001b[0;32m<ipython-input-17-4ac100147c85>\u001b[0m in \u001b[0;36m<module>\u001b[0;34m()\u001b[0m\n\u001b[1;32m      5\u001b[0m \u001b[0mprint\u001b[0m\u001b[0;34m(\u001b[0m\u001b[0mmy_tuple\u001b[0m\u001b[0;34m[\u001b[0m\u001b[0;36m0\u001b[0m\u001b[0;34m]\u001b[0m\u001b[0;34m)\u001b[0m\u001b[0;34m\u001b[0m\u001b[0;34m\u001b[0m\u001b[0m\n\u001b[1;32m      6\u001b[0m \u001b[0;34m\u001b[0m\u001b[0m\n\u001b[0;32m----> 7\u001b[0;31m \u001b[0mmy_tuple\u001b[0m\u001b[0;34m[\u001b[0m\u001b[0;36m0\u001b[0m\u001b[0;34m]\u001b[0m \u001b[0;34m=\u001b[0m \u001b[0;34m\"jose\"\u001b[0m\u001b[0;34m\u001b[0m\u001b[0;34m\u001b[0m\u001b[0m\n\u001b[0m\u001b[1;32m      8\u001b[0m \u001b[0mprint\u001b[0m\u001b[0;34m(\u001b[0m\u001b[0mmy_tuple\u001b[0m\u001b[0;34m)\u001b[0m\u001b[0;34m\u001b[0m\u001b[0;34m\u001b[0m\u001b[0m\n",
            "\u001b[0;31mTypeError\u001b[0m: 'tuple' object does not support item assignment"
          ]
        }
      ]
    },
    {
      "cell_type": "code",
      "source": [
        "# sets\n",
        "\n",
        "my_set = {\"jose\", 1, \"jose\", 4}\n",
        "print(my_set)"
      ],
      "metadata": {
        "colab": {
          "base_uri": "https://localhost:8080/"
        },
        "id": "_mg9a2zbT6jq",
        "outputId": "461709c5-6721-48fe-c350-61b46da32023"
      },
      "execution_count": null,
      "outputs": [
        {
          "output_type": "stream",
          "name": "stdout",
          "text": [
            "{1, 4, 'jose'}\n"
          ]
        }
      ]
    },
    {
      "cell_type": "code",
      "source": [
        "# Write a Python program to display the first and last colors from the following list\n",
        "color_list = [\"Red\",\"Green\",\"White\" ,\"Black\"]\n",
        "\n",
        "first_item = color_list[0]\n",
        "last_item = color_list[3]\n",
        "print(first_item, last_item)\n",
        "\n",
        "last_item_2 = color_list[-1]\n",
        "print(first_item, last_item_2)"
      ],
      "metadata": {
        "colab": {
          "base_uri": "https://localhost:8080/"
        },
        "id": "XbWi7AntUXES",
        "outputId": "bfee9e4a-0356-47b5-8226-a9b3b3ba98d4"
      },
      "execution_count": null,
      "outputs": [
        {
          "output_type": "stream",
          "name": "stdout",
          "text": [
            "Red Black\n",
            "Red Black\n"
          ]
        }
      ]
    },
    {
      "cell_type": "code",
      "source": [
        "color_list = [\"Red\", \"Green\", \"White\", \"Black\"] \n",
        "the_firtsone = color_list[0] \n",
        "the_lastone = color_list[3] \n",
        "print(the_firtsone, end=\" \") \n",
        "print(the_lastone) "
      ],
      "metadata": {
        "colab": {
          "base_uri": "https://localhost:8080/"
        },
        "id": "89j4i6WeZjQP",
        "outputId": "d37beea7-fc0a-4fd5-e939-fc36aa20a976"
      },
      "execution_count": null,
      "outputs": [
        {
          "output_type": "stream",
          "name": "stdout",
          "text": [
            "Red Black\n"
          ]
        }
      ]
    },
    {
      "cell_type": "code",
      "source": [
        "color_firts = (color_list[0]+ \" \" + color_list[3])\n",
        "# result = \"Red\" + \" \" + \"Black\" \n",
        "print(color_firts) "
      ],
      "metadata": {
        "id": "fXrwqzRXZ6W-"
      },
      "execution_count": null,
      "outputs": []
    },
    {
      "cell_type": "code",
      "source": [
        "# Exercise 2\n",
        "# Write a Python program which accepts the radius of a circle from the user and compute the area\n",
        "# Sample Output :\n",
        "# r = 1.1\n",
        "# Area = 3.8013271108436504\n",
        "\n",
        "number = input()  # str\n",
        "\n",
        "number = 2\n",
        "square = number * number\n",
        "square = number ** 2"
      ],
      "metadata": {
        "id": "vNqK5bmcUtRC"
      },
      "execution_count": null,
      "outputs": []
    },
    {
      "cell_type": "code",
      "source": [
        "# Exercise 2\n",
        "# Write a Python program which accepts the radius of a circle from the user and compute the area\n",
        "# Sample Output :\n",
        "# r = 1.1\n",
        "# Area = 3.8013271108436504\n",
        "\n",
        "radius_str = input(\"insert the circle's radius\")\n",
        "radius_float = float(radius_str)\n",
        "\n",
        "pi = 3.1416\n",
        "\n",
        "# area = pi * radius²\n",
        "result_1 = pi * radius_float * radius_float\n",
        "result_2 = pi * (radius_float ** 2)\n",
        "\n",
        "result_1 = round(result_1, 2)\n",
        "\n",
        "print(\"The area is:\", end=\" \")\n",
        "print(result_1, result_2)"
      ],
      "metadata": {
        "colab": {
          "base_uri": "https://localhost:8080/"
        },
        "id": "6W5I0zNMa_8G",
        "outputId": "1e76cd12-6bb4-4dd3-c336-36fd1c28668a"
      },
      "execution_count": null,
      "outputs": [
        {
          "output_type": "stream",
          "name": "stdout",
          "text": [
            "insert the circle's radius2.3\n",
            "The area is: 16.62 16.619063999999998\n"
          ]
        }
      ]
    },
    {
      "cell_type": "code",
      "source": [
        "result = round(3.4467, 2)\n",
        "print(result)"
      ],
      "metadata": {
        "colab": {
          "base_uri": "https://localhost:8080/"
        },
        "id": "XRA1S1gqcwrZ",
        "outputId": "2f7fa8a4-0c67-451f-9b2a-7e51fc5b58b5"
      },
      "execution_count": null,
      "outputs": [
        {
          "output_type": "stream",
          "name": "stdout",
          "text": [
            "3.45\n"
          ]
        }
      ]
    },
    {
      "cell_type": "code",
      "source": [
        "radius = float(input(\"Insert the radius of the circle: \")) \n",
        "area = float((radius ** 2) * 3.1416) \n",
        "print (\"The area of the circle is %5.2f\" %area )"
      ],
      "metadata": {
        "id": "BUDynGJAdGKw"
      },
      "execution_count": null,
      "outputs": []
    },
    {
      "cell_type": "code",
      "source": [
        "my_list = [\"jose\", \"garcia\", True, False, 2.3]"
      ],
      "metadata": {
        "id": "8mAoqEIXdlky"
      },
      "execution_count": null,
      "outputs": []
    },
    {
      "cell_type": "code",
      "source": [
        "# < less than\n",
        "# > greater than\n",
        "# <= less or equal than\n",
        "# >= greater or equal than\n",
        "# == equal\n",
        "# != not equal / different\n",
        "\n",
        "my_first_number = 3\n",
        "my_second_number = 4\n",
        "\n",
        "# 4 > 3\n",
        "result = my_second_number > my_first_number\n",
        "print(result)"
      ],
      "metadata": {
        "colab": {
          "base_uri": "https://localhost:8080/"
        },
        "id": "9adEFH5cdwU_",
        "outputId": "86364858-f9bf-481b-9dd4-900c276c25dd"
      },
      "execution_count": null,
      "outputs": [
        {
          "output_type": "stream",
          "name": "stdout",
          "text": [
            "True\n"
          ]
        }
      ]
    },
    {
      "cell_type": "code",
      "source": [
        "# < less than\n",
        "# > greater than\n",
        "# <= less or equal than\n",
        "# >= greater or equal than\n",
        "# == equal\n",
        "# != not equal / different\n",
        "\n",
        "my_first_number = 3.1\n",
        "my_second_number = 4.4\n",
        "\n",
        "# 4 < 3\n",
        "result = my_second_number < my_first_number\n",
        "print(result)"
      ],
      "metadata": {
        "colab": {
          "base_uri": "https://localhost:8080/"
        },
        "id": "VQ-4BaU1e5f4",
        "outputId": "92fb5e47-a416-40ce-d9d5-2d7dee858142"
      },
      "execution_count": null,
      "outputs": [
        {
          "output_type": "stream",
          "name": "stdout",
          "text": [
            "False\n"
          ]
        }
      ]
    },
    {
      "cell_type": "code",
      "source": [
        "# < less than\n",
        "# > greater than\n",
        "# <= less or equal than\n",
        "# >= greater or equal than\n",
        "# == equal\n",
        "# != not equal / different\n",
        "\n",
        "my_first_number = 3.1\n",
        "my_second_number = 3.1\n",
        "\n",
        "# 3.1 == 3.1\n",
        "result = my_second_number == my_first_number\n",
        "print(result)"
      ],
      "metadata": {
        "colab": {
          "base_uri": "https://localhost:8080/"
        },
        "id": "oyUB8kw_fB8l",
        "outputId": "05768475-e12c-4d84-b656-da87981a5078"
      },
      "execution_count": null,
      "outputs": [
        {
          "output_type": "stream",
          "name": "stdout",
          "text": [
            "True\n"
          ]
        }
      ]
    },
    {
      "cell_type": "code",
      "source": [
        "# < less than\n",
        "# > greater than\n",
        "# <= less or equal than\n",
        "# >= greater or equal than\n",
        "# == equal\n",
        "# != not equal / different\n",
        "\n",
        "my_first_number = 3.1\n",
        "my_second_number = 3.1\n",
        "\n",
        "# 3.1 != 3.1\n",
        "result = my_second_number != my_first_number\n",
        "print(result)"
      ],
      "metadata": {
        "colab": {
          "base_uri": "https://localhost:8080/"
        },
        "id": "qKrqsIzsfX29",
        "outputId": "1ab0abed-c5fd-4494-f689-df31658d5111"
      },
      "execution_count": null,
      "outputs": [
        {
          "output_type": "stream",
          "name": "stdout",
          "text": [
            "False\n"
          ]
        }
      ]
    },
    {
      "cell_type": "code",
      "source": [
        "# < less than\n",
        "# > greater than\n",
        "# <= less or equal than\n",
        "# >= greater or equal than\n",
        "# == equal\n",
        "# != not equal / different\n",
        "\n",
        "my_first_name = \"jose\"\n",
        "my_second_name = \"jose\"\n",
        "\n",
        "# jose == jose\n",
        "result = my_second_number == my_first_number\n",
        "print(result)"
      ],
      "metadata": {
        "colab": {
          "base_uri": "https://localhost:8080/"
        },
        "id": "Ed9-F2MUgNQS",
        "outputId": "6b5c76fd-a560-4715-b4ba-07e11ada169b"
      },
      "execution_count": null,
      "outputs": [
        {
          "output_type": "stream",
          "name": "stdout",
          "text": [
            "False\n"
          ]
        }
      ]
    },
    {
      "cell_type": "code",
      "source": [
        "# < less than\n",
        "# > greater than\n",
        "# <= less or equal than\n",
        "# >= greater or equal than\n",
        "# == equal\n",
        "# != not equal / different\n",
        "\n",
        "my_first_name = \"jose\"\n",
        "my_second_name = 1\n",
        "\n",
        "# jose == jose\n",
        "result = my_first_name == my_second_name\n",
        "print(result)"
      ],
      "metadata": {
        "colab": {
          "base_uri": "https://localhost:8080/"
        },
        "id": "fxG0SQNsgW5h",
        "outputId": "cdba2db2-df2c-4c8e-cf9d-b85779db9856"
      },
      "execution_count": null,
      "outputs": [
        {
          "output_type": "stream",
          "name": "stdout",
          "text": [
            "False\n"
          ]
        }
      ]
    },
    {
      "cell_type": "code",
      "source": [
        "my_set_1 = {1,2,3}\n",
        "my_set_2 = {1,2,3}\n",
        "print(my_set_1 == my_set_2)"
      ],
      "metadata": {
        "colab": {
          "base_uri": "https://localhost:8080/"
        },
        "id": "DSIz54C1gvwz",
        "outputId": "27a504e6-0d8d-4404-905a-2aaf4c34e760"
      },
      "execution_count": null,
      "outputs": [
        {
          "output_type": "stream",
          "name": "stdout",
          "text": [
            "True\n"
          ]
        }
      ]
    },
    {
      "cell_type": "code",
      "source": [
        "my_list_1 = [1, 2, 3, 4]\n",
        "my_list_2 = [1, 2, 4, 3]\n",
        "print(my_list_1 == my_list_2)"
      ],
      "metadata": {
        "colab": {
          "base_uri": "https://localhost:8080/"
        },
        "id": "B9V0Lm84g5yN",
        "outputId": "6e1609cb-c3b3-40a7-ab1b-243b76e6bc1d"
      },
      "execution_count": null,
      "outputs": [
        {
          "output_type": "stream",
          "name": "stdout",
          "text": [
            "False\n"
          ]
        }
      ]
    },
    {
      "cell_type": "code",
      "source": [
        "my_first_name = \"josegarcia\"\n",
        "my_second_name = \"josegarciadelgado\"\n",
        "\n",
        "# jose == jose\n",
        "result = my_first_name > my_second_name\n",
        "print(result)"
      ],
      "metadata": {
        "colab": {
          "base_uri": "https://localhost:8080/"
        },
        "id": "u8aRWfTrhSw9",
        "outputId": "34fe5e3b-5300-4e0c-fc87-5cbea5574ca1"
      },
      "execution_count": null,
      "outputs": [
        {
          "output_type": "stream",
          "name": "stdout",
          "text": [
            "False\n"
          ]
        }
      ]
    },
    {
      "cell_type": "code",
      "source": [
        "my_list_1 = [1, 2, 3]\n",
        "my_list_2 = [3, 4, 5]\n",
        "\n",
        "print(my_list_1[0] > my_list_2[-1])\n",
        "print(my_list_1 > my_list_2)"
      ],
      "metadata": {
        "colab": {
          "base_uri": "https://localhost:8080/"
        },
        "id": "sDUvGizAiSmv",
        "outputId": "459214c8-13c2-423a-ac67-3b87e7b4e61b"
      },
      "execution_count": null,
      "outputs": [
        {
          "output_type": "stream",
          "name": "stdout",
          "text": [
            "False\n",
            "False\n"
          ]
        }
      ]
    },
    {
      "cell_type": "code",
      "source": [
        "# Conditional\n",
        "\n",
        "# if it is cloudy it will rain\n",
        "\n",
        "# if <condition>:\n",
        "#     <action>\n",
        "\n",
        "first_number = 2\n",
        "second_number = 3\n",
        "\n",
        "# Is the second number greater than first number?\n",
        "\n",
        "result = second_number > first_number\n",
        "another_number = 4\n",
        "\n",
        "if result: # True\n",
        "    print(\"The second number is greater\")\n",
        "    another_number = 5\n",
        "\n",
        "print(another_number)\n",
        "print(\"finished!\")"
      ],
      "metadata": {
        "colab": {
          "base_uri": "https://localhost:8080/"
        },
        "id": "jRMncNAJjAJ2",
        "outputId": "4c3bc0a2-a2de-4138-9cbe-203b5c8ccb67"
      },
      "execution_count": null,
      "outputs": [
        {
          "output_type": "stream",
          "name": "stdout",
          "text": [
            "The second number is greater\n",
            "5\n",
            "finished!\n"
          ]
        }
      ]
    },
    {
      "cell_type": "code",
      "source": [
        "# if it is cloudy it will rain\n",
        "\n",
        "# if <condition>:\n",
        "#     <action>\n",
        "\n",
        "first_number = 2\n",
        "second_number = 1\n",
        "\n",
        "# Is the second number greater than first number?\n",
        "\n",
        "result = second_number > first_number\n",
        "another_number = 4\n",
        "\n",
        "if result: # False\n",
        "    print(\"The second number is greater\")\n",
        "    another_number = 5\n",
        "\n",
        "print(another_number)\n",
        "print(\"finished!\")"
      ],
      "metadata": {
        "colab": {
          "base_uri": "https://localhost:8080/"
        },
        "id": "-UVvKZXwkSYD",
        "outputId": "6080cdc2-d70d-48ed-bb9f-6544aeacd0c7"
      },
      "execution_count": null,
      "outputs": [
        {
          "output_type": "stream",
          "name": "stdout",
          "text": [
            "4\n",
            "finished!\n"
          ]
        }
      ]
    },
    {
      "cell_type": "code",
      "source": [
        "help(print)"
      ],
      "metadata": {
        "colab": {
          "base_uri": "https://localhost:8080/"
        },
        "id": "PR9ORBFelhcb",
        "outputId": "18b83502-3661-4c3f-841d-ecc76e93c243"
      },
      "execution_count": null,
      "outputs": [
        {
          "output_type": "stream",
          "name": "stdout",
          "text": [
            "Help on built-in function print in module builtins:\n",
            "\n",
            "print(...)\n",
            "    print(value, ..., sep=' ', end='\\n', file=sys.stdout, flush=False)\n",
            "    \n",
            "    Prints the values to a stream, or to sys.stdout by default.\n",
            "    Optional keyword arguments:\n",
            "    file:  a file-like object (stream); defaults to the current sys.stdout.\n",
            "    sep:   string inserted between values, default a space.\n",
            "    end:   string appended after the last value, default a newline.\n",
            "    flush: whether to forcibly flush the stream.\n",
            "\n"
          ]
        }
      ]
    },
    {
      "cell_type": "code",
      "source": [
        "print(\"Add the radius of the circunference r \") \n",
        "r_int= input(\"r = \") \n",
        "r_float = float(r_int) \n",
        "pi_float= 3.141622 \n",
        "area= (pi_float* (r_float**2)) \n",
        "print (area) "
      ],
      "metadata": {
        "id": "p16Pu0uymFYK"
      },
      "execution_count": null,
      "outputs": []
    },
    {
      "cell_type": "code",
      "source": [
        "name = \"jose\"\n",
        "surname = \"garcia\"\n",
        "result = f\"{name} {surname}\"\n",
        "result = name + \" \" + surname\n",
        "\n",
        "expected = \"jose garcia\"\n",
        "print(result == expected)"
      ],
      "metadata": {
        "colab": {
          "base_uri": "https://localhost:8080/"
        },
        "id": "eq3wipkqmvTM",
        "outputId": "d40100c3-21c2-4604-9145-3e7589846c97"
      },
      "execution_count": null,
      "outputs": [
        {
          "output_type": "stream",
          "name": "stdout",
          "text": [
            "True\n"
          ]
        }
      ]
    },
    {
      "cell_type": "code",
      "source": [
        ""
      ],
      "metadata": {
        "id": "JPxALXr3vpeI"
      },
      "execution_count": null,
      "outputs": []
    },
    {
      "cell_type": "markdown",
      "source": [
        "1. Write a Python program to get the difference between a given number and 17, if the number is lower than 17 return double the absolute difference.\n",
        "\n",
        "absolute difference --> abs()\n",
        "\n",
        "Example:  \n",
        "if the number is 22, you should print 5  \n",
        "if the number is 14, you should print 6, which is the absolute difference between 14 and 17  \n",
        "\n",
        "2.  Write a Python program to calculate the sum of three given numbers, if the values are equal then return three times of their sum\n",
        "\n",
        "Example:  \n",
        "if numbers are 1, 2 and 3, it should return 6  \n",
        "if three numbers are 12, it should return 3 * (12 + 12 + 12)"
      ],
      "metadata": {
        "id": "oh65821MnqR4"
      }
    },
    {
      "cell_type": "code",
      "source": [
        "print(abs(12 - 14))"
      ],
      "metadata": {
        "colab": {
          "base_uri": "https://localhost:8080/"
        },
        "id": "uxtkS_21nytf",
        "outputId": "ff422050-d43e-409b-91c0-0b9db63469f4"
      },
      "execution_count": 1,
      "outputs": [
        {
          "output_type": "stream",
          "name": "stdout",
          "text": [
            "2\n"
          ]
        }
      ]
    },
    {
      "cell_type": "code",
      "source": [
        "# Exercise 1\n",
        "\n",
        "number = input(\"Please insert a number:\")\n",
        "\n",
        "# possible casts\n",
        "number = int(number)\n",
        "number = float(number)\n",
        "\n",
        "greater_than_17 = number > 17\n",
        "\n",
        "if greater_than_17:\n",
        "    print(number - 17)\n",
        "\n",
        "# 2 * |number - 17|\n",
        "\n",
        "lower_or_equal_to_17 = number <= 17\n",
        "\n",
        "if lower_or_equal_to_17:\n",
        "    difference = number - 17\n",
        "    abs_difference = abs(difference)\n",
        "    print(2 * abs_difference)"
      ],
      "metadata": {
        "colab": {
          "base_uri": "https://localhost:8080/"
        },
        "id": "2y7A8Y9Jbns4",
        "outputId": "2705c13c-e499-4927-aa37-59249c3a45a1"
      },
      "execution_count": 7,
      "outputs": [
        {
          "output_type": "stream",
          "name": "stdout",
          "text": [
            "Please insert a number:3\n",
            "28.0\n"
          ]
        }
      ]
    },
    {
      "cell_type": "code",
      "source": [
        "# Exercise 1\n",
        "\n",
        "number = input(\"Please insert a number:\")\n",
        "\n",
        "# possible casts\n",
        "number = int(number)\n",
        "number = float(number)\n",
        "\n",
        "greater_than_17 = number > 17\n",
        "\n",
        "if greater_than_17:\n",
        "    print(number - 17)\n",
        "\n",
        "if number <= 17:\n",
        "    print(\"es menor\")\n",
        "\n",
        "if greater_than_17:\n",
        "    print(number - 17)\n",
        "\n",
        "else:\n",
        "    print(\"es menor\")"
      ],
      "metadata": {
        "colab": {
          "base_uri": "https://localhost:8080/"
        },
        "id": "lQbYP5N6x2ev",
        "outputId": "020f9ca4-637a-4f7a-99f0-99e4c8deb513"
      },
      "execution_count": 19,
      "outputs": [
        {
          "output_type": "stream",
          "name": "stdout",
          "text": [
            "Please insert a number:15\n",
            "es menor\n"
          ]
        }
      ]
    },
    {
      "cell_type": "code",
      "source": [
        "# Exercise\n",
        "# if numbers are 1, 2 and 3, it should return 6\n",
        "# if three numbers are 12, it should return 3 * (12 + 12 + 12)\n",
        "\n",
        "number_1 = input(\"insert the first number:\")\n",
        "number_2 = input(\"insert the second number:\")\n",
        "number_3 = input(\"insert the third number:\")\n",
        "\n",
        "number_1 = float(number_1)\n",
        "number_2 = float(number_2)\n",
        "number_3 = float(number_3)\n",
        "\n",
        "all_number_equal = number_1 == number_2 == number_3\n",
        "\n",
        "if all_number_equal:\n",
        "    numbers_sum = number_1 + number_2 + number_3\n",
        "    print(3 * numbers_sum)\n",
        "\n",
        "number_1_different_to_number_2 = number_1 != number_2\n",
        "if number_1_different_to_number_2:\n",
        "    print(number_1 + number_2 + number_3)\n",
        "\n",
        "number_1_different_to_number_3 = number_1 != number_3\n",
        "if number_1_different_to_number_3:\n",
        "    print(number_1 + number_2 + number_3)\n",
        "\n",
        "#number_2_different_to_number_1 = number_2 != number_1\n",
        "#if number_2_different_to_number_1:\n",
        "#    print(number_1 + number_2 + number_3)\n",
        "\n",
        "number_2_different_to_number_3 = number_2 != number_3\n",
        "if number_2_different_to_number_3:\n",
        "    print(number_1 + number_2 + number_3)\n",
        "\n",
        "#number_3_different_to_number_2 = number_3 != number_2\n",
        "#if number_3_different_to_number_2:\n",
        "#    print(number_1 + number_2 + number_3)\n",
        "\n",
        "#number_3_different_to_number_1 = number_3 != number_1\n",
        "#if number_3_different_to_number_1:\n",
        "#    print(number_1 + number_2 + number_3)\n",
        "\n",
        "all_different = number_1 != number_2 != number_3\n",
        "if all_different:\n",
        "    print(number_1 + number_2 + number_3)"
      ],
      "metadata": {
        "colab": {
          "base_uri": "https://localhost:8080/"
        },
        "id": "nHwFADf8dvuW",
        "outputId": "46a5b851-8df1-44a2-db77-f4dbe9f55e5e"
      },
      "execution_count": 9,
      "outputs": [
        {
          "name": "stdout",
          "output_type": "stream",
          "text": [
            "insert the first number:1\n",
            "insert the second number:4\n",
            "insert the third number:4\n"
          ]
        }
      ]
    },
    {
      "cell_type": "code",
      "source": [
        "number_1 = input(\"insert the first number:\")\n",
        "number_2 = input(\"insert the second number:\")\n",
        "number_3 = input(\"insert the third number:\")\n",
        "\n",
        "number_1 = float(number_1)\n",
        "number_2 = float(number_2)\n",
        "number_3 = float(number_3)\n",
        "\n",
        "all_number_equal = number_1 == number_2 == number_3\n",
        "\n",
        "if all_number_equal:\n",
        "    numbers_sum = number_1 + number_2 + number_3\n",
        "    print(3 * numbers_sum)\n",
        "\n",
        "all_different = number_1 != number_2 != number_3\n",
        "if all_different:\n",
        "    print(number_1 + number_2 + number_3)"
      ],
      "metadata": {
        "colab": {
          "base_uri": "https://localhost:8080/"
        },
        "id": "fGV5mq_zh5nO",
        "outputId": "c348a34c-6bfb-4e6a-e625-33ef2a306c45"
      },
      "execution_count": 14,
      "outputs": [
        {
          "name": "stdout",
          "output_type": "stream",
          "text": [
            "insert the first number:1\n",
            "insert the second number:1\n",
            "insert the third number:3\n"
          ]
        }
      ]
    },
    {
      "cell_type": "code",
      "source": [
        "name = input(\"what is your name:\")\n",
        "\n",
        "condition = name == \"Jose\"\n",
        "\n",
        "if condition:\n",
        "    print(\"yes!\")"
      ],
      "metadata": {
        "id": "E8nB6Y0slSBa"
      },
      "execution_count": null,
      "outputs": []
    },
    {
      "cell_type": "code",
      "source": [
        "name = input(\"what is your name:\")\n",
        "\n",
        "condition = name == \"Jose\"\n",
        "\n",
        "if condition:\n",
        "    print(\"yes!\")\n",
        "else:\n",
        "    print(\"no!\")"
      ],
      "metadata": {
        "id": "hR58SwjdmhDr"
      },
      "execution_count": null,
      "outputs": []
    },
    {
      "cell_type": "code",
      "source": [
        "name = input(\"What is your name:\")\n",
        "surname = input(\"What is your surname:\")\n",
        "\n",
        "if name == \"Jose\":\n",
        "    if surname == \"Garcia\":\n",
        "        print(\"yes!\")\n",
        "    else:\n",
        "        print(\"no!\")\n",
        "else:\n",
        "    print(\"no!\")"
      ],
      "metadata": {
        "colab": {
          "base_uri": "https://localhost:8080/"
        },
        "id": "EfZl4YkvmyXI",
        "outputId": "2ee99a0e-c1d1-4a9f-99e6-97aa665f84ee"
      },
      "execution_count": 17,
      "outputs": [
        {
          "output_type": "stream",
          "name": "stdout",
          "text": [
            "What is your name:Carolina\n",
            "What is your surname:perez\n",
            "no!\n"
          ]
        }
      ]
    },
    {
      "cell_type": "code",
      "source": [
        "name = input(\"What is your name:\")\n",
        "surname = input(\"What is your surname:\")\n",
        "\n",
        "condition_1 = name == \"Jose\"\n",
        "condition_2 = surname == \"Garcia\"\n",
        "\n",
        "# True and True --> True\n",
        "# True and False --> False\n",
        "# False and True --> False\n",
        "# False and False --> False\n",
        "result = condition_1 and condition_2\n",
        "\n",
        "if result:\n",
        "    print(\"yes!\")\n",
        "else:\n",
        "    print(\"no!\")"
      ],
      "metadata": {
        "id": "UYoVVSDOpE-t"
      },
      "execution_count": null,
      "outputs": []
    },
    {
      "cell_type": "code",
      "source": [
        "# True or True --> True\n",
        "# True or False --> True\n",
        "# False or True --> True\n",
        "# False or False --> False"
      ],
      "metadata": {
        "id": "TXPB-AvfqTEJ"
      },
      "execution_count": null,
      "outputs": []
    },
    {
      "cell_type": "code",
      "source": [
        "# Write the following Python program that reads three numbers:\n",
        "# if all the numbers are the same, print three times the sum of the numbers\n",
        "# else print the sum of the numbers\n",
        "\n",
        "# if numbers are 1, 2 and 3, it should return 6\n",
        "# if three numbers are 12, it should return 3 * (12 + 12 + 12)\n",
        "\n",
        "number_1 = float(input(\"insert the number 1:\"))\n",
        "number_2 = float(input(\"insert the number 2:\"))\n",
        "number_3 = float(input(\"insert the number 3:\"))\n",
        "\n",
        "condition = number_1 == number_2 == number_3\n",
        "\n",
        "if condition:\n",
        "    sum_of_numbers = number_1 + number_2 + number_3\n",
        "    print(3 * sum_of_numbers)\n",
        "else:\n",
        "    print(number_1 + number_2 + number_3)"
      ],
      "metadata": {
        "id": "0hLwK1uFq1Ai"
      },
      "execution_count": null,
      "outputs": []
    },
    {
      "cell_type": "code",
      "source": [
        "# 6. Solve the challenge at https://www.hackerrank.com/challenges/py-if-else/problem?isFullScreen=true"
      ],
      "metadata": {
        "id": "fWHFB8Y5toZ1"
      },
      "execution_count": null,
      "outputs": []
    }
  ]
}