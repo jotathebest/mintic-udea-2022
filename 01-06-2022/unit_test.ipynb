{
  "nbformat": 4,
  "nbformat_minor": 0,
  "metadata": {
    "colab": {
      "name": "unit_test.ipynb",
      "provenance": []
    },
    "kernelspec": {
      "name": "python3",
      "display_name": "Python 3"
    },
    "language_info": {
      "name": "python"
    }
  },
  "cells": [
    {
      "cell_type": "code",
      "source": [
        "# the assert word\n",
        "\n",
        "assert \"jose\" == \"jose\""
      ],
      "metadata": {
        "id": "kgwP6M1oXH0a"
      },
      "execution_count": null,
      "outputs": []
    },
    {
      "cell_type": "code",
      "source": [
        "assert \"jose\" == \"garcia\""
      ],
      "metadata": {
        "id": "wEmkguBEX_kC"
      },
      "execution_count": null,
      "outputs": []
    },
    {
      "cell_type": "code",
      "execution_count": null,
      "metadata": {
        "id": "ZXLpqK_OWQXG"
      },
      "outputs": [],
      "source": [
        "def triangle_area(base, height):\n",
        "    return (base * height) / 2\n",
        "\n"
      ]
    },
    {
      "cell_type": "code",
      "source": [
        "# the most basic test\n",
        "\n",
        "def test_expected_area():\n",
        "    assert triangle_area(2, 4) == 4\n",
        "    assert triangle_area(4, 8) == 16\n",
        "\n",
        "test_expected_area()"
      ],
      "metadata": {
        "id": "KGv4t1RxYCre"
      },
      "execution_count": null,
      "outputs": []
    },
    {
      "cell_type": "code",
      "source": [
        "# negative tests\n",
        "\n",
        "def test_negative_area():\n",
        "    assert triangle_area(2, -4) == None\n",
        "\n",
        "test_negative_area()"
      ],
      "metadata": {
        "id": "isAK0-tMYfUK"
      },
      "execution_count": null,
      "outputs": []
    },
    {
      "cell_type": "code",
      "source": [
        "# Fix the function to avoid assertion errors in the negative test"
      ],
      "metadata": {
        "id": "C1a-Dns-YzUX"
      },
      "execution_count": null,
      "outputs": []
    },
    {
      "cell_type": "code",
      "source": [
        "# Expected Exception handle\n",
        "\n",
        "import pytest\n",
        "\n",
        "def test_string_numbers():\n",
        "    with pytest.raises(ValueError):\n",
        "        triangle_area(2, \"-2\")\n",
        "    \n",
        "test_string_numbers()"
      ],
      "metadata": {
        "id": "Zm86N_D2Y4XD"
      },
      "execution_count": null,
      "outputs": []
    },
    {
      "cell_type": "code",
      "source": [
        "# Raising a custom exception\n",
        "\n",
        "def triangle_area(base, height):\n",
        "    if type(height) == str:\n",
        "        raise ValueError(\"Height cannot be a string\")\n",
        "    \n",
        "    return (base * height) / 2"
      ],
      "metadata": {
        "id": "o3pD6RwcZ36k"
      },
      "execution_count": null,
      "outputs": []
    },
    {
      "cell_type": "code",
      "source": [
        "import pytest\n",
        "\n",
        "def test_string_numbers():\n",
        "    with pytest.raises(ValueError):\n",
        "        triangle_area(2, \"-2\")\n",
        "    \n",
        "test_string_numbers()"
      ],
      "metadata": {
        "id": "c3InLhJeaHVX"
      },
      "execution_count": null,
      "outputs": []
    },
    {
      "cell_type": "code",
      "source": [
        "# fix the function to fit the following test\n",
        "\n",
        "import pytest\n",
        "\n",
        "def test_string_numbers():\n",
        "    with pytest.raises(ValueError):\n",
        "        triangle_area(2, \"-2\")\n",
        "    \n",
        "    with pytest.raises(ValueError):\n",
        "        triangle_area(\"2\", 2)\n",
        "\n",
        "def test_negative_numbers():\n",
        "    assert triangle_area(2, -1) == 0\n",
        "    assert triangle_area(-10, 2) == 0\n",
        "\n",
        "def test_expected_area():\n",
        "    assert triangle_area(2, 4) == 4\n",
        "    assert triangle_area(4, 8) == 16\n",
        "    \n",
        "test_string_numbers()"
      ],
      "metadata": {
        "id": "JbEOqlfzaIpR"
      },
      "execution_count": null,
      "outputs": []
    },
    {
      "cell_type": "code",
      "source": [
        "# Saving to files\n",
        "\n",
        "%%writefile areas.py\n",
        "\n",
        "def triangle_area(base, height):\n",
        "    return (base * height) / 2"
      ],
      "metadata": {
        "id": "P61XkB-3aq-n"
      },
      "execution_count": null,
      "outputs": []
    },
    {
      "cell_type": "code",
      "source": [
        "!ls"
      ],
      "metadata": {
        "id": "mTqXbOZ0a2wQ"
      },
      "execution_count": null,
      "outputs": []
    },
    {
      "cell_type": "code",
      "source": [
        "# Save to a file the test suite\n",
        "%%writefile test_areas.py\n",
        "\n",
        "import pytest\n",
        "from areas import triangle_area\n",
        "\n",
        "def test_string_numbers():\n",
        "    with pytest.raises(ValueError):\n",
        "        triangle_area(2, \"-2\")\n",
        "    \n",
        "    with pytest.raises(ValueError):\n",
        "        triangle_area(\"2\", 2)\n",
        "\n",
        "def test_negative_numbers():\n",
        "    assert triangle_area(2, -1) == 0\n",
        "    assert triangle_area(-10, 2) == 0\n",
        "\n",
        "def test_avoid_too_long_heights():\n",
        "    # height or base cannot be greater than 1000\n",
        "    with pytest.raises(ValueError):\n",
        "        triangle_area(2000, 2)\n",
        "    \n",
        "    with pytest.raises(ValueError):\n",
        "        triangle_area(2000, 2000)\n",
        "    \n",
        "    with pytest.raises(ValueError):\n",
        "        triangle_area(2, 2000)\n",
        "\n",
        "def test_expected_area():\n",
        "    assert triangle_area(2, 4) == 4\n",
        "    assert triangle_area(4, 8) == 16"
      ],
      "metadata": {
        "id": "g_UncBrha5hr"
      },
      "execution_count": null,
      "outputs": []
    },
    {
      "cell_type": "code",
      "source": [
        "!ls"
      ],
      "metadata": {
        "id": "JKzc9QtCbFhE"
      },
      "execution_count": null,
      "outputs": []
    },
    {
      "cell_type": "code",
      "source": [
        "!pytest"
      ],
      "metadata": {
        "id": "w9S_MV_sbGwy"
      },
      "execution_count": null,
      "outputs": []
    },
    {
      "cell_type": "code",
      "source": [
        "# Save your triangle area function and your test suite to different files.\n",
        "# Check the !ls command behaviour, it should fail\n",
        "# Fix the area function and make to pass the unit tests "
      ],
      "metadata": {
        "id": "th9Il2O2bMPn"
      },
      "execution_count": null,
      "outputs": []
    }
  ]
}