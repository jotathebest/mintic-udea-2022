{
  "nbformat": 4,
  "nbformat_minor": 0,
  "metadata": {
    "colab": {
      "name": "files_management.ipynb",
      "provenance": []
    },
    "kernelspec": {
      "name": "python3",
      "display_name": "Python 3"
    },
    "language_info": {
      "name": "python"
    }
  },
  "cells": [
    {
      "cell_type": "code",
      "source": [
        "!ls"
      ],
      "metadata": {
        "colab": {
          "base_uri": "https://localhost:8080/"
        },
        "id": "ocrvzzJip8iu",
        "outputId": "714e2fa7-b6de-4a6d-b0a7-0613ba9dd4a2"
      },
      "execution_count": null,
      "outputs": [
        {
          "output_type": "stream",
          "name": "stdout",
          "text": [
            "sample_data\n"
          ]
        }
      ]
    },
    {
      "cell_type": "code",
      "execution_count": 1,
      "metadata": {
        "colab": {
          "base_uri": "https://localhost:8080/"
        },
        "id": "LVIZj1v7pQ0s",
        "outputId": "e1ca4b12-a07a-40d4-edd6-6eda87308c9c"
      },
      "outputs": [
        {
          "output_type": "stream",
          "name": "stdout",
          "text": [
            "--2022-05-26 23:09:09--  https://raw.githubusercontent.com/cosmolejo/dataRepo/master/Frankenstein.txt\n",
            "Resolving raw.githubusercontent.com (raw.githubusercontent.com)... 185.199.110.133, 185.199.109.133, 185.199.108.133, ...\n",
            "Connecting to raw.githubusercontent.com (raw.githubusercontent.com)|185.199.110.133|:443... connected.\n",
            "HTTP request sent, awaiting response... 200 OK\n",
            "Length: 2941 (2.9K) [text/plain]\n",
            "Saving to: ‘Frankenstein.txt’\n",
            "\n",
            "\rFrankenstein.txt      0%[                    ]       0  --.-KB/s               \rFrankenstein.txt    100%[===================>]   2.87K  --.-KB/s    in 0s      \n",
            "\n",
            "2022-05-26 23:09:09 (34.7 MB/s) - ‘Frankenstein.txt’ saved [2941/2941]\n",
            "\n"
          ]
        }
      ],
      "source": [
        "!wget https://raw.githubusercontent.com/cosmolejo/dataRepo/master/Frankenstein.txt"
      ]
    },
    {
      "cell_type": "code",
      "source": [
        "!ls"
      ],
      "metadata": {
        "colab": {
          "base_uri": "https://localhost:8080/"
        },
        "id": "bq-HPqIWp8ch",
        "outputId": "6ea9a6f4-dc15-4925-ece5-9705bec09274"
      },
      "execution_count": 2,
      "outputs": [
        {
          "output_type": "stream",
          "name": "stdout",
          "text": [
            "Frankenstein.txt  sample_data\n"
          ]
        }
      ]
    },
    {
      "cell_type": "code",
      "source": [
        "with open(\"Frankenstein.txt\", \"r\") as f:\n",
        "    content = f.read()\n",
        "    print(content)"
      ],
      "metadata": {
        "colab": {
          "base_uri": "https://localhost:8080/"
        },
        "id": "UJ2wfDWnrVWa",
        "outputId": "baa4a333-4705-4134-d473-014e03ec3b50"
      },
      "execution_count": null,
      "outputs": [
        {
          "output_type": "stream",
          "name": "stdout",
          "text": [
            "﻿Frankenstein;\n",
            "\n",
            "or, the Modern Prometheus\n",
            "\n",
            "by Mary Wollstonecraft (Godwin) Shelley\n",
            "\n",
            "\n",
            "Chapter 1\n",
            "\n",
            "\n",
            "I am by birth a Genevese, and my family is one of the most\n",
            "distinguished of that republic. My ancestors had been for many years\n",
            "counsellors and syndics, and my father had filled several public\n",
            "situations with honour and reputation. He was respected by all who\n",
            "knew him for his integrity and indefatigable attention to public\n",
            "business. He passed his younger days perpetually occupied by the\n",
            "affairs of his country; a variety of circumstances had prevented his\n",
            "marrying early, nor was it until the decline of life that he became a\n",
            "husband and the father of a family.\n",
            "\n",
            "As the circumstances of his marriage illustrate his character, I cannot\n",
            "refrain from relating them. One of his most intimate friends was a\n",
            "merchant who, from a flourishing state, fell, through numerous\n",
            "mischances, into poverty. This man, whose name was Beaufort, was of a\n",
            "proud and unbending disposition and could not bear to live in poverty\n",
            "and oblivion in the same country where he had formerly been\n",
            "distinguished for his rank and magnificence. Having paid his debts,\n",
            "therefore, in the most honourable manner, he retreated with his\n",
            "daughter to the town of Lucerne, where he lived unknown and in\n",
            "wretchedness. My father loved Beaufort with the truest friendship and\n",
            "was deeply grieved by his retreat in these unfortunate circumstances.\n",
            "He bitterly deplored the false pride which led his friend to a conduct\n",
            "so little worthy of the affection that united them. He lost no time in\n",
            "endeavouring to seek him out, with the hope of persuading him to begin\n",
            "the world again through his credit and assistance.\n",
            "\n",
            "Beaufort had taken effectual measures to conceal himself, and it was ten\n",
            "months before my father discovered his abode. Overjoyed at this discovery,\n",
            "he hastened to the house, which was situated in a mean street near the\n",
            "Reuss. But when he entered, misery and despair alone welcomed him. Beaufort\n",
            "had saved but a very small sum of money from the wreck of his fortunes, but\n",
            "it was sufficient to provide him with sustenance for some months, and in\n",
            "the meantime he hoped to procure some respectable employment in a\n",
            "merchant’s house. The interval was, consequently, spent in inaction;\n",
            "his grief only became more deep and rankling when he had leisure for\n",
            "reflection, and at length it took so fast hold of his mind that at the end\n",
            "of three months he lay on a bed of sickness, incapable of any exertion.\n",
            "\n",
            "His daughter attended him with the greatest tenderness, but she saw\n",
            "with despair that their little fund was rapidly decreasing and that\n",
            "there was no other prospect of support. But Caroline Beaufort\n",
            "possessed a mind of an uncommon mould, and her courage rose to support\n",
            "her in her adversity. She procured plain work; she plaited straw and\n",
            "by various means contrived to earn a pittance scarcely sufficient to\n",
            "support life.\n",
            "\n"
          ]
        }
      ]
    },
    {
      "cell_type": "code",
      "source": [
        "with open(\"Frankenstein.txt\", \"r\", encoding='utf-8-sig') as f:\n",
        "    print(f.readline())\n",
        "    print(f.readline())\n",
        "    print(f.readline())"
      ],
      "metadata": {
        "colab": {
          "base_uri": "https://localhost:8080/"
        },
        "id": "Z2z7rxHEtrQ8",
        "outputId": "132765da-2650-4108-dd07-8deecac3f4e7"
      },
      "execution_count": null,
      "outputs": [
        {
          "output_type": "stream",
          "name": "stdout",
          "text": [
            "﻿Frankenstein;\n",
            "\n",
            "\n",
            "\n",
            "or, the Modern Prometheus\n",
            "\n"
          ]
        }
      ]
    },
    {
      "cell_type": "code",
      "source": [
        "with open(\"Frankenstein.txt\", \"r\", encoding='utf-8-sig') as f:\n",
        "    lines = f.readlines()\n",
        "    print(lines[10])"
      ],
      "metadata": {
        "colab": {
          "base_uri": "https://localhost:8080/"
        },
        "id": "BtK7bgzhu_Xx",
        "outputId": "3f90b391-9034-4622-c277-b80d4ba9224d"
      },
      "execution_count": null,
      "outputs": [
        {
          "output_type": "stream",
          "name": "stdout",
          "text": [
            "I am by birth a Genevese, and my family is one of the most\n",
            "\n"
          ]
        }
      ]
    },
    {
      "cell_type": "code",
      "source": [
        "with open(\"sample_data/README.md\", \"r\") as f:\n",
        "    print(f.read())"
      ],
      "metadata": {
        "colab": {
          "base_uri": "https://localhost:8080/"
        },
        "id": "r4QyYVW2xg1w",
        "outputId": "0c672aa2-bee6-4a49-89dd-1aabed6f7685"
      },
      "execution_count": null,
      "outputs": [
        {
          "output_type": "stream",
          "name": "stdout",
          "text": [
            "This directory includes a few sample datasets to get you started.\n",
            "\n",
            "*   `california_housing_data*.csv` is California housing data from the 1990 US\n",
            "    Census; more information is available at:\n",
            "    https://developers.google.com/machine-learning/crash-course/california-housing-data-description\n",
            "\n",
            "*   `mnist_*.csv` is a small sample of the\n",
            "    [MNIST database](https://en.wikipedia.org/wiki/MNIST_database), which is\n",
            "    described at: http://yann.lecun.com/exdb/mnist/\n",
            "\n",
            "*   `anscombe.json` contains a copy of\n",
            "    [Anscombe's quartet](https://en.wikipedia.org/wiki/Anscombe%27s_quartet); it\n",
            "    was originally described in\n",
            "\n",
            "    Anscombe, F. J. (1973). 'Graphs in Statistical Analysis'. American\n",
            "    Statistician. 27 (1): 17-21. JSTOR 2682899.\n",
            "\n",
            "    and our copy was prepared by the\n",
            "    [vega_datasets library](https://github.com/altair-viz/vega_datasets/blob/4f67bdaad10f45e3549984e17e1b3088c731503d/vega_datasets/_data/anscombe.json).\n",
            "\n"
          ]
        }
      ]
    },
    {
      "cell_type": "code",
      "source": [
        "!ls sample_data"
      ],
      "metadata": {
        "colab": {
          "base_uri": "https://localhost:8080/"
        },
        "id": "luI4U0aexxqA",
        "outputId": "053ba68c-cfe1-4dbb-b1e5-7e5cf4fe8ad7"
      },
      "execution_count": null,
      "outputs": [
        {
          "output_type": "stream",
          "name": "stdout",
          "text": [
            "anscombe.json\t\t      mnist_test.csv\n",
            "california_housing_test.csv   mnist_train_small.csv\n",
            "california_housing_train.csv  README.md\n"
          ]
        }
      ]
    },
    {
      "cell_type": "code",
      "source": [
        "with open(\"sample_data/README.md\", \"w\") as f:\n",
        "    f.write(\"Esta es el nuevo contenido\")"
      ],
      "metadata": {
        "id": "QUrhVQNPyJby"
      },
      "execution_count": null,
      "outputs": []
    },
    {
      "cell_type": "code",
      "source": [
        "with open(\"sample_data/README.md\", \"r\") as f:\n",
        "    print(f.read())"
      ],
      "metadata": {
        "colab": {
          "base_uri": "https://localhost:8080/"
        },
        "id": "JTsb-T-NyjeF",
        "outputId": "6b54d3f9-93f8-402e-e3ba-98369963c237"
      },
      "execution_count": null,
      "outputs": [
        {
          "output_type": "stream",
          "name": "stdout",
          "text": [
            "Esta es el nuevo contenido\n"
          ]
        }
      ]
    },
    {
      "cell_type": "code",
      "source": [
        "with open(\"sample_data/README.md\", \"w\") as f:\n",
        "    f.write(\"aaaaaaaaaaaaaaaaaaaa\")"
      ],
      "metadata": {
        "id": "eVtxMp2typNO"
      },
      "execution_count": null,
      "outputs": []
    },
    {
      "cell_type": "code",
      "source": [
        "with open(\"sample_data/README.md\", \"r\") as f:\n",
        "    print(f.read())"
      ],
      "metadata": {
        "colab": {
          "base_uri": "https://localhost:8080/"
        },
        "id": "c6Qb0FJSyrym",
        "outputId": "b4aba4f6-a527-4e25-aca6-9a6b39ae4047"
      },
      "execution_count": null,
      "outputs": [
        {
          "output_type": "stream",
          "name": "stdout",
          "text": [
            "aaaaaaaaaaaaaaaaaaaa\n"
          ]
        }
      ]
    },
    {
      "cell_type": "code",
      "source": [
        "with open(\"sample_data/README.md\", \"a\") as f:\n",
        "    f.write(\"bbbbbbbbbbbbbbbbbbbbbbb\")"
      ],
      "metadata": {
        "id": "GlVRBpvJzDzp"
      },
      "execution_count": null,
      "outputs": []
    },
    {
      "cell_type": "code",
      "source": [
        "with open(\"sample_data/README.md\", \"r\") as f:\n",
        "    print(f.read())"
      ],
      "metadata": {
        "colab": {
          "base_uri": "https://localhost:8080/"
        },
        "id": "FIh-XrK8zJPY",
        "outputId": "383fc2ff-8fb4-4597-e6c3-c8e4a7d830cd"
      },
      "execution_count": null,
      "outputs": [
        {
          "output_type": "stream",
          "name": "stdout",
          "text": [
            "aaaaaaaaaaaaaaaaaaaabbbbbbbbbbbbbbbbbbbbbbb\n"
          ]
        }
      ]
    },
    {
      "cell_type": "code",
      "source": [
        "with open(\"sample_data/README.md\", \"a\") as f:\n",
        "    f.write(\"\\ncccccccccccccccccccccccccccccc\")"
      ],
      "metadata": {
        "id": "LKM5uE2MzRSg"
      },
      "execution_count": null,
      "outputs": []
    },
    {
      "cell_type": "code",
      "source": [
        "with open(\"sample_data/README.md\", \"r\") as f:\n",
        "    print(f.read())"
      ],
      "metadata": {
        "colab": {
          "base_uri": "https://localhost:8080/"
        },
        "id": "c12jsqLdzVC4",
        "outputId": "38ebdf98-49f4-48cc-e3d3-f2fe6b277395"
      },
      "execution_count": null,
      "outputs": [
        {
          "output_type": "stream",
          "name": "stdout",
          "text": [
            "aaaaaaaaaaaaaaaaaaaabbbbbbbbbbbbbbbbbbbbbbb\n",
            "cccccccccccccccccccccccccccccc\n"
          ]
        }
      ]
    },
    {
      "cell_type": "code",
      "source": [
        "with open(\"test.txt\", \"a+\") as f:\n",
        "    f.write(\"new line\")"
      ],
      "metadata": {
        "id": "Mm6BrSz90EQh"
      },
      "execution_count": null,
      "outputs": []
    },
    {
      "cell_type": "code",
      "source": [
        "with open(\"test.txt\", \"r\") as f:\n",
        "    print(f.read())"
      ],
      "metadata": {
        "colab": {
          "base_uri": "https://localhost:8080/"
        },
        "id": "H1dTMvef0RFe",
        "outputId": "aa1ef618-656c-44d9-8953-ad498ac22ee0"
      },
      "execution_count": null,
      "outputs": [
        {
          "output_type": "stream",
          "name": "stdout",
          "text": [
            "new line\n"
          ]
        }
      ]
    },
    {
      "cell_type": "code",
      "source": [
        "with open(\"test.txt\", \"r\") as f:\n",
        "    print(f.readlines())"
      ],
      "metadata": {
        "colab": {
          "base_uri": "https://localhost:8080/"
        },
        "id": "dOiRedLe0fsJ",
        "outputId": "8fd9c32b-baf2-45e9-a2c5-c4f9d615358d"
      },
      "execution_count": null,
      "outputs": [
        {
          "output_type": "stream",
          "name": "stdout",
          "text": [
            "['new line']\n"
          ]
        }
      ]
    },
    {
      "cell_type": "code",
      "source": [
        "# Write a Python function to append text to a file and display the content of the file\n",
        "\n",
        "def write_text_to_file(text):\n",
        "    with open(\"function_test.txt\", \"a+\") as f:\n",
        "        f.write(text + \"\\n\")\n",
        "\n",
        "write_text_to_file(\"linea 1\")\n",
        "write_text_to_file(\"linea 2\")"
      ],
      "metadata": {
        "id": "UZ92bWNE0nYK"
      },
      "execution_count": null,
      "outputs": []
    },
    {
      "cell_type": "code",
      "source": [
        "with open(\"function_test.txt\", \"r\") as f:\n",
        "    print(f.read())"
      ],
      "metadata": {
        "colab": {
          "base_uri": "https://localhost:8080/"
        },
        "id": "yHhPl06t2aJh",
        "outputId": "a32fe27b-6d08-4eb3-f81a-095b3f8d96f9"
      },
      "execution_count": null,
      "outputs": [
        {
          "output_type": "stream",
          "name": "stdout",
          "text": [
            "linea 1\n",
            "linea 2\n",
            "\n"
          ]
        }
      ]
    },
    {
      "cell_type": "code",
      "source": [
        "def archivo(texto):\n",
        "    with open(\"sample_data/pepe.txt\", \"a+\") as f:\n",
        "        f.write(texto +\"\\n\")"
      ],
      "metadata": {
        "id": "kEtPb-Q12niN"
      },
      "execution_count": null,
      "outputs": []
    },
    {
      "cell_type": "code",
      "source": [
        "archivo(\"linea 1\")\n",
        "archivo(\"linea 2\")"
      ],
      "metadata": {
        "id": "rkzt4wYq2sa5"
      },
      "execution_count": null,
      "outputs": []
    },
    {
      "cell_type": "code",
      "source": [
        "with open(\"sample_data/pepe.txt\", \"r\") as f:\n",
        "    print(f.read())"
      ],
      "metadata": {
        "colab": {
          "base_uri": "https://localhost:8080/"
        },
        "id": "4pH4Vxaj2vgO",
        "outputId": "708a0a0f-849b-4dd5-94e5-9f6b0e433036"
      },
      "execution_count": null,
      "outputs": [
        {
          "output_type": "stream",
          "name": "stdout",
          "text": [
            "linea 1\n",
            "linea 1\n",
            "linea 2\n",
            "\n"
          ]
        }
      ]
    },
    {
      "cell_type": "code",
      "source": [
        "with open(\"pepe.txt\", \"r\") as f:\n",
        "    print(f.read())"
      ],
      "metadata": {
        "colab": {
          "base_uri": "https://localhost:8080/"
        },
        "id": "LEG_0SEe5xGq",
        "outputId": "3dabf0e6-f63e-4e71-c362-f8b1922b96a3"
      },
      "execution_count": null,
      "outputs": [
        {
          "output_type": "stream",
          "name": "stdout",
          "text": [
            "linea 1\n",
            "\n"
          ]
        }
      ]
    },
    {
      "cell_type": "code",
      "source": [
        "!ls sample_data"
      ],
      "metadata": {
        "colab": {
          "base_uri": "https://localhost:8080/"
        },
        "id": "eKRrSzpw5Pzp",
        "outputId": "3272bb5a-2f8f-4da2-848c-f010db1758d2"
      },
      "execution_count": null,
      "outputs": [
        {
          "output_type": "stream",
          "name": "stdout",
          "text": [
            "anscombe.json\t\t      mnist_test.csv\t     README.md\n",
            "california_housing_test.csv   mnist_train_small.csv\n",
            "california_housing_train.csv  pepe.txt\n"
          ]
        }
      ]
    },
    {
      "cell_type": "code",
      "source": [
        "!ls "
      ],
      "metadata": {
        "colab": {
          "base_uri": "https://localhost:8080/"
        },
        "id": "G7ir9kotogcC",
        "outputId": "0353f73d-8093-4929-918a-0dcb7f197610"
      },
      "execution_count": 3,
      "outputs": [
        {
          "output_type": "stream",
          "name": "stdout",
          "text": [
            "Frankenstein.txt  sample_data\n"
          ]
        }
      ]
    },
    {
      "cell_type": "code",
      "source": [
        "# Write a function that print all the unique words per line in the file\n",
        "\n",
        "# way 1\n",
        "def print_unique_words_per_line():\n",
        "    with open(\"Frankenstein.txt\", \"r\", encoding='utf-8-sig') as f:\n",
        "        lines = f.readlines()\n",
        "\n",
        "    for line in lines:\n",
        "        # I am by birth a Genevese, and my family is one of the most\n",
        "        print(\"the line is:\" + line)\n",
        "        words = line.split(\" \")\n",
        "        unique_words = set(words)\n",
        "        print(unique_words)\n",
        "        #for word in unique_words:\n",
        "        #    print(word, end=\" \")\n",
        "\n",
        "print_unique_words_per_line()"
      ],
      "metadata": {
        "colab": {
          "base_uri": "https://localhost:8080/"
        },
        "id": "g2VrqUCdomAn",
        "outputId": "2d34237d-ebe6-470a-8af7-0923ca201c68"
      },
      "execution_count": 31,
      "outputs": [
        {
          "output_type": "stream",
          "name": "stdout",
          "text": [
            "the line is:Frankenstein;\n",
            "\n",
            "{'Frankenstein;\\n'}\n",
            "the line is:\n",
            "\n",
            "{'\\n'}\n",
            "the line is:or, the Modern Prometheus\n",
            "\n",
            "{'the', 'Modern', 'Prometheus\\n', 'or,'}\n",
            "the line is:\n",
            "\n",
            "{'\\n'}\n",
            "the line is:by Mary Wollstonecraft (Godwin) Shelley\n",
            "\n",
            "{'(Godwin)', 'Mary', 'Wollstonecraft', 'by', 'Shelley\\n'}\n",
            "the line is:\n",
            "\n",
            "{'\\n'}\n",
            "the line is:\n",
            "\n",
            "{'\\n'}\n",
            "the line is:Chapter 1\n",
            "\n",
            "{'Chapter', '1\\n'}\n",
            "the line is:\n",
            "\n",
            "{'\\n'}\n",
            "the line is:\n",
            "\n",
            "{'\\n'}\n",
            "the line is:I am by birth a Genevese, and my family is one of the most\n",
            "\n",
            "{'of', 'a', 'Genevese,', 'my', 'I', 'family', 'one', 'am', 'most\\n', 'the', 'birth', 'by', 'and', 'is'}\n",
            "the line is:distinguished of that republic. My ancestors had been for many years\n",
            "\n",
            "{'of', 'that', 'distinguished', 'many', 'had', 'years\\n', 'for', 'My', 'republic.', 'been', 'ancestors'}\n",
            "the line is:counsellors and syndics, and my father had filled several public\n",
            "\n",
            "{'counsellors', 'had', 'several', 'syndics,', 'father', 'my', 'and', 'filled', 'public\\n'}\n",
            "the line is:situations with honour and reputation. He was respected by all who\n",
            "\n",
            "{'all', 'was', 'respected', 'He', 'who\\n', 'reputation.', 'situations', 'by', 'and', 'honour', 'with'}\n",
            "the line is:knew him for his integrity and indefatigable attention to public\n",
            "\n",
            "{'indefatigable', 'knew', 'him', 'integrity', 'attention', 'his', 'for', 'to', 'and', 'public\\n'}\n",
            "the line is:business. He passed his younger days perpetually occupied by the\n",
            "\n",
            "{'days', 'by', 'He', 'his', 'the\\n', 'business.', 'occupied', 'perpetually', 'younger', 'passed'}\n",
            "the line is:affairs of his country; a variety of circumstances had prevented his\n",
            "\n",
            "{'of', 'a', 'had', 'variety', 'affairs', 'his', 'country;', 'circumstances', 'prevented', 'his\\n'}\n",
            "the line is:marrying early, nor was it until the decline of life that he became a\n",
            "\n",
            "{'until', 'of', 'that', 'was', 'he', 'life', 'nor', 'the', 'a\\n', 'it', 'marrying', 'became', 'decline', 'early,'}\n",
            "the line is:husband and the father of a family.\n",
            "\n",
            "{'of', 'a', 'husband', 'the', 'father', 'family.\\n', 'and'}\n",
            "the line is:\n",
            "\n",
            "{'\\n'}\n",
            "the line is:As the circumstances of his marriage illustrate his character, I cannot\n",
            "\n",
            "{'cannot\\n', 'of', 'marriage', 'character,', 'I', 'the', 'his', 'circumstances', 'illustrate', 'As'}\n",
            "the line is:refrain from relating them. One of his most intimate friends was a\n",
            "\n",
            "{'of', 'One', 'most', 'relating', 'from', 'was', 'them.', 'refrain', 'a\\n', 'his', 'friends', 'intimate'}\n",
            "the line is:merchant who, from a flourishing state, fell, through numerous\n",
            "\n",
            "{'flourishing', 'who,', 'a', 'merchant', 'state,', 'through', 'from', 'fell,', 'numerous\\n'}\n",
            "the line is:mischances, into poverty. This man, whose name was Beaufort, was of a\n",
            "\n",
            "{'into', 'poverty.', 'of', 'This', 'was', 'name', 'a\\n', 'whose', 'mischances,', 'man,', 'Beaufort,'}\n",
            "the line is:proud and unbending disposition and could not bear to live in poverty\n",
            "\n",
            "{'unbending', 'poverty\\n', 'disposition', 'could', 'proud', 'in', 'not', 'bear', 'to', 'and', 'live'}\n",
            "the line is:and oblivion in the same country where he had formerly been\n",
            "\n",
            "{'been\\n', 'formerly', 'had', 'where', 'in', 'he', 'oblivion', 'the', 'country', 'and', 'same'}\n",
            "the line is:distinguished for his rank and magnificence. Having paid his debts,\n",
            "\n",
            "{'debts,\\n', 'distinguished', 'Having', 'paid', 'his', 'for', 'rank', 'and', 'magnificence.'}\n",
            "the line is:therefore, in the most honourable manner, he retreated with his\n",
            "\n",
            "{'manner,', 'most', 'retreated', 'he', 'in', 'the', 'honourable', 'therefore,', 'his\\n', 'with'}\n",
            "the line is:daughter to the town of Lucerne, where he lived unknown and in\n",
            "\n",
            "{'of', 'Lucerne,', 'town', 'daughter', 'where', 'he', 'in\\n', 'unknown', 'lived', 'the', 'to', 'and'}\n",
            "the line is:wretchedness. My father loved Beaufort with the truest friendship and\n",
            "\n",
            "{'truest', 'wretchedness.', 'friendship', 'loved', 'the', 'My', 'and\\n', 'father', 'Beaufort', 'with'}\n",
            "the line is:was deeply grieved by his retreat in these unfortunate circumstances.\n",
            "\n",
            "{'was', 'grieved', 'in', 'unfortunate', 'deeply', 'retreat', 'these', 'his', 'circumstances.\\n', 'by'}\n",
            "the line is:He bitterly deplored the false pride which led his friend to a conduct\n",
            "\n",
            "{'which', 'bitterly', 'a', 'pride', 'friend', 'He', 'deplored', 'the', 'his', 'false', 'conduct\\n', 'to', 'led'}\n",
            "the line is:so little worthy of the affection that united them. He lost no time in\n",
            "\n",
            "{'of', 'that', 'worthy', 'no', 'affection', 'lost', 'in\\n', 'little', 'them.', 'He', 'the', 'time', 'so', 'united'}\n",
            "the line is:endeavouring to seek him out, with the hope of persuading him to begin\n",
            "\n",
            "{'endeavouring', 'hope', 'of', 'persuading', 'him', 'the', 'seek', 'out,', 'begin\\n', 'to', 'with'}\n",
            "the line is:the world again through his credit and assistance.\n",
            "\n",
            "{'world', 'through', 'credit', 'again', 'the', 'his', 'assistance.\\n', 'and'}\n",
            "the line is:\n",
            "\n",
            "{'\\n'}\n",
            "the line is:Beaufort had taken effectual measures to conceal himself, and it was ten\n",
            "\n",
            "{'conceal', 'himself,', 'had', 'taken', 'was', 'measures', 'effectual', 'it', 'ten\\n', 'to', 'Beaufort', 'and'}\n",
            "the line is:months before my father discovered his abode. Overjoyed at this discovery,\n",
            "\n",
            "{'discovered', 'months', 'before', 'abode.', 'Overjoyed', 'his', 'discovery,\\n', 'at', 'father', 'my', 'this'}\n",
            "the line is:he hastened to the house, which was situated in a mean street near the\n",
            "\n",
            "{'which', 'hastened', 'a', 'near', 'mean', 'was', 'he', 'in', 'street', 'the', 'the\\n', 'to', 'situated', 'house,'}\n",
            "the line is:Reuss. But when he entered, misery and despair alone welcomed him. Beaufort\n",
            "\n",
            "{'him.', 'he', 'when', 'entered,', 'But', 'despair', 'Reuss.', 'misery', 'Beaufort\\n', 'and', 'alone', 'welcomed'}\n",
            "the line is:had saved but a very small sum of money from the wreck of his fortunes, but\n",
            "\n",
            "{'sum', 'money', 'of', 'a', 'wreck', 'had', 'small', 'from', 'the', 'but', 'his', 'saved', 'fortunes,', 'very', 'but\\n'}\n",
            "the line is:it was sufficient to provide him with sustenance for some months, and in\n",
            "\n",
            "{'some', 'provide', 'months,', 'was', 'sufficient', 'him', 'sustenance', 'in\\n', 'for', 'it', 'to', 'and', 'with'}\n",
            "the line is:the meantime he hoped to procure some respectable employment in a\n",
            "\n",
            "{'employment', 'some', 'he', 'in', 'meantime', 'the', 'hoped', 'procure', 'a\\n', 'to', 'respectable'}\n",
            "the line is:merchant’s house. The interval was, consequently, spent in inaction;\n",
            "\n",
            "{'was,', 'interval', 'inaction;\\n', 'house.', 'in', 'merchant’s', 'The', 'consequently,', 'spent'}\n",
            "the line is:his grief only became more deep and rankling when he had leisure for\n",
            "\n",
            "{'only', 'had', 'he', 'when', 'leisure', 'grief', 'his', 'more', 'for\\n', 'deep', 'became', 'and', 'rankling'}\n",
            "the line is:reflection, and at length it took so fast hold of his mind that at the end\n",
            "\n",
            "{'end\\n', 'of', 'that', 'hold', 'reflection,', 'length', 'fast', 'the', 'his', 'mind', 'it', 'at', 'took', 'and', 'so'}\n",
            "the line is:of three months he lay on a bed of sickness, incapable of any exertion.\n",
            "\n",
            "{'lay', 'months', 'of', 'three', 'a', 'sickness,', 'incapable', 'he', 'on', 'exertion.\\n', 'any', 'bed'}\n",
            "the line is:\n",
            "\n",
            "{'\\n'}\n",
            "the line is:His daughter attended him with the greatest tenderness, but she saw\n",
            "\n",
            "{'she', 'daughter', 'him', 'attended', 'greatest', 'the', 'but', 'tenderness,', 'His', 'saw\\n', 'with'}\n",
            "the line is:with despair that their little fund was rapidly decreasing and that\n",
            "\n",
            "{'that', 'was', 'fund', 'rapidly', 'little', 'that\\n', 'and', 'decreasing', 'their', 'despair', 'with'}\n",
            "the line is:there was no other prospect of support. But Caroline Beaufort\n",
            "\n",
            "{'Caroline', 'no', 'of', 'was', 'there', 'But', 'support.', 'prospect', 'other', 'Beaufort\\n'}\n",
            "the line is:possessed a mind of an uncommon mould, and her courage rose to support\n",
            "\n",
            "{'of', 'rose', 'an', 'a', 'possessed', 'courage', 'her', 'support\\n', 'mind', 'uncommon', 'to', 'and', 'mould,'}\n",
            "the line is:her in her adversity. She procured plain work; she plaited straw and\n",
            "\n",
            "{'she', 'plaited', 'procured', 'straw', 'She', 'in', 'work;', 'her', 'plain', 'and\\n', 'adversity.'}\n",
            "the line is:by various means contrived to earn a pittance scarcely sufficient to\n",
            "\n",
            "{'means', 'pittance', 'a', 'sufficient', 'scarcely', 'contrived', 'to\\n', 'earn', 'to', 'by', 'various'}\n",
            "the line is:support life.\n",
            "\n",
            "{'support', 'life.\\n'}\n"
          ]
        }
      ]
    },
    {
      "cell_type": "code",
      "source": [
        "my_str = \"hola mundo mundo\"\n",
        "my_str_splitted = my_str.split(\" \")\n",
        "print(my_str_splitted)\n",
        "print(set(my_str_splitted))"
      ],
      "metadata": {
        "colab": {
          "base_uri": "https://localhost:8080/"
        },
        "id": "o0L6Pvw0qNu3",
        "outputId": "190e46e2-55bb-4880-ee3d-7bd1b7f83c33"
      },
      "execution_count": 19,
      "outputs": [
        {
          "output_type": "stream",
          "name": "stdout",
          "text": [
            "['hola', 'mundo', 'mundo']\n",
            "{'mundo', 'hola'}\n"
          ]
        }
      ]
    },
    {
      "cell_type": "code",
      "source": [
        "my_str = \"hola maravilloso mundo\"\n",
        "my_str_splitted = [\"hola\", \"maravilloso\", \"mundo\"]\n",
        "\n"
      ],
      "metadata": {
        "id": "9STELMAjsNMW"
      },
      "execution_count": null,
      "outputs": []
    }
  ]
}