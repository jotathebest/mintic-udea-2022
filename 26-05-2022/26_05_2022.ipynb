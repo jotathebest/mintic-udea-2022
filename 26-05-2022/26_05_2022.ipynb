{
  "nbformat": 4,
  "nbformat_minor": 0,
  "metadata": {
    "colab": {
      "name": "26_05_2022.ipynb",
      "provenance": [],
      "collapsed_sections": []
    },
    "kernelspec": {
      "name": "python3",
      "display_name": "Python 3"
    },
    "language_info": {
      "name": "python"
    }
  },
  "cells": [
    {
      "cell_type": "code",
      "execution_count": null,
      "metadata": {
        "id": "w2tgiD0g4j16"
      },
      "outputs": [],
      "source": [
        "!wget https://raw.githubusercontent.com/dduril/Movies-JSON/master/marvel-cinematic-universe.json"
      ]
    },
    {
      "cell_type": "code",
      "source": [
        "!ls"
      ],
      "metadata": {
        "colab": {
          "base_uri": "https://localhost:8080/"
        },
        "id": "eVlvlE3_4qg0",
        "outputId": "20813f20-a799-4add-a8b9-40c9b5dac90c"
      },
      "execution_count": 1,
      "outputs": [
        {
          "output_type": "stream",
          "name": "stdout",
          "text": [
            "sample_data\n"
          ]
        }
      ]
    },
    {
      "cell_type": "code",
      "source": [
        "import json\n",
        "\n",
        "# Read data from file, way 1:\n",
        "data = {}\n",
        "with open(\"marvel-cinematic-universe.json\", \"r\") as f:\n",
        "    data = json.load(f)\n",
        "\n",
        "print(data)"
      ],
      "metadata": {
        "id": "quW-uTUs5Dti"
      },
      "execution_count": null,
      "outputs": []
    },
    {
      "cell_type": "code",
      "source": [
        "import json\n",
        "\n",
        "# Read data from file, way 2:\n",
        "data = {}\n",
        "with open(\"marvel-cinematic-universe.json\", \"r\") as f:\n",
        "    file_data = f.read()\n",
        "    data = json.loads(file_data)\n",
        "\n",
        "print(data)"
      ],
      "metadata": {
        "id": "MCPObe994uFn"
      },
      "execution_count": null,
      "outputs": []
    },
    {
      "cell_type": "code",
      "source": [
        "# differences between load and loads:\n",
        "\n",
        "# load --> Should be used when you read a binary file or a buffer of data\n",
        "# loads --> should be used when you read a string"
      ],
      "metadata": {
        "id": "iah8oSNt5KqO"
      },
      "execution_count": null,
      "outputs": []
    },
    {
      "cell_type": "code",
      "source": [
        "# let's print the keys of the data\n",
        "\n",
        "print(data.keys())"
      ],
      "metadata": {
        "id": "W1zFaNht7IGg"
      },
      "execution_count": null,
      "outputs": []
    },
    {
      "cell_type": "code",
      "source": [
        "# let's print the available movies\n",
        "\n",
        "marvel_data = data['Marvel Cinematic Universe']\n",
        "print(marvel_data.keys())"
      ],
      "metadata": {
        "id": "z2iNaRX-7Qdl"
      },
      "execution_count": null,
      "outputs": []
    },
    {
      "cell_type": "code",
      "source": [
        "# Print the movie's title and the release year of every available movie following the format below:\n",
        "# <movie_name_1> , <year>\n",
        "# ...\n",
        "# <movie_name_n> , <year>\n"
      ],
      "metadata": {
        "id": "GOO5fOll7cT2"
      },
      "execution_count": null,
      "outputs": []
    },
    {
      "cell_type": "code",
      "source": [
        "# Extract the 3 movies with the highest budget. You should print the movie name and budget as follows:\n",
        "# <movie_name_1>: <budget>\n",
        "# <movie_name_2>: <budget>\n",
        "# <movie_name_3>: <budget>\n",
        "\n",
        "# There is not need to sort the movies by budget\n",
        "# Note: Some budgets have the value 'tbd' in the DB, do not use them\n",
        "\n",
        "\n"
      ],
      "metadata": {
        "id": "osrola6c9z3R"
      },
      "execution_count": null,
      "outputs": []
    },
    {
      "cell_type": "code",
      "source": [
        "# Save to a file: dump\n",
        "\n",
        "data = [\n",
        "        {\"name\": \"jose\", \"surname\": \"garcia\"}, \n",
        "        {\"name\": \"carolina\", \"surname\": \"martinez\"}\n",
        "]\n",
        "\n",
        "with open(\"data_names.txt\", \"w\") as f:\n",
        "    json.dump(data, f)"
      ],
      "metadata": {
        "id": "mAaArpFeFD5t"
      },
      "execution_count": null,
      "outputs": []
    },
    {
      "cell_type": "code",
      "source": [
        "with open(\"data_names.txt\", \"r\") as f:\n",
        "    print(f.read())"
      ],
      "metadata": {
        "id": "eI3RNu-kFths"
      },
      "execution_count": null,
      "outputs": []
    },
    {
      "cell_type": "code",
      "source": [
        "# save the result of the movies with the highest budget to a file"
      ],
      "metadata": {
        "id": "I532V8KhF0hf"
      },
      "execution_count": null,
      "outputs": []
    }
  ]
}