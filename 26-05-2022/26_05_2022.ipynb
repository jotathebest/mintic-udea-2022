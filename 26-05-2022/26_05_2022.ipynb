{
  "nbformat": 4,
  "nbformat_minor": 0,
  "metadata": {
    "colab": {
      "name": "26_05_2022.ipynb",
      "provenance": [],
      "collapsed_sections": []
    },
    "kernelspec": {
      "name": "python3",
      "display_name": "Python 3"
    },
    "language_info": {
      "name": "python"
    }
  },
  "cells": [
    {
      "cell_type": "code",
      "source": [
        "my_json_data = [{\n",
        "    \"name\": \"jose\",\n",
        "    \"surname: \"garcia\"\n",
        "}]\n",
        "\n",
        "another = [\"jose\", \"garcia\"]\n",
        "another_one = [1, 2, 3]\n",
        "another_one_2 = 1 # No"
      ],
      "metadata": {
        "id": "IrblYyTVyW_0"
      },
      "execution_count": null,
      "outputs": []
    },
    {
      "cell_type": "code",
      "source": [
        "my_json_data = [\n",
        "                { \"people\":\n",
        "                        {\n",
        "                            \"name\": \"jose\"\n",
        "                            \"surname\": \"garcia\"\n",
        "                        },\n",
        "                 \"cities\":\n",
        "                        {\n",
        "                            \"name\": \"jose garcia\",\n",
        "                            \"city\": \"Medellin\"\n",
        "                        },\n",
        "                 \"a list\": [\n",
        "                            {\n",
        "                                \n",
        "                            }\n",
        "                 ]\n",
        "                }\n",
        "]"
      ],
      "metadata": {
        "id": "ZvFnmi0Yy2sE"
      },
      "execution_count": null,
      "outputs": []
    },
    {
      "cell_type": "code",
      "execution_count": 1,
      "metadata": {
        "id": "w2tgiD0g4j16",
        "colab": {
          "base_uri": "https://localhost:8080/"
        },
        "outputId": "22d44d69-887d-445e-da41-56b5b6346163"
      },
      "outputs": [
        {
          "output_type": "stream",
          "name": "stdout",
          "text": [
            "--2022-05-26 23:58:09--  https://raw.githubusercontent.com/dduril/Movies-JSON/master/marvel-cinematic-universe.json\n",
            "Resolving raw.githubusercontent.com (raw.githubusercontent.com)... 185.199.108.133, 185.199.109.133, 185.199.110.133, ...\n",
            "Connecting to raw.githubusercontent.com (raw.githubusercontent.com)|185.199.108.133|:443... connected.\n",
            "HTTP request sent, awaiting response... 200 OK\n",
            "Length: 10199 (10.0K) [text/plain]\n",
            "Saving to: ‘marvel-cinematic-universe.json’\n",
            "\n",
            "\r          marvel-ci   0%[                    ]       0  --.-KB/s               \rmarvel-cinematic-un 100%[===================>]   9.96K  --.-KB/s    in 0s      \n",
            "\n",
            "2022-05-26 23:58:09 (64.5 MB/s) - ‘marvel-cinematic-universe.json’ saved [10199/10199]\n",
            "\n"
          ]
        }
      ],
      "source": [
        "!wget https://raw.githubusercontent.com/dduril/Movies-JSON/master/marvel-cinematic-universe.json"
      ]
    },
    {
      "cell_type": "code",
      "source": [
        "!ls"
      ],
      "metadata": {
        "colab": {
          "base_uri": "https://localhost:8080/"
        },
        "id": "eVlvlE3_4qg0",
        "outputId": "5e6e73b4-41fa-44af-e8a0-c2f7f7da136e"
      },
      "execution_count": 2,
      "outputs": [
        {
          "output_type": "stream",
          "name": "stdout",
          "text": [
            "marvel-cinematic-universe.json\tsample_data\n"
          ]
        }
      ]
    },
    {
      "cell_type": "code",
      "source": [
        "import json\n",
        "\n",
        "# Read data from file, way 1:\n",
        "data = {}\n",
        "with open(\"marvel-cinematic-universe.json\", \"r\") as f:\n",
        "    print(f)\n",
        "    data = json.load(f)\n",
        "\n",
        "print(data)"
      ],
      "metadata": {
        "id": "quW-uTUs5Dti",
        "colab": {
          "base_uri": "https://localhost:8080/"
        },
        "outputId": "7ce8d0c1-59ed-4b7f-bbfe-ac1895045cda"
      },
      "execution_count": 7,
      "outputs": [
        {
          "output_type": "stream",
          "name": "stdout",
          "text": [
            "<_io.TextIOWrapper name='marvel-cinematic-universe.json' mode='r' encoding='UTF-8'>\n",
            "{'Marvel Cinematic Universe': {'Iron Man': {'movie_id': 1, 'title': 'Iron Man', 'phase': 'Phase One: Avengers Assembled', 'category_name': 'Action', 'release_year': 2015, 'running_time': 126, 'rating_name': 'PG-13', 'disc_format_name': 'Blu-ray', 'number_discs': 1, 'viewing_format_name': 'Widescreen', 'aspect_ratio_name': '2.35:1', 'status': 1, 'release_date': 'May 2, 2008', 'budget': '140,000,000', 'gross': '318,298,180', 'time_stamp': '2015-05-03'}, 'The Incredible Hulk': {'movie_id': 2, 'title': 'The Incredible Hulk', 'phase': 'Phase One: Avengers Assembled', 'category_name': 'Action', 'release_year': 2008, 'running_time': 112, 'rating_name': 'PG-13', 'disc_format_name': 'DVD', 'number_discs': 3, 'viewing_format_name': 'Widescreen', 'aspect_ratio_name': '2.35:1', 'status': 1, 'release_date': 'June 13, 2008', 'budget': '150,000,000', 'gross': '134,518,390', 'time_stamp': '2008-10-21'}, 'Iron Man 2': {'movie_id': 3, 'title': 'Iron Man 2', 'phase': 'Phase One: Avengers Assembled', 'category_name': 'Action', 'release_year': 2015, 'running_time': 124, 'rating_name': 'PG-13', 'disc_format_name': 'Blu-ray', 'number_discs': 1, 'viewing_format_name': 'Widescreen', 'aspect_ratio_name': '2.35:1', 'status': 1, 'release_date': 'May 7, 2010', 'budget': '200,000,000', 'gross': '312,057,433', 'time_stamp': '2015-05-03'}, 'Thor': {'movie_id': 4, 'title': 'Thor', 'phase': 'Phase One: Avengers Assembled', 'category_name': 'Action', 'release_year': 2011, 'running_time': 115, 'rating_name': 'PG-13', 'disc_format_name': 'Blu-ray + DVD', 'number_discs': 2, 'viewing_format_name': 'Widescreen', 'aspect_ratio_name': '2.35:1', 'status': 1, 'release_date': 'May 6, 2011', 'budget': '150,000,000', 'gross': '181,015,141', 'time_stamp': '2011-10-30'}, 'Captain America: The First Avenger': {'movie_id': 5, 'title': 'Captain America', 'phase': 'Phase One: Avengers Assembled', 'category_name': 'Action', 'release_year': 2011, 'running_time': 124, 'rating_name': 'PG-13', 'disc_format_name': 'Blu-ray + DVD', 'number_discs': 2, 'viewing_format_name': 'Widescreen', 'aspect_ratio_name': '2.35:1', 'status': 1, 'release_date': 'July 22, 2011', 'budget': '140,000,000', 'gross': '176,636,816', 'time_stamp': '2011-10-30'}, \"Marvel's The Avengers\": {'movie_id': 6, 'title': 'Avengers, The', 'phase': 'Phase One: Avengers Assembled', 'category_name': 'Science Fiction', 'release_year': 2012, 'running_time': 143, 'rating_name': 'PG-13', 'disc_format_name': 'Blu-ray + DVD', 'number_discs': 2, 'viewing_format_name': 'Widescreen', 'aspect_ratio_name': '1.85:1', 'status': 1, 'release_date': 'May 4, 2012', 'budget': '220,000,000', 'gross': '623,279,547', 'time_stamp': '2012-10-20'}, 'Iron Man 3': {'movie_id': 7, 'title': 'Iron Man 3', 'phase': 'Phase Two', 'category_name': 'Action', 'release_year': 2015, 'running_time': 130, 'rating_name': 'PG-13', 'disc_format_name': 'Blu-ray + DVD', 'number_discs': 2, 'viewing_format_name': 'Widescreen', 'aspect_ratio_name': '2.35:1', 'status': 1, 'release_date': 'May 3, 2013', 'budget': '200,000,000', 'gross': '408,992,272', 'time_stamp': '2015-05-03'}, 'Thor: The Dark World': {'movie_id': 8, 'title': 'Thor: The Dark World', 'phase': 'Phase Two', 'category_name': 'Science Fiction', 'release_year': 2013, 'running_time': 112, 'rating_name': 'PG-13', 'disc_format_name': 'Blu-ray', 'number_discs': 2, 'viewing_format_name': 'Widescreen', 'aspect_ratio_name': '2.35:1', 'status': 1, 'release_date': 'November 8, 2013', 'budget': '170,000,000', 'gross': '206,360,018', 'time_stamp': '2014-03-04'}, 'Captain America: The Winter Soldier': {'movie_id': 9, 'title': 'Captain America: The Winter Soldier', 'phase': 'Phase Two', 'edition': 'Blu-ray Edition', 'release_year': 2014, 'running_time': 136, 'rating_name': 'PG-13', 'disc_format_name': 'Blu-ray', 'number_discs': 1, 'viewing_format_name': 'Widescreen', 'aspect_ratio_name': '2.35:1', 'status': 1, 'release_date': 'April 4, 2014', 'budget': '170,000,000', 'gross': '259,746,958', 'time_stamp': '2014-09-19'}, 'Guardians of the Galaxy': {'movie_id': 10, 'title': 'Guardians of the Galaxy', 'phase': 'Phase Two', 'category_name': 'Science Fiction', 'release_year': 2014, 'running_time': 121, 'rating_name': 'PG-13', 'disc_format_name': 'Blu-ray', 'number_discs': 1, 'viewing_format_name': 'Widescreen', 'aspect_ratio_name': '2.35:1', 'status': 1, 'release_date': 'August 1, 2014', 'budget': '170,000,000', 'gross': '333,130,696', 'time_stamp': '2014-12-07'}, 'Avengers: Age of Ultron': {'movie_id': 11, 'title': 'Avengers: Age of Ultron', 'phase': 'Phase Two', 'category_name': 'Science Fiction', 'release_year': 2015, 'running_time': 141, 'rating_name': 'PG-13', 'disc_format_name': 'Blu-ray', 'number_discs': 1, 'viewing_format_name': 'Widescreen', 'aspect_ratio_name': '2.35:1', 'status': 1, 'release_date': 'May 1, 2015', 'budget': '250,000,000', 'gross': '458,991,599', 'time_stamp': '2015-12-07'}, 'Ant-Man': {'movie_id': 12, 'title': 'Ant-Man', 'phase': 'Phase Two', 'category_name': 'Science Fiction', 'release_year': 2015, 'running_time': 132, 'rating_name': 'PG-13', 'disc_format_name': 'Blu-ray', 'number_discs': 1, 'viewing_format_name': 'Widescreen', 'aspect_ratio_name': '1.85:1', 'status': 1, 'release_date': 'July 17, 2015', 'budget': '130,000,000', 'gross': '179,017,481', 'time_stamp': '2015-12-07'}, 'Captain America: Civil War': {'movie_id': 13, 'title': 'Captain America: Civil War', 'phase': 'Phase Three', 'category_name': 'Science Fiction', 'release_year': 2016, 'running_time': 147, 'rating_name': 'PG-13', 'disc_format_name': 'Blu-ray', 'number_discs': 1, 'viewing_format_name': 'Widescreen', 'aspect_ratio_name': '2.39:1', 'status': 1, 'release_date': 'May 6, 2016', 'budget': '250,00,000', 'gross': '408,084,349', 'time_stamp': '2017-11-09'}, 'Doctor Strange': {'movie_id': 14, 'title': 'Doctor Strange', 'phase': 'Phase Three', 'category_name': 'Science Fiction', 'release_year': 2016, 'running_time': 115, 'rating_name': 'PG-13', 'disc_format_name': 'Blu-ray', 'number_discs': 1, 'viewing_format_name': 'Widescreen', 'aspect_ratio_name': '2.39:1', 'status': 1, 'release_date': 'November 4, 2016', 'budget': '165,000,000', 'gross': '232,641,920', 'time_stamp': '2017-11-09'}, 'Guardians of the Galaxy Vol. 2': {'movie_id': 15, 'title': 'Guardians of the Galaxy Vol. 2', 'phase': 'Phase Three', 'category_name': 'Science Fiction', 'release_year': 2017, 'running_time': 136, 'rating_name': 'PG-13', 'disc_format_name': 'Blu-ray', 'number_discs': 1, 'viewing_format_name': 'Widescreen', 'aspect_ratio_name': '2.39:1', 'status': 1, 'release_date': 'May 5, 2017', 'budget': '200,000,000', 'gross': '389,213,281', 'time_stamp': '2017-11-09'}, 'Spider-Man: Homecoming': {'movie_id': 16, 'title': 'Spider-Man: Homecoming', 'phase': 'Phase Three', 'category_name': 'Science Fiction', 'release_year': 2017, 'running_time': 133, 'rating_name': 'PG-13', 'disc_format_name': 'Blu-ray', 'number_discs': 1, 'viewing_format_name': 'Widescreen', 'aspect_ratio_name': '2.35:1', 'status': 1, 'release_date': 'July 7, 2017', 'budget': '175,000,000', 'gross': '314,057,748', 'time_stamp': '2017-11-09'}, 'Thor: Ragnarok': {'movie_id': 17, 'title': 'Thor: Ragnarok', 'phase': 'Phase Three', 'category_name': 'Science Fiction', 'release_year': 2017, 'running_time': 130, 'rating_name': 'PG-13', 'disc_format_name': 'Blu-ray', 'number_discs': 1, 'viewing_format_name': 'Widescreen', 'aspect_ratio_name': '2.35:1', 'status': 1, 'release_date': 'November 3, 2017', 'budget': '180,000,000', 'gross': 'tbd', 'time_stamp': '2017-11-09'}, 'Black Panther': {'movie_id': 18, 'title': 'Black Panther', 'phase': 'Phase Three', 'category_name': 'Science Fiction', 'release_year': 2018, 'running_time': 0, 'rating_name': 'PG-13', 'disc_format_name': 'Blu-ray', 'number_discs': 1, 'viewing_format_name': 'Widescreen', 'aspect_ratio_name': '2.39:1', 'status': 1, 'release_date': 'February 16, 2018', 'budget': 'tbd', 'gross': 'tbd', 'time_stamp': '2018-01-09'}, 'Avengers: Infinity War': {'movie_id': 19, 'title': 'Avengers: Infinity War', 'phase': 'Phase Three', 'category_name': 'Science Fiction', 'release_year': 2018, 'running_time': 0, 'rating_name': 'PG-13', 'disc_format_name': 'Blu-ray', 'number_discs': 1, 'viewing_format_name': 'Widescreen', 'aspect_ratio_name': '2.39:1', 'status': 1, 'release_date': 'May 4, 2018', 'budget': 'tbd', 'gross': 'tbd', 'time_stamp': '2018-01-09'}, 'Ant-Man and the Wasp': {'movie_id': 20, 'title': 'Ant-Man and the Wasp', 'phase': 'Phase Three', 'category_name': 'Science Fiction', 'release_year': 2018, 'running_time': 0, 'rating_name': 'PG-13', 'disc_format_name': 'Blu-ray', 'number_discs': 1, 'viewing_format_name': 'Widescreen', 'aspect_ratio_name': '2.39:1', 'status': 1, 'release_date': 'July 6, 2018', 'budget': 'tbd', 'gross': 'tbd', 'time_stamp': '2018-01-09'}}}\n"
          ]
        }
      ]
    },
    {
      "cell_type": "code",
      "source": [
        "import json\n",
        "\n",
        "# Read data from file, way 2:\n",
        "data = {}\n",
        "with open(\"marvel-cinematic-universe.json\", \"r\") as f:\n",
        "    file_data = f.read()\n",
        "    print(file_data[3])\n",
        "    data = json.loads(file_data)\n",
        "\n",
        "print(data)"
      ],
      "metadata": {
        "id": "MCPObe994uFn",
        "colab": {
          "base_uri": "https://localhost:8080/"
        },
        "outputId": "4dec2397-ef4b-4ce9-dd37-28b30f9a9b32"
      },
      "execution_count": 11,
      "outputs": [
        {
          "output_type": "stream",
          "name": "stdout",
          "text": [
            "\"\n",
            "{'Marvel Cinematic Universe': {'Iron Man': {'movie_id': 1, 'title': 'Iron Man', 'phase': 'Phase One: Avengers Assembled', 'category_name': 'Action', 'release_year': 2015, 'running_time': 126, 'rating_name': 'PG-13', 'disc_format_name': 'Blu-ray', 'number_discs': 1, 'viewing_format_name': 'Widescreen', 'aspect_ratio_name': '2.35:1', 'status': 1, 'release_date': 'May 2, 2008', 'budget': '140,000,000', 'gross': '318,298,180', 'time_stamp': '2015-05-03'}, 'The Incredible Hulk': {'movie_id': 2, 'title': 'The Incredible Hulk', 'phase': 'Phase One: Avengers Assembled', 'category_name': 'Action', 'release_year': 2008, 'running_time': 112, 'rating_name': 'PG-13', 'disc_format_name': 'DVD', 'number_discs': 3, 'viewing_format_name': 'Widescreen', 'aspect_ratio_name': '2.35:1', 'status': 1, 'release_date': 'June 13, 2008', 'budget': '150,000,000', 'gross': '134,518,390', 'time_stamp': '2008-10-21'}, 'Iron Man 2': {'movie_id': 3, 'title': 'Iron Man 2', 'phase': 'Phase One: Avengers Assembled', 'category_name': 'Action', 'release_year': 2015, 'running_time': 124, 'rating_name': 'PG-13', 'disc_format_name': 'Blu-ray', 'number_discs': 1, 'viewing_format_name': 'Widescreen', 'aspect_ratio_name': '2.35:1', 'status': 1, 'release_date': 'May 7, 2010', 'budget': '200,000,000', 'gross': '312,057,433', 'time_stamp': '2015-05-03'}, 'Thor': {'movie_id': 4, 'title': 'Thor', 'phase': 'Phase One: Avengers Assembled', 'category_name': 'Action', 'release_year': 2011, 'running_time': 115, 'rating_name': 'PG-13', 'disc_format_name': 'Blu-ray + DVD', 'number_discs': 2, 'viewing_format_name': 'Widescreen', 'aspect_ratio_name': '2.35:1', 'status': 1, 'release_date': 'May 6, 2011', 'budget': '150,000,000', 'gross': '181,015,141', 'time_stamp': '2011-10-30'}, 'Captain America: The First Avenger': {'movie_id': 5, 'title': 'Captain America', 'phase': 'Phase One: Avengers Assembled', 'category_name': 'Action', 'release_year': 2011, 'running_time': 124, 'rating_name': 'PG-13', 'disc_format_name': 'Blu-ray + DVD', 'number_discs': 2, 'viewing_format_name': 'Widescreen', 'aspect_ratio_name': '2.35:1', 'status': 1, 'release_date': 'July 22, 2011', 'budget': '140,000,000', 'gross': '176,636,816', 'time_stamp': '2011-10-30'}, \"Marvel's The Avengers\": {'movie_id': 6, 'title': 'Avengers, The', 'phase': 'Phase One: Avengers Assembled', 'category_name': 'Science Fiction', 'release_year': 2012, 'running_time': 143, 'rating_name': 'PG-13', 'disc_format_name': 'Blu-ray + DVD', 'number_discs': 2, 'viewing_format_name': 'Widescreen', 'aspect_ratio_name': '1.85:1', 'status': 1, 'release_date': 'May 4, 2012', 'budget': '220,000,000', 'gross': '623,279,547', 'time_stamp': '2012-10-20'}, 'Iron Man 3': {'movie_id': 7, 'title': 'Iron Man 3', 'phase': 'Phase Two', 'category_name': 'Action', 'release_year': 2015, 'running_time': 130, 'rating_name': 'PG-13', 'disc_format_name': 'Blu-ray + DVD', 'number_discs': 2, 'viewing_format_name': 'Widescreen', 'aspect_ratio_name': '2.35:1', 'status': 1, 'release_date': 'May 3, 2013', 'budget': '200,000,000', 'gross': '408,992,272', 'time_stamp': '2015-05-03'}, 'Thor: The Dark World': {'movie_id': 8, 'title': 'Thor: The Dark World', 'phase': 'Phase Two', 'category_name': 'Science Fiction', 'release_year': 2013, 'running_time': 112, 'rating_name': 'PG-13', 'disc_format_name': 'Blu-ray', 'number_discs': 2, 'viewing_format_name': 'Widescreen', 'aspect_ratio_name': '2.35:1', 'status': 1, 'release_date': 'November 8, 2013', 'budget': '170,000,000', 'gross': '206,360,018', 'time_stamp': '2014-03-04'}, 'Captain America: The Winter Soldier': {'movie_id': 9, 'title': 'Captain America: The Winter Soldier', 'phase': 'Phase Two', 'edition': 'Blu-ray Edition', 'release_year': 2014, 'running_time': 136, 'rating_name': 'PG-13', 'disc_format_name': 'Blu-ray', 'number_discs': 1, 'viewing_format_name': 'Widescreen', 'aspect_ratio_name': '2.35:1', 'status': 1, 'release_date': 'April 4, 2014', 'budget': '170,000,000', 'gross': '259,746,958', 'time_stamp': '2014-09-19'}, 'Guardians of the Galaxy': {'movie_id': 10, 'title': 'Guardians of the Galaxy', 'phase': 'Phase Two', 'category_name': 'Science Fiction', 'release_year': 2014, 'running_time': 121, 'rating_name': 'PG-13', 'disc_format_name': 'Blu-ray', 'number_discs': 1, 'viewing_format_name': 'Widescreen', 'aspect_ratio_name': '2.35:1', 'status': 1, 'release_date': 'August 1, 2014', 'budget': '170,000,000', 'gross': '333,130,696', 'time_stamp': '2014-12-07'}, 'Avengers: Age of Ultron': {'movie_id': 11, 'title': 'Avengers: Age of Ultron', 'phase': 'Phase Two', 'category_name': 'Science Fiction', 'release_year': 2015, 'running_time': 141, 'rating_name': 'PG-13', 'disc_format_name': 'Blu-ray', 'number_discs': 1, 'viewing_format_name': 'Widescreen', 'aspect_ratio_name': '2.35:1', 'status': 1, 'release_date': 'May 1, 2015', 'budget': '250,000,000', 'gross': '458,991,599', 'time_stamp': '2015-12-07'}, 'Ant-Man': {'movie_id': 12, 'title': 'Ant-Man', 'phase': 'Phase Two', 'category_name': 'Science Fiction', 'release_year': 2015, 'running_time': 132, 'rating_name': 'PG-13', 'disc_format_name': 'Blu-ray', 'number_discs': 1, 'viewing_format_name': 'Widescreen', 'aspect_ratio_name': '1.85:1', 'status': 1, 'release_date': 'July 17, 2015', 'budget': '130,000,000', 'gross': '179,017,481', 'time_stamp': '2015-12-07'}, 'Captain America: Civil War': {'movie_id': 13, 'title': 'Captain America: Civil War', 'phase': 'Phase Three', 'category_name': 'Science Fiction', 'release_year': 2016, 'running_time': 147, 'rating_name': 'PG-13', 'disc_format_name': 'Blu-ray', 'number_discs': 1, 'viewing_format_name': 'Widescreen', 'aspect_ratio_name': '2.39:1', 'status': 1, 'release_date': 'May 6, 2016', 'budget': '250,00,000', 'gross': '408,084,349', 'time_stamp': '2017-11-09'}, 'Doctor Strange': {'movie_id': 14, 'title': 'Doctor Strange', 'phase': 'Phase Three', 'category_name': 'Science Fiction', 'release_year': 2016, 'running_time': 115, 'rating_name': 'PG-13', 'disc_format_name': 'Blu-ray', 'number_discs': 1, 'viewing_format_name': 'Widescreen', 'aspect_ratio_name': '2.39:1', 'status': 1, 'release_date': 'November 4, 2016', 'budget': '165,000,000', 'gross': '232,641,920', 'time_stamp': '2017-11-09'}, 'Guardians of the Galaxy Vol. 2': {'movie_id': 15, 'title': 'Guardians of the Galaxy Vol. 2', 'phase': 'Phase Three', 'category_name': 'Science Fiction', 'release_year': 2017, 'running_time': 136, 'rating_name': 'PG-13', 'disc_format_name': 'Blu-ray', 'number_discs': 1, 'viewing_format_name': 'Widescreen', 'aspect_ratio_name': '2.39:1', 'status': 1, 'release_date': 'May 5, 2017', 'budget': '200,000,000', 'gross': '389,213,281', 'time_stamp': '2017-11-09'}, 'Spider-Man: Homecoming': {'movie_id': 16, 'title': 'Spider-Man: Homecoming', 'phase': 'Phase Three', 'category_name': 'Science Fiction', 'release_year': 2017, 'running_time': 133, 'rating_name': 'PG-13', 'disc_format_name': 'Blu-ray', 'number_discs': 1, 'viewing_format_name': 'Widescreen', 'aspect_ratio_name': '2.35:1', 'status': 1, 'release_date': 'July 7, 2017', 'budget': '175,000,000', 'gross': '314,057,748', 'time_stamp': '2017-11-09'}, 'Thor: Ragnarok': {'movie_id': 17, 'title': 'Thor: Ragnarok', 'phase': 'Phase Three', 'category_name': 'Science Fiction', 'release_year': 2017, 'running_time': 130, 'rating_name': 'PG-13', 'disc_format_name': 'Blu-ray', 'number_discs': 1, 'viewing_format_name': 'Widescreen', 'aspect_ratio_name': '2.35:1', 'status': 1, 'release_date': 'November 3, 2017', 'budget': '180,000,000', 'gross': 'tbd', 'time_stamp': '2017-11-09'}, 'Black Panther': {'movie_id': 18, 'title': 'Black Panther', 'phase': 'Phase Three', 'category_name': 'Science Fiction', 'release_year': 2018, 'running_time': 0, 'rating_name': 'PG-13', 'disc_format_name': 'Blu-ray', 'number_discs': 1, 'viewing_format_name': 'Widescreen', 'aspect_ratio_name': '2.39:1', 'status': 1, 'release_date': 'February 16, 2018', 'budget': 'tbd', 'gross': 'tbd', 'time_stamp': '2018-01-09'}, 'Avengers: Infinity War': {'movie_id': 19, 'title': 'Avengers: Infinity War', 'phase': 'Phase Three', 'category_name': 'Science Fiction', 'release_year': 2018, 'running_time': 0, 'rating_name': 'PG-13', 'disc_format_name': 'Blu-ray', 'number_discs': 1, 'viewing_format_name': 'Widescreen', 'aspect_ratio_name': '2.39:1', 'status': 1, 'release_date': 'May 4, 2018', 'budget': 'tbd', 'gross': 'tbd', 'time_stamp': '2018-01-09'}, 'Ant-Man and the Wasp': {'movie_id': 20, 'title': 'Ant-Man and the Wasp', 'phase': 'Phase Three', 'category_name': 'Science Fiction', 'release_year': 2018, 'running_time': 0, 'rating_name': 'PG-13', 'disc_format_name': 'Blu-ray', 'number_discs': 1, 'viewing_format_name': 'Widescreen', 'aspect_ratio_name': '2.39:1', 'status': 1, 'release_date': 'July 6, 2018', 'budget': 'tbd', 'gross': 'tbd', 'time_stamp': '2018-01-09'}}}\n"
          ]
        }
      ]
    },
    {
      "cell_type": "code",
      "source": [
        "# differences between load and loads:\n",
        "\n",
        "# load --> Should be used when you read a binary file or a buffer of data\n",
        "# loads --> should be used when you read a string"
      ],
      "metadata": {
        "id": "iah8oSNt5KqO"
      },
      "execution_count": null,
      "outputs": []
    },
    {
      "cell_type": "code",
      "source": [
        "# let's print the keys of the data\n",
        "\n",
        "print(data.keys())"
      ],
      "metadata": {
        "id": "W1zFaNht7IGg",
        "colab": {
          "base_uri": "https://localhost:8080/"
        },
        "outputId": "1258d79e-9367-49f2-db6f-dcf630f34e8d"
      },
      "execution_count": 12,
      "outputs": [
        {
          "output_type": "stream",
          "name": "stdout",
          "text": [
            "dict_keys(['Marvel Cinematic Universe'])\n"
          ]
        }
      ]
    },
    {
      "cell_type": "code",
      "source": [
        "# let's print the available movies\n",
        "\n",
        "marvel_data = data['Marvel Cinematic Universe']\n",
        "print(marvel_data.keys())"
      ],
      "metadata": {
        "id": "z2iNaRX-7Qdl",
        "colab": {
          "base_uri": "https://localhost:8080/"
        },
        "outputId": "eb58860f-5fa1-4a7c-9b76-c34dedcd4236"
      },
      "execution_count": 13,
      "outputs": [
        {
          "output_type": "stream",
          "name": "stdout",
          "text": [
            "dict_keys(['Iron Man', 'The Incredible Hulk', 'Iron Man 2', 'Thor', 'Captain America: The First Avenger', \"Marvel's The Avengers\", 'Iron Man 3', 'Thor: The Dark World', 'Captain America: The Winter Soldier', 'Guardians of the Galaxy', 'Avengers: Age of Ultron', 'Ant-Man', 'Captain America: Civil War', 'Doctor Strange', 'Guardians of the Galaxy Vol. 2', 'Spider-Man: Homecoming', 'Thor: Ragnarok', 'Black Panther', 'Avengers: Infinity War', 'Ant-Man and the Wasp'])\n"
          ]
        }
      ]
    },
    {
      "cell_type": "code",
      "source": [
        "print(marvel_data[\"Iron Man\"])"
      ],
      "metadata": {
        "colab": {
          "base_uri": "https://localhost:8080/"
        },
        "id": "X3Ex6doJ5AA7",
        "outputId": "f59068a0-0265-40cc-e735-332b1729284e"
      },
      "execution_count": 18,
      "outputs": [
        {
          "output_type": "stream",
          "name": "stdout",
          "text": [
            "{'movie_id': 1, 'title': 'Iron Man', 'phase': 'Phase One: Avengers Assembled', 'category_name': 'Action', 'release_year': 2015, 'running_time': 126, 'rating_name': 'PG-13', 'disc_format_name': 'Blu-ray', 'number_discs': 1, 'viewing_format_name': 'Widescreen', 'aspect_ratio_name': '2.35:1', 'status': 1, 'release_date': 'May 2, 2008', 'budget': '140,000,000', 'gross': '318,298,180', 'time_stamp': '2015-05-03'}\n"
          ]
        }
      ]
    },
    {
      "cell_type": "code",
      "source": [
        "# Print the movie's title and the release year of every available movie following the format below:\n",
        "# <movie_name_1> , <year>\n",
        "# ...\n",
        "# <movie_name_n> , <year>\n",
        "# Iron Man , 2015\n",
        "\n",
        "def print_title_and_year(movies_data):\n",
        "    for value in movies_data.values():\n",
        "        movie_name = value[\"title\"]\n",
        "        year = value[\"release_year\"]\n",
        "        print(movie_name + \" , \" + str(year))\n",
        "\n",
        "print_title_and_year(marvel_data)"
      ],
      "metadata": {
        "id": "GOO5fOll7cT2",
        "colab": {
          "base_uri": "https://localhost:8080/"
        },
        "outputId": "75e29b71-23ce-4b58-d70a-89b9f632f484"
      },
      "execution_count": 16,
      "outputs": [
        {
          "output_type": "stream",
          "name": "stdout",
          "text": [
            "Iron Man , 2015\n",
            "The Incredible Hulk , 2008\n",
            "Iron Man 2 , 2015\n",
            "Thor , 2011\n",
            "Captain America , 2011\n",
            "Avengers, The , 2012\n",
            "Iron Man 3 , 2015\n",
            "Thor: The Dark World , 2013\n",
            "Captain America: The Winter Soldier , 2014\n",
            "Guardians of the Galaxy , 2014\n",
            "Avengers: Age of Ultron , 2015\n",
            "Ant-Man , 2015\n",
            "Captain America: Civil War , 2016\n",
            "Doctor Strange , 2016\n",
            "Guardians of the Galaxy Vol. 2 , 2017\n",
            "Spider-Man: Homecoming , 2017\n",
            "Thor: Ragnarok , 2017\n",
            "Black Panther , 2018\n",
            "Avengers: Infinity War , 2018\n",
            "Ant-Man and the Wasp , 2018\n"
          ]
        }
      ]
    },
    {
      "cell_type": "code",
      "source": [
        "my_dict = {\"name\": \"jose\"}\n",
        "print(my_dict[\"name\"])"
      ],
      "metadata": {
        "colab": {
          "base_uri": "https://localhost:8080/"
        },
        "id": "K6ku-UpK9yHv",
        "outputId": "e371a928-8991-4841-8712-6185d10cf251"
      },
      "execution_count": 20,
      "outputs": [
        {
          "output_type": "stream",
          "name": "stdout",
          "text": [
            "jose\n"
          ]
        }
      ]
    },
    {
      "cell_type": "code",
      "source": [
        "# Extract the 3 movies with the highest budget. You should print the movie name and budget as follows:\n",
        "# <movie_name_1>: <budget>\n",
        "# <movie_name_2>: <budget>\n",
        "# <movie_name_3>: <budget>\n",
        "\n",
        "# There is not need to sort the movies by budget\n",
        "# Note: Some budgets have the value 'tbd' in the DB, do not use them\n",
        "\n",
        "\n"
      ],
      "metadata": {
        "id": "osrola6c9z3R"
      },
      "execution_count": null,
      "outputs": []
    },
    {
      "cell_type": "code",
      "source": [
        "# Save to a file: dump\n",
        "\n",
        "data = [\n",
        "        {\"name\": \"jose\", \"surname\": \"garcia\"}, \n",
        "        {\"name\": \"carolina\", \"surname\": \"martinez\"}\n",
        "]\n",
        "\n",
        "with open(\"data_names.json\", \"w\") as f:\n",
        "    json.dump(data, f)"
      ],
      "metadata": {
        "id": "mAaArpFeFD5t"
      },
      "execution_count": 23,
      "outputs": []
    },
    {
      "cell_type": "code",
      "source": [
        "with open(\"data_names.json\", \"r\") as f:\n",
        "    print(f.read())"
      ],
      "metadata": {
        "id": "eI3RNu-kFths",
        "colab": {
          "base_uri": "https://localhost:8080/"
        },
        "outputId": "cffd7080-06da-4264-ab29-1e9b0ab20508"
      },
      "execution_count": 24,
      "outputs": [
        {
          "output_type": "stream",
          "name": "stdout",
          "text": [
            "[{\"name\": \"jose\", \"surname\": \"garcia\"}, {\"name\": \"carolina\", \"surname\": \"martinez\"}]\n"
          ]
        }
      ]
    },
    {
      "cell_type": "code",
      "source": [
        "# save the result of the movies with the highest budget to a file"
      ],
      "metadata": {
        "id": "I532V8KhF0hf"
      },
      "execution_count": null,
      "outputs": []
    }
  ]
}