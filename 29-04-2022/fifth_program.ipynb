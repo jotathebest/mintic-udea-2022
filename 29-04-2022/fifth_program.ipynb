{
  "nbformat": 4,
  "nbformat_minor": 0,
  "metadata": {
    "colab": {
      "name": "fifth_program.ipynb",
      "provenance": []
    },
    "kernelspec": {
      "name": "python3",
      "display_name": "Python 3"
    },
    "language_info": {
      "name": "python"
    }
  },
  "cells": [
    {
      "cell_type": "code",
      "execution_count": 2,
      "metadata": {
        "colab": {
          "base_uri": "https://localhost:8080/"
        },
        "id": "PyLzBRPBzQWK",
        "outputId": "270281b2-06fe-46dd-ce3c-b0dde6d6b4d2"
      },
      "outputs": [
        {
          "output_type": "stream",
          "name": "stdout",
          "text": [
            "[1, 2]\n",
            "[1, 2, 5]\n"
          ]
        }
      ],
      "source": [
        "my_list = [1, 2]\n",
        "print(my_list)\n",
        "my_list.append(5)\n",
        "print(my_list)"
      ]
    },
    {
      "cell_type": "code",
      "source": [
        "my_list_2 = []\n",
        "print(my_list_2)\n",
        "x = float(input(\"Agregue dato x:\"))\n",
        "my_list_2.append(x)\n",
        "y = float(input(\"Agregue dato y:\"))\n",
        "my_list_2.append(y)\n",
        "\n",
        "print(my_list_2)\n",
        "result = sum(my_list_2)\n",
        "print(result)"
      ],
      "metadata": {
        "colab": {
          "base_uri": "https://localhost:8080/"
        },
        "id": "rQd0DYVPzhWF",
        "outputId": "309b3106-acb7-4b7c-be3c-eea7236c4a41"
      },
      "execution_count": 5,
      "outputs": [
        {
          "output_type": "stream",
          "name": "stdout",
          "text": [
            "[]\n",
            "Agregue dato x:2\n",
            "Agregue dato y:3\n",
            "[2.0, 3.0]\n",
            "5.0\n"
          ]
        }
      ]
    },
    {
      "cell_type": "code",
      "source": [
        ""
      ],
      "metadata": {
        "id": "DhIpdnGc0u5L"
      },
      "execution_count": null,
      "outputs": []
    }
  ]
}