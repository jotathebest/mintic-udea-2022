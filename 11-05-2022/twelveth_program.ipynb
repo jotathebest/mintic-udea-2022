{
  "nbformat": 4,
  "nbformat_minor": 0,
  "metadata": {
    "colab": {
      "name": "twelveth_program.ipynb",
      "provenance": [],
      "collapsed_sections": []
    },
    "kernelspec": {
      "name": "python3",
      "display_name": "Python 3"
    },
    "language_info": {
      "name": "python"
    }
  },
  "cells": [
    {
      "cell_type": "code",
      "execution_count": 1,
      "metadata": {
        "colab": {
          "base_uri": "https://localhost:8080/",
          "height": 235
        },
        "id": "E6MPthVloUxM",
        "outputId": "d1407e73-a6ff-474e-d470-560154d5fa3f"
      },
      "outputs": [
        {
          "output_type": "error",
          "ename": "NameError",
          "evalue": "ignored",
          "traceback": [
            "\u001b[0;31m---------------------------------------------------------------------------\u001b[0m",
            "\u001b[0;31mNameError\u001b[0m                                 Traceback (most recent call last)",
            "\u001b[0;32m<ipython-input-1-1d5c03216787>\u001b[0m in \u001b[0;36m<module>\u001b[0;34m()\u001b[0m\n\u001b[1;32m      1\u001b[0m \u001b[0;34m\u001b[0m\u001b[0m\n\u001b[1;32m      2\u001b[0m \u001b[0;34m\u001b[0m\u001b[0m\n\u001b[0;32m----> 3\u001b[0;31m \u001b[0mresult\u001b[0m \u001b[0;34m=\u001b[0m \u001b[0mmath\u001b[0m\u001b[0;34m.\u001b[0m\u001b[0msqrt\u001b[0m\u001b[0;34m(\u001b[0m\u001b[0;36m4\u001b[0m\u001b[0;34m)\u001b[0m\u001b[0;34m\u001b[0m\u001b[0;34m\u001b[0m\u001b[0m\n\u001b[0m\u001b[1;32m      4\u001b[0m \u001b[0mprint\u001b[0m\u001b[0;34m(\u001b[0m\u001b[0mresult\u001b[0m\u001b[0;34m)\u001b[0m\u001b[0;34m\u001b[0m\u001b[0;34m\u001b[0m\u001b[0m\n\u001b[1;32m      5\u001b[0m \u001b[0;34m\u001b[0m\u001b[0m\n",
            "\u001b[0;31mNameError\u001b[0m: name 'math' is not defined"
          ]
        }
      ],
      "source": [
        "import math\n",
        "\n",
        "result = math.sqrt(4)\n",
        "print(result)\n",
        "\n",
        "cosine = math.cos(1)\n",
        "print(cosine)"
      ]
    },
    {
      "cell_type": "code",
      "source": [
        "print(math.pi)"
      ],
      "metadata": {
        "colab": {
          "base_uri": "https://localhost:8080/"
        },
        "id": "WwlNb78iptgn",
        "outputId": "d15bfe95-c0b0-4d49-803b-957ae4358338"
      },
      "execution_count": 6,
      "outputs": [
        {
          "output_type": "stream",
          "name": "stdout",
          "text": [
            "3.141592653589793\n"
          ]
        }
      ]
    },
    {
      "cell_type": "code",
      "source": [
        "from math import cos, sin\n",
        "\n",
        "print(cos(1))\n",
        "\n",
        "print(math.sqrt(4))"
      ],
      "metadata": {
        "colab": {
          "base_uri": "https://localhost:8080/",
          "height": 218
        },
        "id": "yOrW-ea0rBoD",
        "outputId": "f77acbda-a854-4dd3-ac4b-c581a2f1d0e1"
      },
      "execution_count": 2,
      "outputs": [
        {
          "output_type": "stream",
          "name": "stdout",
          "text": [
            "0.5403023058681398\n"
          ]
        },
        {
          "output_type": "error",
          "ename": "NameError",
          "evalue": "ignored",
          "traceback": [
            "\u001b[0;31m---------------------------------------------------------------------------\u001b[0m",
            "\u001b[0;31mNameError\u001b[0m                                 Traceback (most recent call last)",
            "\u001b[0;32m<ipython-input-2-01520ccbd339>\u001b[0m in \u001b[0;36m<module>\u001b[0;34m()\u001b[0m\n\u001b[1;32m      3\u001b[0m \u001b[0mprint\u001b[0m\u001b[0;34m(\u001b[0m\u001b[0mcos\u001b[0m\u001b[0;34m(\u001b[0m\u001b[0;36m1\u001b[0m\u001b[0;34m)\u001b[0m\u001b[0;34m)\u001b[0m\u001b[0;34m\u001b[0m\u001b[0;34m\u001b[0m\u001b[0m\n\u001b[1;32m      4\u001b[0m \u001b[0;34m\u001b[0m\u001b[0m\n\u001b[0;32m----> 5\u001b[0;31m \u001b[0mprint\u001b[0m\u001b[0;34m(\u001b[0m\u001b[0mmath\u001b[0m\u001b[0;34m.\u001b[0m\u001b[0msqrt\u001b[0m\u001b[0;34m(\u001b[0m\u001b[0;36m4\u001b[0m\u001b[0;34m)\u001b[0m\u001b[0;34m)\u001b[0m\u001b[0;34m\u001b[0m\u001b[0;34m\u001b[0m\u001b[0m\n\u001b[0m",
            "\u001b[0;31mNameError\u001b[0m: name 'math' is not defined"
          ]
        }
      ]
    },
    {
      "cell_type": "code",
      "source": [
        "from math import sqrt as raiz_cuadrada\n",
        "\n",
        "result = raiz_cuadrada(4)\n",
        "\n",
        "print(result)"
      ],
      "metadata": {
        "colab": {
          "base_uri": "https://localhost:8080/"
        },
        "id": "RRKtSLA5r-_K",
        "outputId": "1a698050-2a45-4e0c-81c9-395878d6ea7c"
      },
      "execution_count": 3,
      "outputs": [
        {
          "output_type": "stream",
          "name": "stdout",
          "text": [
            "2.0\n"
          ]
        }
      ]
    },
    {
      "cell_type": "code",
      "source": [
        "import math as matematica\n",
        "\n",
        "print(matematica.cos(1))"
      ],
      "metadata": {
        "colab": {
          "base_uri": "https://localhost:8080/"
        },
        "id": "OPe3z5IfsmOX",
        "outputId": "c327aec4-c863-4526-fc8a-09744a7d6e92"
      },
      "execution_count": 4,
      "outputs": [
        {
          "output_type": "stream",
          "name": "stdout",
          "text": [
            "0.5403023058681398\n"
          ]
        }
      ]
    },
    {
      "cell_type": "code",
      "source": [
        "my_dict = {}\n",
        "print(my_dict)\n",
        "\n",
        "my_dict[\"name\"] = \"jose\"\n",
        "print(my_dict)\n",
        "\n",
        "my_dict[\"name\"] = \"Sebastian\"\n",
        "print(my_dict)"
      ],
      "metadata": {
        "colab": {
          "base_uri": "https://localhost:8080/"
        },
        "id": "YVe6Gf4RtOvC",
        "outputId": "360e5ee2-66b0-4c98-a37b-08f64870f4cb"
      },
      "execution_count": 6,
      "outputs": [
        {
          "output_type": "stream",
          "name": "stdout",
          "text": [
            "{}\n",
            "{'name': 'jose'}\n",
            "{'name': 'Sebastian'}\n"
          ]
        }
      ]
    },
    {
      "cell_type": "code",
      "source": [
        "my_dict = {\"name\": \"Jose\", \"name\": \"Sebastian\"}\n",
        "print(my_dict)"
      ],
      "metadata": {
        "colab": {
          "base_uri": "https://localhost:8080/"
        },
        "id": "UIIfeGUoumEb",
        "outputId": "ac59c7f3-d5c9-47cb-a429-49a6c8dbb6be"
      },
      "execution_count": 7,
      "outputs": [
        {
          "output_type": "stream",
          "name": "stdout",
          "text": [
            "{'name': 'Sebastian'}\n"
          ]
        }
      ]
    },
    {
      "cell_type": "code",
      "source": [
        "my_dict = {\"names\": [\"Jose\", \"Sebastian\"]}\n",
        "print(my_dict[\"names\"])"
      ],
      "metadata": {
        "colab": {
          "base_uri": "https://localhost:8080/"
        },
        "id": "1yHcrtmVu4gA",
        "outputId": "c00208b3-1404-4bea-8e89-a81bbd660d64"
      },
      "execution_count": 8,
      "outputs": [
        {
          "output_type": "stream",
          "name": "stdout",
          "text": [
            "['Jose', 'Sebastian']\n"
          ]
        }
      ]
    },
    {
      "cell_type": "code",
      "source": [
        "my_dict = {\"names\": []}\n",
        "while True:\n",
        "    nombre = input(\"insert a name: \")\n",
        "    names = my_dict[\"names\"]\n",
        "    names.append(nombre)\n",
        "    my_dict[\"names\"] = names\n",
        "\n",
        "    seguir = input(\"Quieres seguir? S/N\")\n",
        "    if seguir == \"N\":\n",
        "        break\n",
        "\n",
        "print(my_dict)"
      ],
      "metadata": {
        "colab": {
          "base_uri": "https://localhost:8080/"
        },
        "id": "Drm0STwjvVRO",
        "outputId": "b4689bff-5be1-4adf-8580-7b65b7135d0a"
      },
      "execution_count": 10,
      "outputs": [
        {
          "output_type": "stream",
          "name": "stdout",
          "text": [
            "insert a name: Jose\n",
            "Quieres seguir? S/NS\n",
            "insert a name: Sebastian\n",
            "Quieres seguir? S/NN\n",
            "{'names': ['Jose', 'Sebastian']}\n"
          ]
        }
      ]
    },
    {
      "cell_type": "code",
      "source": [
        "import math\n",
        "raiz_cuadrada = math.sqrt(4)\n",
        "\n",
        "my_dict = {}\n",
        "print(my_dict)\n",
        "\n",
        "my_dict[\"name\"] = \"jose\"\n",
        "print(my_dict)"
      ],
      "metadata": {
        "id": "ZGDKBrZQw8g_"
      },
      "execution_count": null,
      "outputs": []
    },
    {
      "cell_type": "code",
      "source": [
        "# N --> input\n",
        "# 1 to N\n",
        "\n",
        "# N = 3\n",
        "# 1, 2, 3\n",
        "# 1, 1.41, 1.73\n",
        "\n",
        "# {1: 1, 2: 1.41, 3: 1.73}\n",
        "\n",
        "import math\n",
        "\n",
        "from math import sqrt as raiz_cuadrada\n",
        "\n",
        "my_dict = {}\n",
        "N = int(input(\"Insert the upper limit: \"))\n",
        "\n",
        "for number in range(1, N + 1):\n",
        "    square = math.sqrt(number)\n",
        "    my_dict[number] = square\n",
        "\n",
        "print(my_dict)\n",
        "print(my_dict[5])"
      ],
      "metadata": {
        "colab": {
          "base_uri": "https://localhost:8080/"
        },
        "id": "qU8p3GEatKcQ",
        "outputId": "1049603e-dd73-4c4c-b1bc-77c099f20914"
      },
      "execution_count": 14,
      "outputs": [
        {
          "output_type": "stream",
          "name": "stdout",
          "text": [
            "Insert the upper limit: 10\n",
            "{1: 1.0, 2: 1.4142135623730951, 3: 1.7320508075688772, 4: 2.0, 5: 2.23606797749979, 6: 2.449489742783178, 7: 2.6457513110645907, 8: 2.8284271247461903, 9: 3.0, 10: 3.1622776601683795}\n",
            "2.23606797749979\n"
          ]
        }
      ]
    }
  ]
}