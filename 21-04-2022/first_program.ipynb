{
  "nbformat": 4,
  "nbformat_minor": 0,
  "metadata": {
    "colab": {
      "name": "first_program.ipynb",
      "provenance": []
    },
    "kernelspec": {
      "name": "python3",
      "display_name": "Python 3"
    },
    "language_info": {
      "name": "python"
    }
  },
  "cells": [
    {
      "cell_type": "markdown",
      "source": [
        "# My first Python Program"
      ],
      "metadata": {
        "id": "idyPkRIjk7YH"
      }
    },
    {
      "cell_type": "code",
      "execution_count": null,
      "metadata": {
        "colab": {
          "base_uri": "https://localhost:8080/"
        },
        "id": "Sy56OaT4krL9",
        "outputId": "8431469b-1ec7-4491-feee-bb56b80639d1"
      },
      "outputs": [
        {
          "output_type": "stream",
          "name": "stdout",
          "text": [
            "Hello World\n",
            "Other text\n"
          ]
        }
      ],
      "source": [
        "print(\"Hello World\")\n",
        "print(\"Other text\")"
      ]
    },
    {
      "cell_type": "code",
      "source": [
        "print(\"Hello\" * 5)\n",
        "print(\"Hello\")"
      ],
      "metadata": {
        "colab": {
          "base_uri": "https://localhost:8080/"
        },
        "id": "s29AuldUk55w",
        "outputId": "5ce083b7-893a-40e1-af6a-c5ae4309d148"
      },
      "execution_count": null,
      "outputs": [
        {
          "output_type": "stream",
          "name": "stdout",
          "text": [
            "HelloHelloHelloHelloHello\n",
            "Hello\n"
          ]
        }
      ]
    },
    {
      "cell_type": "code",
      "source": [
        "print(\"Hello\\n\" * 5)\n"
      ],
      "metadata": {
        "colab": {
          "base_uri": "https://localhost:8080/"
        },
        "id": "6gdXM6eHoDL1",
        "outputId": "958bf006-f934-4aeb-a62c-370dec861e68"
      },
      "execution_count": null,
      "outputs": [
        {
          "output_type": "stream",
          "name": "stdout",
          "text": [
            "Hello\n",
            "Hello\n",
            "Hello\n",
            "Hello\n",
            "Hello\n",
            "\n"
          ]
        }
      ]
    },
    {
      "cell_type": "code",
      "source": [
        "print(\"Hello \" + \"World\")"
      ],
      "metadata": {
        "id": "006YMVwVo5wg",
        "outputId": "9af00893-923c-42ac-87f5-65be80f7a310",
        "colab": {
          "base_uri": "https://localhost:8080/"
        }
      },
      "execution_count": null,
      "outputs": [
        {
          "output_type": "stream",
          "name": "stdout",
          "text": [
            "Hello World\n"
          ]
        }
      ]
    },
    {
      "cell_type": "code",
      "source": [
        "print(\"*\")\n",
        "print(\"**\")\n",
        "print(\"***\")\n",
        "print(\"****\")\n",
        "print(\"*****\")\n",
        "print(\"******\")"
      ],
      "metadata": {
        "colab": {
          "base_uri": "https://localhost:8080/"
        },
        "id": "51CL06Dsod8Q",
        "outputId": "c103cb7f-f62d-46b7-d492-7873e83c31ca"
      },
      "execution_count": null,
      "outputs": [
        {
          "output_type": "stream",
          "name": "stdout",
          "text": [
            "*\n",
            "**\n",
            "***\n",
            "****\n",
            "*****\n",
            "******\n"
          ]
        }
      ]
    },
    {
      "cell_type": "code",
      "source": [
        "help(print)"
      ],
      "metadata": {
        "colab": {
          "base_uri": "https://localhost:8080/"
        },
        "id": "E1eMASWrj43c",
        "outputId": "f333f729-f453-4311-b957-ff27d51d07b8"
      },
      "execution_count": 1,
      "outputs": [
        {
          "output_type": "stream",
          "name": "stdout",
          "text": [
            "Help on built-in function print in module builtins:\n",
            "\n",
            "print(...)\n",
            "    print(value, ..., sep=' ', end='\\n', file=sys.stdout, flush=False)\n",
            "    \n",
            "    Prints the values to a stream, or to sys.stdout by default.\n",
            "    Optional keyword arguments:\n",
            "    file:  a file-like object (stream); defaults to the current sys.stdout.\n",
            "    sep:   string inserted between values, default a space.\n",
            "    end:   string appended after the last value, default a newline.\n",
            "    flush: whether to forcibly flush the stream.\n",
            "\n"
          ]
        }
      ]
    },
    {
      "cell_type": "code",
      "source": [
        "print(\"Jose\",\"Garcia\",\"Delgado\")\n",
        "print(\"*\",\"**\",\"***\")\n",
        "print(\"Jose\",\"Garcia\",\"Delgado\", sep='8')"
      ],
      "metadata": {
        "colab": {
          "base_uri": "https://localhost:8080/"
        },
        "id": "pX0XvE7Qkifs",
        "outputId": "1d244a70-5c1d-415e-a343-9b6d89de3a4f"
      },
      "execution_count": 13,
      "outputs": [
        {
          "output_type": "stream",
          "name": "stdout",
          "text": [
            "Jose Garcia Delgado\n",
            "* ** ***\n",
            "Jose8Garcia8Delgado\n"
          ]
        }
      ]
    },
    {
      "cell_type": "code",
      "source": [
        "mi_variable = \"Jose\" + \"Garcia\"\n",
        "print(mi_variable)"
      ],
      "metadata": {
        "colab": {
          "base_uri": "https://localhost:8080/"
        },
        "id": "GZp8nrfWlooI",
        "outputId": "adc2d72d-bfcf-46e6-fc21-b5772784a23e"
      },
      "execution_count": 10,
      "outputs": [
        {
          "output_type": "stream",
          "name": "stdout",
          "text": [
            "JoseGarcia\n"
          ]
        }
      ]
    },
    {
      "cell_type": "code",
      "source": [
        "print(\"Hello\"*5 )\n",
        "print(\"Hello \"*5, sep=\"890356156\" )\n",
        "print(\"Hello\", \"Hello\" , sep=\"   \")"
      ],
      "metadata": {
        "colab": {
          "base_uri": "https://localhost:8080/"
        },
        "id": "r-pu8nzlnprH",
        "outputId": "6a07c753-4865-4e63-af6f-38336950f28d"
      },
      "execution_count": 20,
      "outputs": [
        {
          "output_type": "stream",
          "name": "stdout",
          "text": [
            "HelloHelloHelloHelloHello\n",
            "Hello Hello Hello Hello Hello \n",
            "Hello   Hello\n"
          ]
        }
      ]
    },
    {
      "cell_type": "code",
      "source": [
        "print(\"Jose\", \"Garcia\", end=\" \")\n",
        "print(\"Delgado\")\n",
        "print(\"Hello\")\n",
        "\n",
        "# Jose Garcia Delgado\\n"
      ],
      "metadata": {
        "colab": {
          "base_uri": "https://localhost:8080/"
        },
        "id": "bNzcEcPwo04d",
        "outputId": "eab12f21-97d8-4cb3-aa96-364e8535ad88"
      },
      "execution_count": 33,
      "outputs": [
        {
          "output_type": "stream",
          "name": "stdout",
          "text": [
            "Jose Garcia Delgado\n",
            "Hello\n"
          ]
        }
      ]
    },
    {
      "cell_type": "code",
      "source": [
        "help(print)"
      ],
      "metadata": {
        "colab": {
          "base_uri": "https://localhost:8080/"
        },
        "id": "EhWJS9aerznt",
        "outputId": "2e9ca1e3-ecdc-482c-d09d-134724ca741f"
      },
      "execution_count": 27,
      "outputs": [
        {
          "output_type": "stream",
          "name": "stdout",
          "text": [
            "Help on built-in function print in module builtins:\n",
            "\n",
            "print(...)\n",
            "    print(value, ..., sep=' ', end='\\n', file=sys.stdout, flush=False)\n",
            "    \n",
            "    Prints the values to a stream, or to sys.stdout by default.\n",
            "    Optional keyword arguments:\n",
            "    file:  a file-like object (stream); defaults to the current sys.stdout.\n",
            "    sep:   string inserted between values, default a space.\n",
            "    end:   string appended after the last value, default a newline.\n",
            "    flush: whether to forcibly flush the stream.\n",
            "\n"
          ]
        }
      ]
    },
    {
      "cell_type": "code",
      "source": [
        "print(\"*\", \"**\", \"***\", \"****\", \"*****\", \"******\", sep=\"\\n\")"
      ],
      "metadata": {
        "colab": {
          "base_uri": "https://localhost:8080/"
        },
        "id": "3-wX0wKqp5iM",
        "outputId": "8892c76e-5ccb-4e8f-ce05-fea2daddba36"
      },
      "execution_count": 25,
      "outputs": [
        {
          "output_type": "stream",
          "name": "stdout",
          "text": [
            "*\n",
            "**\n",
            "***\n",
            "****\n",
            "*****\n",
            "******\n"
          ]
        }
      ]
    },
    {
      "cell_type": "code",
      "source": [
        "print(\"Jose\", \"Garcia\", \"Delgado\", sep=\"8\", end=\"9\")"
      ],
      "metadata": {
        "colab": {
          "base_uri": "https://localhost:8080/"
        },
        "id": "f6vrytbArMSn",
        "outputId": "94e3ea85-5659-40e2-ffd6-d43383bb32f9"
      },
      "execution_count": 26,
      "outputs": [
        {
          "output_type": "stream",
          "name": "stdout",
          "text": [
            "Jose8Garcia8Delgado9"
          ]
        }
      ]
    },
    {
      "cell_type": "code",
      "source": [
        "print(\"Jose\", \"Garcia\", \"teacher\", sep=\",\", end=\" \")\n",
        "print(\"Delgado\")\n",
        "print(\"Hello\")"
      ],
      "metadata": {
        "colab": {
          "base_uri": "https://localhost:8080/"
        },
        "id": "Wo7VWh3xspzb",
        "outputId": "8d0649d8-62b3-4a69-d4bb-42f16824231e"
      },
      "execution_count": 43,
      "outputs": [
        {
          "output_type": "stream",
          "name": "stdout",
          "text": [
            "Jose,Garcia,teacher Delgado\n",
            "Hello\n"
          ]
        }
      ]
    },
    {
      "cell_type": "code",
      "source": [
        "print(\"Jose\", \"Garcia\\n\", sep=\",\", end=\" \")\n",
        "print(\"Delgado\")\n",
        "print(\"Hello\")\n",
        "\n",
        "# Jose,Garcia\n",
        "#  Delgado"
      ],
      "metadata": {
        "colab": {
          "base_uri": "https://localhost:8080/"
        },
        "id": "2vNf8I2Mukrr",
        "outputId": "8e885e0f-339b-4ef9-b443-9c02de01e699"
      },
      "execution_count": 45,
      "outputs": [
        {
          "output_type": "stream",
          "name": "stdout",
          "text": [
            "Jose,Garcia\n",
            "pepitoDelgado\n",
            "Hello\n"
          ]
        }
      ]
    },
    {
      "cell_type": "code",
      "source": [
        "print(\"Jose\", \"Garcia\\n\", end=\"--\", sep=\",\")\n",
        "print(\"Delgado\")\n",
        "print(\"Hello\")"
      ],
      "metadata": {
        "colab": {
          "base_uri": "https://localhost:8080/"
        },
        "id": "1HtFM1uOvL1w",
        "outputId": "f018c967-0904-4f2a-b512-81233f3ca30f"
      },
      "execution_count": 49,
      "outputs": [
        {
          "output_type": "stream",
          "name": "stdout",
          "text": [
            "Jose,Garcia\n",
            "--Delgado\n",
            "Hello\n"
          ]
        }
      ]
    },
    {
      "cell_type": "code",
      "source": [
        "help(print)"
      ],
      "metadata": {
        "colab": {
          "base_uri": "https://localhost:8080/"
        },
        "id": "PQoxQa_AvfGp",
        "outputId": "0b508fd1-f37b-46b3-d890-655e48b7bc6f"
      },
      "execution_count": 47,
      "outputs": [
        {
          "output_type": "stream",
          "name": "stdout",
          "text": [
            "Help on built-in function print in module builtins:\n",
            "\n",
            "print(...)\n",
            "    print(value, ..., sep=' ', end='\\n', file=sys.stdout, flush=False)\n",
            "    \n",
            "    Prints the values to a stream, or to sys.stdout by default.\n",
            "    Optional keyword arguments:\n",
            "    file:  a file-like object (stream); defaults to the current sys.stdout.\n",
            "    sep:   string inserted between values, default a space.\n",
            "    end:   string appended after the last value, default a newline.\n",
            "    flush: whether to forcibly flush the stream.\n",
            "\n"
          ]
        }
      ]
    },
    {
      "cell_type": "code",
      "source": [
        "print(\"_|___|___|___|___|___|___|___|___|___|___|___|___|___|___|___|___|___|\")\n",
        "print(\"___|___|___|___|___|___|___|___|___|___|___|___|___|___|___|___|___|__\")"
      ],
      "metadata": {
        "colab": {
          "base_uri": "https://localhost:8080/"
        },
        "id": "mKfzGGdExbP3",
        "outputId": "80cdae98-a717-4aef-f8ba-c3834235dae6"
      },
      "execution_count": 50,
      "outputs": [
        {
          "output_type": "stream",
          "name": "stdout",
          "text": [
            "_|___|___|___|___|___|___|___|___|___|___|___|___|___|___|___|___|___|\n",
            "___|___|___|___|___|___|___|___|___|___|___|___|___|___|___|___|___|__\n"
          ]
        }
      ]
    },
    {
      "cell_type": "code",
      "source": [
        "print(\"_\", end=\"|\")\n",
        "print(\"_\" * 3, end=\"|\")\n",
        "print(\"_\" * 3, end=\"|\")\n",
        "print(\"_\" * 3, end=\"|\")\n",
        "print(\"_\" * 3, end=\"|\")\n",
        "print(\"_\" * 3, end=\"|\")\n",
        "print(\"_\" * 3, end=\"|\")"
      ],
      "metadata": {
        "colab": {
          "base_uri": "https://localhost:8080/"
        },
        "id": "KtAclEPkxjEM",
        "outputId": "6e26a8ca-b00f-4f20-ef40-d8ea9044c580"
      },
      "execution_count": 52,
      "outputs": [
        {
          "output_type": "stream",
          "name": "stdout",
          "text": [
            "_|___|___|___|___|___|___|"
          ]
        }
      ]
    },
    {
      "cell_type": "code",
      "source": [
        "print(\"_\", end=\"|\")\n",
        "print(\"___\", \"___\",\"___\",\"___\",\"___\",\"___\",\"___\",\"___\",\"___\",\"___\",\"___\",\"___\",\"___\",\"___\", sep=\"|\")"
      ],
      "metadata": {
        "colab": {
          "base_uri": "https://localhost:8080/"
        },
        "id": "fO34l5edyBw_",
        "outputId": "4abb04db-1b4b-4984-d81d-783b46d17e28"
      },
      "execution_count": 53,
      "outputs": [
        {
          "output_type": "stream",
          "name": "stdout",
          "text": [
            "_|___|___|___|___|___|___|___|___|___|___|___|___|___|___\n"
          ]
        }
      ]
    }
  ]
}