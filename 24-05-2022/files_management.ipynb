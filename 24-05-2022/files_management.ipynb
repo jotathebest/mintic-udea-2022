{
  "nbformat": 4,
  "nbformat_minor": 0,
  "metadata": {
    "colab": {
      "name": "files_management.ipynb",
      "provenance": [],
      "collapsed_sections": []
    },
    "kernelspec": {
      "name": "python3",
      "display_name": "Python 3"
    },
    "language_info": {
      "name": "python"
    }
  },
  "cells": [
    {
      "cell_type": "code",
      "execution_count": null,
      "metadata": {
        "colab": {
          "base_uri": "https://localhost:8080/"
        },
        "id": "KdXmn-Cf-GP7",
        "outputId": "e6992296-a284-4448-9ddb-da63258e2d5c"
      },
      "outputs": [
        {
          "output_type": "stream",
          "name": "stdout",
          "text": [
            "--2022-05-24 21:28:38--  https://raw.githubusercontent.com/cosmolejo/dataRepo/master/Frankenstein.txt\n",
            "Resolving raw.githubusercontent.com (raw.githubusercontent.com)... 185.199.108.133, 185.199.109.133, 185.199.110.133, ...\n",
            "Connecting to raw.githubusercontent.com (raw.githubusercontent.com)|185.199.108.133|:443... connected.\n",
            "HTTP request sent, awaiting response... 200 OK\n",
            "Length: 2941 (2.9K) [text/plain]\n",
            "Saving to: ‘Frankenstein.txt’\n",
            "\n",
            "Frankenstein.txt    100%[===================>]   2.87K  --.-KB/s    in 0s      \n",
            "\n",
            "2022-05-24 21:28:38 (33.6 MB/s) - ‘Frankenstein.txt’ saved [2941/2941]\n",
            "\n"
          ]
        }
      ],
      "source": [
        "!wget https://raw.githubusercontent.com/cosmolejo/dataRepo/master/Frankenstein.txt"
      ]
    },
    {
      "cell_type": "code",
      "source": [
        "!ls"
      ],
      "metadata": {
        "colab": {
          "base_uri": "https://localhost:8080/"
        },
        "id": "zGzSeZ7J-Ngi",
        "outputId": "871ab86b-11d9-4774-ec56-2e60d669893b"
      },
      "execution_count": null,
      "outputs": [
        {
          "output_type": "stream",
          "name": "stdout",
          "text": [
            "Frankenstein.txt  sample_data\n"
          ]
        }
      ]
    },
    {
      "cell_type": "code",
      "source": [
        "with open(\"Frankenstein.txt\", \"r\") as f:\n",
        "    print(f.read())"
      ],
      "metadata": {
        "colab": {
          "base_uri": "https://localhost:8080/"
        },
        "id": "_HnuUfXf-QYA",
        "outputId": "8cbbc8ba-6c1f-46e7-d2cc-0ceabd21c538"
      },
      "execution_count": null,
      "outputs": [
        {
          "output_type": "stream",
          "name": "stdout",
          "text": [
            "﻿Frankenstein;\n",
            "\n",
            "or, the Modern Prometheus\n",
            "\n",
            "by Mary Wollstonecraft (Godwin) Shelley\n",
            "\n",
            "\n",
            "Chapter 1\n",
            "\n",
            "\n",
            "I am by birth a Genevese, and my family is one of the most\n",
            "distinguished of that republic. My ancestors had been for many years\n",
            "counsellors and syndics, and my father had filled several public\n",
            "situations with honour and reputation. He was respected by all who\n",
            "knew him for his integrity and indefatigable attention to public\n",
            "business. He passed his younger days perpetually occupied by the\n",
            "affairs of his country; a variety of circumstances had prevented his\n",
            "marrying early, nor was it until the decline of life that he became a\n",
            "husband and the father of a family.\n",
            "\n",
            "As the circumstances of his marriage illustrate his character, I cannot\n",
            "refrain from relating them. One of his most intimate friends was a\n",
            "merchant who, from a flourishing state, fell, through numerous\n",
            "mischances, into poverty. This man, whose name was Beaufort, was of a\n",
            "proud and unbending disposition and could not bear to live in poverty\n",
            "and oblivion in the same country where he had formerly been\n",
            "distinguished for his rank and magnificence. Having paid his debts,\n",
            "therefore, in the most honourable manner, he retreated with his\n",
            "daughter to the town of Lucerne, where he lived unknown and in\n",
            "wretchedness. My father loved Beaufort with the truest friendship and\n",
            "was deeply grieved by his retreat in these unfortunate circumstances.\n",
            "He bitterly deplored the false pride which led his friend to a conduct\n",
            "so little worthy of the affection that united them. He lost no time in\n",
            "endeavouring to seek him out, with the hope of persuading him to begin\n",
            "the world again through his credit and assistance.\n",
            "\n",
            "Beaufort had taken effectual measures to conceal himself, and it was ten\n",
            "months before my father discovered his abode. Overjoyed at this discovery,\n",
            "he hastened to the house, which was situated in a mean street near the\n",
            "Reuss. But when he entered, misery and despair alone welcomed him. Beaufort\n",
            "had saved but a very small sum of money from the wreck of his fortunes, but\n",
            "it was sufficient to provide him with sustenance for some months, and in\n",
            "the meantime he hoped to procure some respectable employment in a\n",
            "merchant’s house. The interval was, consequently, spent in inaction;\n",
            "his grief only became more deep and rankling when he had leisure for\n",
            "reflection, and at length it took so fast hold of his mind that at the end\n",
            "of three months he lay on a bed of sickness, incapable of any exertion.\n",
            "\n",
            "His daughter attended him with the greatest tenderness, but she saw\n",
            "with despair that their little fund was rapidly decreasing and that\n",
            "there was no other prospect of support. But Caroline Beaufort\n",
            "possessed a mind of an uncommon mould, and her courage rose to support\n",
            "her in her adversity. She procured plain work; she plaited straw and\n",
            "by various means contrived to earn a pittance scarcely sufficient to\n",
            "support life.\n",
            "\n"
          ]
        }
      ]
    },
    {
      "cell_type": "code",
      "source": [
        "with open(\"Frankenstein.txt\", \"r\", encoding='utf-8-sig') as f:\n",
        "    line = f.readline()\n",
        "    print(line)"
      ],
      "metadata": {
        "colab": {
          "base_uri": "https://localhost:8080/"
        },
        "id": "qtqiwmPr-gLo",
        "outputId": "42ed3864-ff6b-4d36-9b9e-87254de88582"
      },
      "execution_count": null,
      "outputs": [
        {
          "output_type": "stream",
          "name": "stdout",
          "text": [
            "Frankenstein;\n",
            "\n"
          ]
        }
      ]
    },
    {
      "cell_type": "code",
      "source": [
        "with open(\"Frankenstein.txt\", \"r\", encoding='utf-8-sig') as f:\n",
        "    line = f.readline()\n",
        "    print(line)\n",
        "    line = f.readline()\n",
        "    print(line)\n",
        "    line = f.readline()\n",
        "    print(line)"
      ],
      "metadata": {
        "colab": {
          "base_uri": "https://localhost:8080/"
        },
        "id": "euwwoEfbAaH6",
        "outputId": "275614a6-4a2f-4f31-d9da-5922ef456fbc"
      },
      "execution_count": null,
      "outputs": [
        {
          "output_type": "stream",
          "name": "stdout",
          "text": [
            "Frankenstein;\n",
            "\n",
            "\n",
            "\n",
            "or, the Modern Prometheus\n",
            "\n"
          ]
        }
      ]
    },
    {
      "cell_type": "code",
      "source": [
        "with open(\"Frankenstein.txt\", \"r\", encoding='utf-8-sig') as f:\n",
        "    lines = f.readlines()\n",
        "    print(lines)\n",
        "    "
      ],
      "metadata": {
        "colab": {
          "base_uri": "https://localhost:8080/"
        },
        "id": "R_diWRK9AesY",
        "outputId": "45419b77-7d19-4dda-bee5-1b189cf678dc"
      },
      "execution_count": null,
      "outputs": [
        {
          "output_type": "stream",
          "name": "stdout",
          "text": [
            "['Frankenstein;\\n', '\\n', 'or, the Modern Prometheus\\n', '\\n', 'by Mary Wollstonecraft (Godwin) Shelley\\n', '\\n', '\\n', 'Chapter 1\\n', '\\n', '\\n', 'I am by birth a Genevese, and my family is one of the most\\n', 'distinguished of that republic. My ancestors had been for many years\\n', 'counsellors and syndics, and my father had filled several public\\n', 'situations with honour and reputation. He was respected by all who\\n', 'knew him for his integrity and indefatigable attention to public\\n', 'business. He passed his younger days perpetually occupied by the\\n', 'affairs of his country; a variety of circumstances had prevented his\\n', 'marrying early, nor was it until the decline of life that he became a\\n', 'husband and the father of a family.\\n', '\\n', 'As the circumstances of his marriage illustrate his character, I cannot\\n', 'refrain from relating them. One of his most intimate friends was a\\n', 'merchant who, from a flourishing state, fell, through numerous\\n', 'mischances, into poverty. This man, whose name was Beaufort, was of a\\n', 'proud and unbending disposition and could not bear to live in poverty\\n', 'and oblivion in the same country where he had formerly been\\n', 'distinguished for his rank and magnificence. Having paid his debts,\\n', 'therefore, in the most honourable manner, he retreated with his\\n', 'daughter to the town of Lucerne, where he lived unknown and in\\n', 'wretchedness. My father loved Beaufort with the truest friendship and\\n', 'was deeply grieved by his retreat in these unfortunate circumstances.\\n', 'He bitterly deplored the false pride which led his friend to a conduct\\n', 'so little worthy of the affection that united them. He lost no time in\\n', 'endeavouring to seek him out, with the hope of persuading him to begin\\n', 'the world again through his credit and assistance.\\n', '\\n', 'Beaufort had taken effectual measures to conceal himself, and it was ten\\n', 'months before my father discovered his abode. Overjoyed at this discovery,\\n', 'he hastened to the house, which was situated in a mean street near the\\n', 'Reuss. But when he entered, misery and despair alone welcomed him. Beaufort\\n', 'had saved but a very small sum of money from the wreck of his fortunes, but\\n', 'it was sufficient to provide him with sustenance for some months, and in\\n', 'the meantime he hoped to procure some respectable employment in a\\n', 'merchant’s house. The interval was, consequently, spent in inaction;\\n', 'his grief only became more deep and rankling when he had leisure for\\n', 'reflection, and at length it took so fast hold of his mind that at the end\\n', 'of three months he lay on a bed of sickness, incapable of any exertion.\\n', '\\n', 'His daughter attended him with the greatest tenderness, but she saw\\n', 'with despair that their little fund was rapidly decreasing and that\\n', 'there was no other prospect of support. But Caroline Beaufort\\n', 'possessed a mind of an uncommon mould, and her courage rose to support\\n', 'her in her adversity. She procured plain work; she plaited straw and\\n', 'by various means contrived to earn a pittance scarcely sufficient to\\n', 'support life.\\n']\n"
          ]
        }
      ]
    },
    {
      "cell_type": "code",
      "source": [
        "# Write a Python function to read first n lines of the file\n",
        "\n"
      ],
      "metadata": {
        "id": "qTRjSc61Aj9N"
      },
      "execution_count": 1,
      "outputs": []
    },
    {
      "cell_type": "markdown",
      "source": [
        "# Modos\n",
        "\n",
        "<br>\n",
        "<br>\n",
        "\n",
        "|Modo|Comportamiento|\n",
        "|:--:|--------------|\n",
        "|`r`   | abrir un archivo existente para una operación de lectura.|\n",
        "|`w`   | abrir un archivo existente para una operación de escritura. Si el archivo ya contiene algunos datos, se sobre escribirá.|\n",
        "|`a`   | abrir un archivo existente para una operación de adición. No eliminará los datos existentes.|\n",
        "| `r+` |  Para leer y escribir datos en el archivo. Los datos anteriores en el archivo no serán borrados.|\n",
        "|`w+`  | Para escribir y leer datos. Anulará los datos existentes.|\n",
        "|`a+`  |Para añadir y leer datos del archivo. No anulará los datos existentes.|\n",
        "\n",
        "<br>\n",
        "<br>\n"
      ],
      "metadata": {
        "id": "oqp5k5T9BF7F"
      }
    },
    {
      "cell_type": "code",
      "source": [
        "with open(\"test.txt\", \"a+\") as f:\n",
        "    f.write(\"new line\")"
      ],
      "metadata": {
        "id": "la32Vv5bA9g-"
      },
      "execution_count": null,
      "outputs": []
    },
    {
      "cell_type": "code",
      "source": [
        "with open(\"test.txt\", \"r\") as f:\n",
        "    print(f.readlines())"
      ],
      "metadata": {
        "colab": {
          "base_uri": "https://localhost:8080/"
        },
        "id": "ExtXAZL8BFlj",
        "outputId": "106da9e0-8c01-4218-b860-9bbff164cdf4"
      },
      "execution_count": null,
      "outputs": [
        {
          "output_type": "stream",
          "name": "stdout",
          "text": [
            "['new line']\n"
          ]
        }
      ]
    },
    {
      "cell_type": "code",
      "source": [
        "# Write a Python function to append text to a file and display the content of the file"
      ],
      "metadata": {
        "id": "kpLCfWr4Btvv"
      },
      "execution_count": null,
      "outputs": []
    },
    {
      "cell_type": "code",
      "source": [
        "# Write a function that print all the unique words per line in the file"
      ],
      "metadata": {
        "id": "dNORmz4aCm9E"
      },
      "execution_count": null,
      "outputs": []
    },
    {
      "cell_type": "code",
      "source": [
        "# Write a function that print all the unique words in the file"
      ],
      "metadata": {
        "id": "Uovg4L3XCr1F"
      },
      "execution_count": null,
      "outputs": []
    }
  ]
}