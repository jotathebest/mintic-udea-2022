{
  "nbformat": 4,
  "nbformat_minor": 0,
  "metadata": {
    "colab": {
      "name": "functions_2.ipynb",
      "provenance": []
    },
    "kernelspec": {
      "name": "python3",
      "display_name": "Python 3"
    },
    "language_info": {
      "name": "python"
    }
  },
  "cells": [
    {
      "cell_type": "code",
      "source": [
        "print(12 % 3)"
      ],
      "metadata": {
        "colab": {
          "base_uri": "https://localhost:8080/"
        },
        "id": "KES4oL3CWBsX",
        "outputId": "ed9af447-397f-4e05-edea-17a8bd0c295c"
      },
      "execution_count": 3,
      "outputs": [
        {
          "output_type": "stream",
          "name": "stdout",
          "text": [
            "0\n"
          ]
        }
      ]
    },
    {
      "cell_type": "code",
      "execution_count": 4,
      "metadata": {
        "id": "mkc8RaZfUKAv"
      },
      "outputs": [],
      "source": [
        "def is_multiple(number, multiplier):\n",
        "    result = number % multiplier\n",
        "    last_result = result == 0\n",
        "    return last_result\n",
        "\n",
        "def is_multiple(number, multiplier):\n",
        "    result = number % multiplier\n",
        "    if result == 0:\n",
        "        return True\n",
        "    else:\n",
        "        return False\n",
        "\n",
        "def is_my_name(name):\n",
        "    return name == \"jose\""
      ]
    },
    {
      "cell_type": "code",
      "source": [
        "result = is_my_name(\"jose\")\n",
        "print(result)"
      ],
      "metadata": {
        "colab": {
          "base_uri": "https://localhost:8080/"
        },
        "id": "BSX8oGCaWiWd",
        "outputId": "677d242b-b195-414b-8e69-9e85d26a64e6"
      },
      "execution_count": 6,
      "outputs": [
        {
          "output_type": "stream",
          "name": "stdout",
          "text": [
            "True\n"
          ]
        }
      ]
    },
    {
      "cell_type": "code",
      "source": [
        "nothing = None\n",
        "\n",
        "print(nothing == 1)"
      ],
      "metadata": {
        "colab": {
          "base_uri": "https://localhost:8080/"
        },
        "id": "JmhCrbb-XEJw",
        "outputId": "d5bbfc34-5244-4d6b-8a78-c28a2b0aca99"
      },
      "execution_count": 9,
      "outputs": [
        {
          "output_type": "stream",
          "name": "stdout",
          "text": [
            "False\n"
          ]
        }
      ]
    },
    {
      "cell_type": "code",
      "source": [
        "def my_function(name):\n",
        "    print(name)\n",
        "    return None"
      ],
      "metadata": {
        "id": "JcpJDbOOXfpG"
      },
      "execution_count": 10,
      "outputs": []
    },
    {
      "cell_type": "code",
      "source": [
        "my_value = my_function(\"jose\")\n",
        "print(my_value)"
      ],
      "metadata": {
        "colab": {
          "base_uri": "https://localhost:8080/"
        },
        "id": "Riyi6tTCXkeP",
        "outputId": "dffc6f08-358e-4f6a-f8a1-d80a73ea628a"
      },
      "execution_count": 12,
      "outputs": [
        {
          "output_type": "stream",
          "name": "stdout",
          "text": [
            "jose\n",
            "None\n"
          ]
        }
      ]
    },
    {
      "cell_type": "code",
      "source": [
        "def my_function(name):\n",
        "    if name == \"jose\":\n",
        "        print(\"adivinaste\")\n"
      ],
      "metadata": {
        "id": "ox5ORAOeX8i6"
      },
      "execution_count": 17,
      "outputs": []
    },
    {
      "cell_type": "code",
      "source": [
        "result = my_function(\"sara\")\n",
        "if result == None:\n",
        "    print(\"no adivinaste\")"
      ],
      "metadata": {
        "colab": {
          "base_uri": "https://localhost:8080/"
        },
        "id": "Sw_vTzQyYF9c",
        "outputId": "17ed1c03-a217-4f92-bb81-cfddf608aea5"
      },
      "execution_count": 14,
      "outputs": [
        {
          "output_type": "stream",
          "name": "stdout",
          "text": [
            "no adivinaste\n"
          ]
        }
      ]
    },
    {
      "cell_type": "code",
      "source": [
        "import numpy as np\n",
        "\n",
        "row_1 = [\"jose\", \"garcia\", \"medellin\"]\n",
        "row_2 = [\"carolina\", \"perez\", None]\n",
        "\n",
        "my_matrix = np.array([row_1, row_2])"
      ],
      "metadata": {
        "id": "cKM9RQdQYtQC"
      },
      "execution_count": 15,
      "outputs": []
    }
  ]
}