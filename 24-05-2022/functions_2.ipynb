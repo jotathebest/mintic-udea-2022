{
  "nbformat": 4,
  "nbformat_minor": 0,
  "metadata": {
    "colab": {
      "name": "functions_2.ipynb",
      "provenance": []
    },
    "kernelspec": {
      "name": "python3",
      "display_name": "Python 3"
    },
    "language_info": {
      "name": "python"
    }
  },
  "cells": [
    {
      "cell_type": "code",
      "source": [
        "print(12 % 3)"
      ],
      "metadata": {
        "colab": {
          "base_uri": "https://localhost:8080/"
        },
        "id": "KES4oL3CWBsX",
        "outputId": "ed9af447-397f-4e05-edea-17a8bd0c295c"
      },
      "execution_count": 3,
      "outputs": [
        {
          "output_type": "stream",
          "name": "stdout",
          "text": [
            "0\n"
          ]
        }
      ]
    },
    {
      "cell_type": "code",
      "execution_count": 4,
      "metadata": {
        "id": "mkc8RaZfUKAv"
      },
      "outputs": [],
      "source": [
        "def is_multiple(number, multiplier):\n",
        "    result = number % multiplier\n",
        "    last_result = result == 0\n",
        "    return last_result\n",
        "\n",
        "def is_multiple(number, multiplier):\n",
        "    result = number % multiplier\n",
        "    if result == 0:\n",
        "        return True\n",
        "    else:\n",
        "        return False\n",
        "\n",
        "def is_my_name(name):\n",
        "    return name == \"jose\""
      ]
    },
    {
      "cell_type": "code",
      "source": [
        "result = is_my_name(\"jose\")\n",
        "print(result)"
      ],
      "metadata": {
        "colab": {
          "base_uri": "https://localhost:8080/"
        },
        "id": "BSX8oGCaWiWd",
        "outputId": "677d242b-b195-414b-8e69-9e85d26a64e6"
      },
      "execution_count": 6,
      "outputs": [
        {
          "output_type": "stream",
          "name": "stdout",
          "text": [
            "True\n"
          ]
        }
      ]
    },
    {
      "cell_type": "code",
      "source": [
        "nothing = None\n",
        "\n",
        "print(nothing == 1)"
      ],
      "metadata": {
        "colab": {
          "base_uri": "https://localhost:8080/"
        },
        "id": "JmhCrbb-XEJw",
        "outputId": "d5bbfc34-5244-4d6b-8a78-c28a2b0aca99"
      },
      "execution_count": 9,
      "outputs": [
        {
          "output_type": "stream",
          "name": "stdout",
          "text": [
            "False\n"
          ]
        }
      ]
    },
    {
      "cell_type": "code",
      "source": [
        "def my_function(name):\n",
        "    print(name)\n",
        "    return None"
      ],
      "metadata": {
        "id": "JcpJDbOOXfpG"
      },
      "execution_count": 10,
      "outputs": []
    },
    {
      "cell_type": "code",
      "source": [
        "my_value = my_function(\"jose\")\n",
        "print(my_value)"
      ],
      "metadata": {
        "colab": {
          "base_uri": "https://localhost:8080/"
        },
        "id": "Riyi6tTCXkeP",
        "outputId": "dffc6f08-358e-4f6a-f8a1-d80a73ea628a"
      },
      "execution_count": 12,
      "outputs": [
        {
          "output_type": "stream",
          "name": "stdout",
          "text": [
            "jose\n",
            "None\n"
          ]
        }
      ]
    },
    {
      "cell_type": "code",
      "source": [
        "def my_function(name):\n",
        "    if name == \"jose\":\n",
        "        print(\"adivinaste\")\n"
      ],
      "metadata": {
        "id": "ox5ORAOeX8i6"
      },
      "execution_count": 17,
      "outputs": []
    },
    {
      "cell_type": "code",
      "source": [
        "result = my_function(\"sara\")\n",
        "if result == None:\n",
        "    print(\"no adivinaste\")"
      ],
      "metadata": {
        "colab": {
          "base_uri": "https://localhost:8080/"
        },
        "id": "Sw_vTzQyYF9c",
        "outputId": "17ed1c03-a217-4f92-bb81-cfddf608aea5"
      },
      "execution_count": 14,
      "outputs": [
        {
          "output_type": "stream",
          "name": "stdout",
          "text": [
            "no adivinaste\n"
          ]
        }
      ]
    },
    {
      "cell_type": "code",
      "source": [
        "import numpy as np\n",
        "\n",
        "row_1 = [\"jose\", \"garcia\", \"medellin\"]\n",
        "row_2 = [\"carolina\", \"perez\", None]\n",
        "\n",
        "my_matrix = np.array([row_1, row_2])\n",
        "print(my_matrix)"
      ],
      "metadata": {
        "colab": {
          "base_uri": "https://localhost:8080/"
        },
        "id": "cKM9RQdQYtQC",
        "outputId": "1b964f96-fa80-4564-a92e-60542042e3c4"
      },
      "execution_count": 19,
      "outputs": [
        {
          "output_type": "stream",
          "name": "stdout",
          "text": [
            "[['jose' 'garcia' 'medellin']\n",
            " ['carolina' 'perez' None]]\n"
          ]
        }
      ]
    },
    {
      "cell_type": "code",
      "source": [
        "# variable scope\n",
        "\n",
        "# local variable\n",
        "\n",
        "def my_function(name):\n",
        "    pepito = name * 2\n",
        "    print(pepito)\n",
        "\n",
        "# my_function(\"jose\")\n",
        "#print(pepito)\n",
        "\n",
        "# global variable\n",
        "\n",
        "outside_name = \"jose\"\n",
        "my_function(outside_name)\n",
        "print(outside_name)\n",
        "\n"
      ],
      "metadata": {
        "colab": {
          "base_uri": "https://localhost:8080/"
        },
        "id": "DSKY9yDAaIzx",
        "outputId": "a8a08328-938c-43cf-c866-62d4862a11ca"
      },
      "execution_count": 27,
      "outputs": [
        {
          "output_type": "stream",
          "name": "stdout",
          "text": [
            "josejose\n",
            "jose\n"
          ]
        }
      ]
    },
    {
      "cell_type": "code",
      "source": [
        "outside_name = \"jose\"\n",
        "another_name = \"carolina\"\n",
        "\n",
        "print(outside_name)\n",
        "\n",
        "def my_global_function():\n",
        "    global outside_name, another_name\n",
        "    another_name = \"carolina2\"\n",
        "\n",
        "my_global_function()\n",
        "\n",
        "print(outside_name)\n",
        "print(another_name)\n"
      ],
      "metadata": {
        "colab": {
          "base_uri": "https://localhost:8080/"
        },
        "id": "8i0qEKz2bsVW",
        "outputId": "c2b94814-8e88-4d73-cb65-6aee545a5f3b"
      },
      "execution_count": 41,
      "outputs": [
        {
          "output_type": "stream",
          "name": "stdout",
          "text": [
            "jose\n",
            "jose\n",
            "carolina2\n"
          ]
        }
      ]
    },
    {
      "cell_type": "code",
      "source": [
        "my_global_function()"
      ],
      "metadata": {
        "colab": {
          "base_uri": "https://localhost:8080/"
        },
        "id": "j9xMHlDfb3_7",
        "outputId": "8d353c96-b709-4551-9f0d-f3900128c493"
      },
      "execution_count": 30,
      "outputs": [
        {
          "output_type": "stream",
          "name": "stdout",
          "text": [
            "jose\n"
          ]
        }
      ]
    },
    {
      "cell_type": "code",
      "source": [
        "name = input(\"insert your name: \")\n",
        "\n",
        "def change_name():\n",
        "    global name\n",
        "    name = \"sebastian\"\n",
        "\n",
        "change_name()\n",
        "\n",
        "if name == \"jose\":\n",
        "    print(\"Ganaste!\")\n",
        "else:\n",
        "    print(\"pierdes\")"
      ],
      "metadata": {
        "colab": {
          "base_uri": "https://localhost:8080/"
        },
        "id": "e6BactSdfsJh",
        "outputId": "851d2033-6412-4782-f19c-d4ac3048d643"
      },
      "execution_count": 45,
      "outputs": [
        {
          "output_type": "stream",
          "name": "stdout",
          "text": [
            "insert your name: jose\n",
            "pierdes\n"
          ]
        }
      ]
    },
    {
      "cell_type": "code",
      "source": [
        "def my_function(arg1, arg2, arg3):\n",
        "    print(arg1, arg2, arg3)\n",
        "\n",
        "my_function(\"jose\", True, \"medellin\")"
      ],
      "metadata": {
        "colab": {
          "base_uri": "https://localhost:8080/"
        },
        "id": "Y3Yf1gjSgXjE",
        "outputId": "2043bc95-52c0-45e3-df87-3b97cd927763"
      },
      "execution_count": 46,
      "outputs": [
        {
          "output_type": "stream",
          "name": "stdout",
          "text": [
            "jose True medellin\n"
          ]
        }
      ]
    },
    {
      "cell_type": "code",
      "source": [
        "def my_function(*my_tuple):\n",
        "    print(my_tuple[0])\n",
        "\n",
        "def my_function(*args):\n",
        "    print(args[0])\n",
        "\n",
        "my_function(\"jose\", True, \"medellin\")\n",
        "\n"
      ],
      "metadata": {
        "colab": {
          "base_uri": "https://localhost:8080/"
        },
        "id": "GL_6DKqsgnSh",
        "outputId": "cc00296c-07dd-4251-dee0-e67baa5476be"
      },
      "execution_count": 53,
      "outputs": [
        {
          "output_type": "stream",
          "name": "stdout",
          "text": [
            "jose\n"
          ]
        }
      ]
    },
    {
      "cell_type": "code",
      "source": [
        "my_dict = {\"name\": \"jose\", \"surname\": \"garcia\", \"city\": \"medellin\"}\n",
        "\n",
        "def my_dict_function(name, surname, city):\n",
        "    print(name, surname, city)\n",
        "\n",
        "# my_dict_function(**my_dict)\n",
        "\n",
        "def my_dict_function(**kwargs):\n",
        "    name = kwargs[\"name\"]\n",
        "    surname = kwargs[\"surname\"]\n",
        "    city = kwargs[\"city\"]\n",
        "    print(name, surname, city)\n",
        "\n",
        "my_dict_function(name=\"jose\", surname=\"garcia\", city=\"medellin\")"
      ],
      "metadata": {
        "colab": {
          "base_uri": "https://localhost:8080/"
        },
        "id": "Dc1KtvsVizgj",
        "outputId": "1a5b6d94-debb-485a-a45f-7770d2b792e3"
      },
      "execution_count": 72,
      "outputs": [
        {
          "output_type": "stream",
          "name": "stdout",
          "text": [
            "jose garcia medellin\n"
          ]
        }
      ]
    },
    {
      "cell_type": "code",
      "source": [
        "my_tuple = (\"jose\", \"garcia\")\n",
        "print(my_tuple[0])"
      ],
      "metadata": {
        "colab": {
          "base_uri": "https://localhost:8080/"
        },
        "id": "SiOqPYd5haY2",
        "outputId": "044f79e5-0e97-43c4-fab5-c1b16885f0c5"
      },
      "execution_count": 52,
      "outputs": [
        {
          "output_type": "stream",
          "name": "stdout",
          "text": [
            "jose\n"
          ]
        }
      ]
    },
    {
      "cell_type": "code",
      "source": [
        "import random\n",
        "print(random.choice((\"jose\", \"garcia\", \"medellin\")))\n",
        "print(random.shuffle([\"jose\", \"garcia\", \"medellin\"]))"
      ],
      "metadata": {
        "colab": {
          "base_uri": "https://localhost:8080/"
        },
        "id": "bSHV-h44h47E",
        "outputId": "aa7c92bb-c4f0-4cfc-e53a-fbf964679685"
      },
      "execution_count": 67,
      "outputs": [
        {
          "output_type": "stream",
          "name": "stdout",
          "text": [
            "medellin\n",
            "None\n"
          ]
        }
      ]
    }
  ]
}