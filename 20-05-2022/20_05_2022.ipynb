{
  "nbformat": 4,
  "nbformat_minor": 0,
  "metadata": {
    "colab": {
      "name": "20-05-2022.ipynb",
      "provenance": []
    },
    "kernelspec": {
      "name": "python3",
      "display_name": "Python 3"
    },
    "language_info": {
      "name": "python"
    }
  },
  "cells": [
    {
      "cell_type": "code",
      "execution_count": 1,
      "metadata": {
        "id": "-CUjg7E-xrAL"
      },
      "outputs": [],
      "source": [
        "def my_function_name(arg1, arg2, arg3):\n",
        "    print(arg1, arg2, arg3)"
      ]
    },
    {
      "cell_type": "code",
      "source": [
        "my_function_name(\"jose\", \"garcia\", \"delgado\")"
      ],
      "metadata": {
        "colab": {
          "base_uri": "https://localhost:8080/"
        },
        "id": "_J58QheYyCY4",
        "outputId": "a57ba52e-f024-4b89-fc21-3ab49193661c"
      },
      "execution_count": 2,
      "outputs": [
        {
          "output_type": "stream",
          "name": "stdout",
          "text": [
            "jose garcia delgado\n"
          ]
        }
      ]
    },
    {
      "cell_type": "code",
      "source": [
        "def calculate_square(N):\n",
        "    square = N ** 2\n",
        "    return square"
      ],
      "metadata": {
        "id": "x1vE5C_-yHBz"
      },
      "execution_count": 3,
      "outputs": []
    },
    {
      "cell_type": "code",
      "source": [
        "square_number_1 = calculate_square(20)\n",
        "square_number_2 = calculate_square(50)\n",
        "\n",
        "print(square_number_1, square_number_2)"
      ],
      "metadata": {
        "colab": {
          "base_uri": "https://localhost:8080/"
        },
        "id": "m2RdCBfMyQJt",
        "outputId": "f54d3d43-c5f6-48ed-cb9a-247a45943bd1"
      },
      "execution_count": 4,
      "outputs": [
        {
          "output_type": "stream",
          "name": "stdout",
          "text": [
            "400 2500\n"
          ]
        }
      ]
    },
    {
      "cell_type": "code",
      "source": [
        "def is_a_number(item):\n",
        "    is_a_int = type(item) == int  # True or False\n",
        "    is_a_float = type(item) == float  # True or False\n",
        "\n",
        "    return is_a_int or is_a_float\n",
        "\n",
        "def my_function(a_list):\n",
        "    result = []\n",
        "    for item in a_list:\n",
        "        if is_a_number(item):\n",
        "            item = item * 2\n",
        "        result.append(item)\n",
        "    \n",
        "    print(result)"
      ],
      "metadata": {
        "id": "LOnnyiqXyfW3"
      },
      "execution_count": null,
      "outputs": []
    },
    {
      "cell_type": "code",
      "source": [
        "def print_my_full_name(name, surname, N = 1, M = 5, Z = 10):\n",
        "    full_name = name + \" \" + surname\n",
        "    print(full_name * N)"
      ],
      "metadata": {
        "id": "oPoR-A-V0cD8"
      },
      "execution_count": 5,
      "outputs": []
    },
    {
      "cell_type": "code",
      "source": [
        "print_my_full_name(\"jose\", \"garcia\")\n",
        "print_my_full_name(\"jose\", \"garcia\", N = 3)"
      ],
      "metadata": {
        "colab": {
          "base_uri": "https://localhost:8080/"
        },
        "id": "aA4meJ1H1JvZ",
        "outputId": "576bedab-73a4-4c5d-c52e-4c317897d20e"
      },
      "execution_count": 7,
      "outputs": [
        {
          "output_type": "stream",
          "name": "stdout",
          "text": [
            "jose garcia\n",
            "jose garciajose garciajose garcia\n"
          ]
        }
      ]
    },
    {
      "cell_type": "code",
      "source": [
        "# Exercise 6\n",
        "\n",
        "# Write a Python function to multiply all the numbers in a list. \n",
        "# The result may be optionally be multiplied by another number given by the user, N = 1\n",
        "# Sample List : [8, 2, 3, -1, 7]\n",
        "# Expected Output : -336\n",
        "\n",
        "\n",
        "def multiplier(a_list, N = 1):\n",
        "    result = 1\n",
        "    for number in a_list:\n",
        "        result *= number\n",
        "    \n",
        "    return result * N\n",
        "\n",
        "my_result = multiplier([8, 2, 3, -1, 7], N = -1)\n",
        "print(my_result)"
      ],
      "metadata": {
        "colab": {
          "base_uri": "https://localhost:8080/"
        },
        "id": "P2dhMAk011_m",
        "outputId": "63ace1e5-d191-4f48-bd70-f094a4ed86ad"
      },
      "execution_count": 10,
      "outputs": [
        {
          "output_type": "stream",
          "name": "stdout",
          "text": [
            "336\n"
          ]
        }
      ]
    },
    {
      "cell_type": "code",
      "source": [
        "# Exercise 7\n",
        "\n",
        "# Write a Python program to reverse a string\n",
        "# Sample String : \"1234abcd\"\n",
        "# Expected Output : \"dcba4321\"\n",
        "\n",
        "def reverse_str(a_str):\n",
        "    max_position = len(a_str)\n",
        "    result = \"\"\n",
        "    for index in range(1, max_position + 1):\n",
        "        result += a_str[-index]\n",
        "    return result\n",
        "\n",
        "my_reversed_str = reverse_str(\"JoseGarcia\")\n",
        "print(my_reversed_str)"
      ],
      "metadata": {
        "colab": {
          "base_uri": "https://localhost:8080/"
        },
        "id": "wg6bJgyZ4s6D",
        "outputId": "aa270e04-5b17-4834-ff39-144a13a3a0d3"
      },
      "execution_count": 17,
      "outputs": [
        {
          "output_type": "stream",
          "name": "stdout",
          "text": [
            "aicraGesoJ\n"
          ]
        }
      ]
    },
    {
      "cell_type": "code",
      "source": [
        "my_str = \"ABCD\"\n",
        "print(my_str[-4])\n",
        "print(len(my_str))"
      ],
      "metadata": {
        "colab": {
          "base_uri": "https://localhost:8080/"
        },
        "id": "CoyanmNS577B",
        "outputId": "32939672-313e-4bbf-bd21-b33614b69292"
      },
      "execution_count": 16,
      "outputs": [
        {
          "output_type": "stream",
          "name": "stdout",
          "text": [
            "A\n",
            "4\n"
          ]
        }
      ]
    }
  ]
}